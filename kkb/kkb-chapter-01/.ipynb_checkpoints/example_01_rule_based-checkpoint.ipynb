{
 "cells": [
  {
   "cell_type": "code",
   "execution_count": 9,
   "metadata": {},
   "outputs": [],
   "source": [
    "#Jupyter中打印所有结果\n",
    "from IPython.core.interactiveshell import InteractiveShell\n",
    "InteractiveShell.ast_node_interactivity = \"all\""
   ]
  },
  {
   "cell_type": "code",
   "execution_count": 10,
   "metadata": {},
   "outputs": [
    {
     "ename": "ModuleNotFoundError",
     "evalue": "No module named 'icecream'",
     "output_type": "error",
     "traceback": [
      "\u001b[1;31m---------------------------------------------------------------------------\u001b[0m",
      "\u001b[1;31mModuleNotFoundError\u001b[0m                       Traceback (most recent call last)",
      "\u001b[1;32m<ipython-input-10-28ac0482fd1c>\u001b[0m in \u001b[0;36m<module>\u001b[1;34m\u001b[0m\n\u001b[0;32m      1\u001b[0m \u001b[1;32mimport\u001b[0m \u001b[0mrandom\u001b[0m\u001b[1;33m\u001b[0m\u001b[1;33m\u001b[0m\u001b[0m\n\u001b[1;32m----> 2\u001b[1;33m \u001b[1;32mfrom\u001b[0m \u001b[0micecream\u001b[0m \u001b[1;32mimport\u001b[0m \u001b[0mic\u001b[0m\u001b[1;33m\u001b[0m\u001b[1;33m\u001b[0m\u001b[0m\n\u001b[0m",
      "\u001b[1;31mModuleNotFoundError\u001b[0m: No module named 'icecream'"
     ]
    }
   ],
   "source": [
    "import random \n",
    "from icecream import ic"
   ]
  },
  {
   "cell_type": "code",
   "execution_count": 3,
   "metadata": {},
   "outputs": [],
   "source": [
    "#rules = \"\"\"\n",
    "#复合句子 = 句子 , 连词 句子\n",
    "#连词 = 而且 | 但是 | 不过\n",
    "#句子 = 主语 谓语 宾语\n",
    "#主语 = 你| 我 | 他 \n",
    "#谓语 = 吃| 玩 \n",
    "#宾语 = 桃子| 皮球\n",
    "#    \n",
    "#\"\"\""
   ]
  },
  {
   "cell_type": "code",
   "execution_count": 4,
   "metadata": {},
   "outputs": [],
   "source": [
    "rules = \"\"\"\n",
    "复合句子 = 句子 , 连词 句子\n",
    "连词 = 而且 | 但是 | 不过\n",
    "句子 = 主语 谓语 宾语\n",
    "主语 = 你| 我 | 他 \n",
    "谓语 = 吃| 玩 \n",
    "宾语 = 桃子| 皮球\n",
    "   \n",
    "\"\"\""
   ]
  },
  {
   "cell_type": "code",
   "execution_count": 5,
   "metadata": {},
   "outputs": [],
   "source": [
    "def get_grammer_by_description(description):\n",
    "    rules_pattern = [r.split('=') for r in description.split('\\n') if r.strip()]\n",
    "    target_with_expend = [(t, ex.split('|')) for t, ex in rules_pattern]\n",
    "    grammer = {t.strip(): [e.strip() for e in ex] for t, ex in target_with_expend}\n",
    "    return grammer"
   ]
  },
  {
   "cell_type": "code",
   "execution_count": 6,
   "metadata": {},
   "outputs": [],
   "source": [
    "#generated = [t for t in random.choice(grammer['句子']).split()]\n",
    "#test_v = [t for t in random.choice(grammer['谓语']).split()]"
   ]
  },
  {
   "cell_type": "code",
   "execution_count": 7,
   "metadata": {},
   "outputs": [],
   "source": [
    "def generate_by_grammer(grammer, target='句子'):\n",
    "    if target not in grammer: return target\n",
    "\n",
    "    return ''.join([generate_by_grammer(grammer, t) for t in random.choice(grammer[target]).split()])"
   ]
  },
  {
   "cell_type": "code",
   "execution_count": 8,
   "metadata": {},
   "outputs": [
    {
     "ename": "NameError",
     "evalue": "name 'ic' is not defined",
     "output_type": "error",
     "traceback": [
      "\u001b[1;31m---------------------------------------------------------------------------\u001b[0m",
      "\u001b[1;31mNameError\u001b[0m                                 Traceback (most recent call last)",
      "\u001b[1;32m<ipython-input-8-7d1da96b3700>\u001b[0m in \u001b[0;36m<module>\u001b[1;34m\u001b[0m\n\u001b[0;32m      5\u001b[0m \u001b[1;31m# ic(generate_by_grammer(grammer))\u001b[0m\u001b[1;33m\u001b[0m\u001b[1;33m\u001b[0m\u001b[1;33m\u001b[0m\u001b[0m\n\u001b[0;32m      6\u001b[0m \u001b[1;33m\u001b[0m\u001b[0m\n\u001b[1;32m----> 7\u001b[1;33m \u001b[0mic\u001b[0m\u001b[1;33m(\u001b[0m\u001b[0mgenerate_by_grammer\u001b[0m\u001b[1;33m(\u001b[0m\u001b[0mgrammer\u001b[0m\u001b[1;33m,\u001b[0m \u001b[0mtarget\u001b[0m\u001b[1;33m=\u001b[0m\u001b[1;34m'复合句子'\u001b[0m\u001b[1;33m)\u001b[0m\u001b[1;33m)\u001b[0m\u001b[1;33m\u001b[0m\u001b[1;33m\u001b[0m\u001b[0m\n\u001b[0m",
      "\u001b[1;31mNameError\u001b[0m: name 'ic' is not defined"
     ]
    }
   ],
   "source": [
    "grammer = get_grammer_by_description(rules)\n",
    "\n",
    "# ic(generated)\n",
    "# ic(test_v)\n",
    "# ic(generate_by_grammer(grammer))\n",
    "\n",
    "ic(generate_by_grammer(grammer, target='复合句子'))"
   ]
  },
  {
   "cell_type": "code",
   "execution_count": null,
   "metadata": {},
   "outputs": [],
   "source": []
  }
 ],
 "metadata": {
  "kernelspec": {
   "display_name": "Python 3",
   "language": "python",
   "name": "python3"
  },
  "language_info": {
   "codemirror_mode": {
    "name": "ipython",
    "version": 3
   },
   "file_extension": ".py",
   "mimetype": "text/x-python",
   "name": "python",
   "nbconvert_exporter": "python",
   "pygments_lexer": "ipython3",
   "version": "3.8.5"
  }
 },
 "nbformat": 4,
 "nbformat_minor": 5
}
