{
 "cells": [
  {
   "cell_type": "code",
   "execution_count": 9,
   "metadata": {},
   "outputs": [],
   "source": [
    "#Jupyter中打印所有结果\n",
    "from IPython.core.interactiveshell import InteractiveShell\n",
    "InteractiveShell.ast_node_interactivity = \"all\""
   ]
  },
  {
   "cell_type": "code",
   "execution_count": 11,
   "metadata": {},
   "outputs": [],
   "source": [
    "import random \n",
    "from icecream import ic"
   ]
  },
  {
   "cell_type": "code",
   "execution_count": 12,
   "metadata": {},
   "outputs": [],
   "source": [
    "#rules = \"\"\"\n",
    "#复合句子 = 句子 , 连词 句子\n",
    "#连词 = 而且 | 但是 | 不过\n",
    "#句子 = 主语 谓语 宾语\n",
    "#主语 = 你| 我 | 他 \n",
    "#谓语 = 吃| 玩 \n",
    "#宾语 = 桃子| 皮球\n",
    "#    \n",
    "#\"\"\""
   ]
  },
  {
   "cell_type": "code",
   "execution_count": 25,
   "metadata": {},
   "outputs": [],
   "source": [
    "rules = \"\"\"\n",
    "复合句子 = 句子 , 连词 句子\n",
    "连词 = 而且 | 但是 | 不过\n",
    "句子 = 主语 谓语 宾语\n",
    "主语 = 你| 我 | 他 \n",
    "谓语 = 吃| 玩 \n",
    "宾语 = 桃子| 皮球\n",
    "   \n",
    "\"\"\""
   ]
  },
  {
   "cell_type": "code",
   "execution_count": 39,
   "metadata": {},
   "outputs": [],
   "source": [
    "def get_grammer_by_description(description):\n",
    "    rules_pattern = [r.split('=') for r in description.split('\\n') if r.strip()]\n",
    "#     print(rules_pattern)\n",
    "    target_with_expend = [(t, ex.split('|')) for t, ex in rules_pattern]\n",
    "#     print(target_with_expend)\n",
    "    grammer = {t.strip(): [e.strip() for e in ex] for t, ex in target_with_expend}\n",
    "    print(grammer)\n",
    "    return grammer"
   ]
  },
  {
   "cell_type": "code",
   "execution_count": 28,
   "metadata": {},
   "outputs": [],
   "source": [
    "#generated = [t for t in random.choice(grammer['句子']).split()]\n",
    "#test_v = [t for t in random.choice(grammer['谓语']).split()]"
   ]
  },
  {
   "cell_type": "code",
   "execution_count": 37,
   "metadata": {},
   "outputs": [],
   "source": [
    "def generate_by_grammer(grammer, target='句子'):\n",
    "    if target not in grammer: return target\n",
    "    print(random.choice(grammer[target]).split())\n",
    "    return ''.join([generate_by_grammer(grammer, t) for t in random.choice(grammer[target]).split()])"
   ]
  },
  {
   "cell_type": "code",
   "execution_count": 40,
   "metadata": {},
   "outputs": [
    {
     "name": "stderr",
     "output_type": "stream",
     "text": [
      "ic| generate_by_grammer(grammer, target='复合句子'): '我玩皮球,不过我吃皮球'\n"
     ]
    },
    {
     "name": "stdout",
     "output_type": "stream",
     "text": [
      "{'复合句子': ['句子 , 连词 句子'], '连词': ['而且', '但是', '不过'], '句子': ['主语 谓语 宾语'], '主语': ['你', '我', '他'], '谓语': ['吃', '玩'], '宾语': ['桃子', '皮球']}\n",
      "['句子', ',', '连词', '句子']\n",
      "['主语', '谓语', '宾语']\n",
      "['他']\n",
      "['吃']\n",
      "['皮球']\n",
      "['但是']\n",
      "['主语', '谓语', '宾语']\n",
      "['你']\n",
      "['玩']\n",
      "['皮球']\n"
     ]
    },
    {
     "data": {
      "text/plain": [
       "'我玩皮球,不过我吃皮球'"
      ]
     },
     "execution_count": 40,
     "metadata": {},
     "output_type": "execute_result"
    }
   ],
   "source": [
    "grammer = get_grammer_by_description(rules)\n",
    "\n",
    "# ic(generated)\n",
    "# ic(test_v)\n",
    "# ic(generate_by_grammer(grammer))\n",
    "\n",
    "ic(generate_by_grammer(grammer, target='复合句子'))"
   ]
  },
  {
   "cell_type": "code",
   "execution_count": null,
   "metadata": {},
   "outputs": [],
   "source": []
  }
 ],
 "metadata": {
  "kernelspec": {
   "display_name": "Python 3",
   "language": "python",
   "name": "python3"
  },
  "language_info": {
   "codemirror_mode": {
    "name": "ipython",
    "version": 3
   },
   "file_extension": ".py",
   "mimetype": "text/x-python",
   "name": "python",
   "nbconvert_exporter": "python",
   "pygments_lexer": "ipython3",
   "version": "3.8.5"
  }
 },
 "nbformat": 4,
 "nbformat_minor": 5
}
