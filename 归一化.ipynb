{
 "cells": [
  {
   "cell_type": "code",
   "execution_count": 1,
   "metadata": {},
   "outputs": [],
   "source": [
    "import numpy as np"
   ]
  },
  {
   "cell_type": "code",
   "execution_count": 33,
   "metadata": {},
   "outputs": [],
   "source": [
    "from sklearn import datasets \n",
    "import matplotlib.pyplot as plt"
   ]
  },
  {
   "cell_type": "code",
   "execution_count": 4,
   "metadata": {},
   "outputs": [],
   "source": [
    "iris = datasets.load_iris()"
   ]
  },
  {
   "cell_type": "code",
   "execution_count": 5,
   "metadata": {},
   "outputs": [],
   "source": [
    "X = iris.data"
   ]
  },
  {
   "cell_type": "code",
   "execution_count": 6,
   "metadata": {},
   "outputs": [],
   "source": [
    "y = iris.target"
   ]
  },
  {
   "cell_type": "code",
   "execution_count": 8,
   "metadata": {},
   "outputs": [
    {
     "data": {
      "text/plain": [
       "4"
      ]
     },
     "execution_count": 8,
     "metadata": {},
     "output_type": "execute_result"
    }
   ],
   "source": [
    "X.shape[1]"
   ]
  },
  {
   "cell_type": "code",
   "execution_count": 23,
   "metadata": {},
   "outputs": [],
   "source": [
    "mean_ = np.array([np.mean(X[:, i]) for i in range(X.shape[1])])"
   ]
  },
  {
   "cell_type": "code",
   "execution_count": 26,
   "metadata": {},
   "outputs": [],
   "source": [
    "scale_ = np.array([np.std(X[:, i]) for i in range(X.shape[1])])"
   ]
  },
  {
   "cell_type": "code",
   "execution_count": 27,
   "metadata": {},
   "outputs": [
    {
     "data": {
      "text/plain": [
       "array([0.82530129, 0.43441097, 1.75940407, 0.75969263])"
      ]
     },
     "execution_count": 27,
     "metadata": {},
     "output_type": "execute_result"
    }
   ],
   "source": [
    "scale_"
   ]
  },
  {
   "cell_type": "code",
   "execution_count": 28,
   "metadata": {},
   "outputs": [],
   "source": [
    "resX = np.empty(shape = X.shape, dtype = float)"
   ]
  },
  {
   "cell_type": "code",
   "execution_count": 51,
   "metadata": {},
   "outputs": [],
   "source": [
    "for col in range(0,X.shape[1]):\n",
    "      resX[:,col] = (X[:,col] - mean_[col])/scale_[col]"
   ]
  },
  {
   "cell_type": "code",
   "execution_count": 52,
   "metadata": {},
   "outputs": [
    {
     "data": {
      "text/plain": [
       "(array([ 1.,  3.,  1.,  4.,  2.,  5.,  6., 10.,  9.,  0.,  4.,  1.,  6.,\n",
       "         7.,  6.,  8.,  7.,  3.,  6.,  6.,  0.,  4.,  9.,  7.,  5.,  2.,\n",
       "         8.,  3.,  4.,  1.,  0.,  1.,  3.,  1.,  1.,  0.,  1.,  4.,  0.,\n",
       "         1.]),\n",
       " array([-1.87002413, -1.76097305, -1.65192197, -1.54287088, -1.4338198 ,\n",
       "        -1.32476872, -1.21571763, -1.10666655, -0.99761547, -0.88856438,\n",
       "        -0.7795133 , -0.67046222, -0.56141113, -0.45236005, -0.34330897,\n",
       "        -0.23425788, -0.1252068 , -0.01615572,  0.09289537,  0.20194645,\n",
       "         0.31099753,  0.42004862,  0.5290997 ,  0.63815078,  0.74720187,\n",
       "         0.85625295,  0.96530403,  1.07435512,  1.1834062 ,  1.29245728,\n",
       "         1.40150837,  1.51055945,  1.61961053,  1.72866162,  1.8377127 ,\n",
       "         1.94676379,  2.05581487,  2.16486595,  2.27391704,  2.38296812,\n",
       "         2.4920192 ]),\n",
       " <BarContainer object of 40 artists>)"
      ]
     },
     "execution_count": 52,
     "metadata": {},
     "output_type": "execute_result"
    },
    {
     "data": {
      "image/png": "[encoded data removed]",
      "text/plain": [
       "<Figure size 432x288 with 1 Axes>"
      ]
     },
     "metadata": {
      "needs_background": "light"
     },
     "output_type": "display_data"
    }
   ],
   "source": [
    "plt.hist(resX[:, 0], bins=40, color='blue')"
   ]
  },
  {
   "cell_type": "code",
   "execution_count": 53,
   "metadata": {},
   "outputs": [
    {
     "data": {
      "text/plain": [
       "(array([ 1.,  0.,  0.,  3.,  4.,  0.,  3.,  0.,  8.,  5.,  0.,  9.,  0.,\n",
       "        14., 10.,  0., 26.,  0., 11., 13.,  0.,  6.,  0., 12.,  6.,  0.,\n",
       "         4.,  0.,  3.,  6.,  0.,  2.,  0.,  1.,  1.,  0.,  1.,  0.,  0.,\n",
       "         1.]),\n",
       " array([-2.43394714, -2.29582908, -2.15771102, -2.01959296, -1.8814749 ,\n",
       "        -1.74335684, -1.60523878, -1.46712072, -1.32900266, -1.1908846 ,\n",
       "        -1.05276654, -0.91464848, -0.77653042, -0.63841237, -0.50029431,\n",
       "        -0.36217625, -0.22405819, -0.08594013,  0.05217793,  0.19029599,\n",
       "         0.32841405,  0.46653211,  0.60465017,  0.74276823,  0.88088629,\n",
       "         1.01900435,  1.15712241,  1.29524047,  1.43335853,  1.57147659,\n",
       "         1.70959465,  1.84771271,  1.98583077,  2.12394883,  2.26206689,\n",
       "         2.40018495,  2.53830301,  2.67642107,  2.81453913,  2.95265719,\n",
       "         3.09077525]),\n",
       " <BarContainer object of 40 artists>)"
      ]
     },
     "execution_count": 53,
     "metadata": {},
     "output_type": "execute_result"
    },
    {
     "data": {
      "image/png": "[encoded data removed]",
      "text/plain": [
       "<Figure size 432x288 with 1 Axes>"
      ]
     },
     "metadata": {
      "needs_background": "light"
     },
     "output_type": "display_data"
    }
   ],
   "source": [
    "plt.hist(resX[:, 1], bins=40, color='blue')"
   ]
  },
  {
   "cell_type": "code",
   "execution_count": 54,
   "metadata": {},
   "outputs": [
    {
     "data": {
      "text/plain": [
       "(array([ 2.,  2., 20., 13., 11.,  0.,  2.,  0.,  0.,  0.,  0.,  0.,  0.,\n",
       "         1.,  0.,  2.,  2.,  1.,  2.,  3.,  5.,  7.,  2., 12.,  3.,  9.,\n",
       "         5., 12.,  2.,  4.,  3.,  9.,  3.,  4.,  3.,  1.,  1.,  1.,  2.,\n",
       "         1.]),\n",
       " array([-1.56757623, -1.48374103, -1.39990582, -1.31607062, -1.23223542,\n",
       "        -1.14840021, -1.06456501, -0.9807298 , -0.8968946 , -0.81305939,\n",
       "        -0.72922419, -0.64538898, -0.56155378, -0.47771857, -0.39388337,\n",
       "        -0.31004816, -0.22621296, -0.14237775, -0.05854255,  0.02529265,\n",
       "         0.10912786,  0.19296306,  0.27679827,  0.36063347,  0.44446868,\n",
       "         0.52830388,  0.61213909,  0.69597429,  0.7798095 ,  0.8636447 ,\n",
       "         0.94747991,  1.03131511,  1.11515032,  1.19898552,  1.28282073,\n",
       "         1.36665593,  1.45049113,  1.53432634,  1.61816154,  1.70199675,\n",
       "         1.78583195]),\n",
       " <BarContainer object of 40 artists>)"
      ]
     },
     "execution_count": 54,
     "metadata": {},
     "output_type": "execute_result"
    },
    {
     "data": {
      "image/png": "[encoded data removed]",
      "text/plain": [
       "<Figure size 432x288 with 1 Axes>"
      ]
     },
     "metadata": {
      "needs_background": "light"
     },
     "output_type": "display_data"
    }
   ],
   "source": [
    "plt.hist(resX[:, 2], bins=40, color='blue')"
   ]
  },
  {
   "cell_type": "code",
   "execution_count": 57,
   "metadata": {},
   "outputs": [
    {
     "data": {
      "text/plain": [
       "(array([41.,  8.,  1.,  7., 21., 20.,  6., 23.,  9., 14.]),\n",
       " array([-1.44707648, -1.13115924, -0.81524199, -0.49932475, -0.18340751,\n",
       "         0.13250973,  0.44842697,  0.76434422,  1.08026146,  1.3961787 ,\n",
       "         1.71209594]),\n",
       " <BarContainer object of 10 artists>)"
      ]
     },
     "execution_count": 57,
     "metadata": {},
     "output_type": "execute_result"
    },
    {
     "data": {
      "image/png": "[encoded data removed]",
      "text/plain": [
       "<Figure size 432x288 with 1 Axes>"
      ]
     },
     "metadata": {
      "needs_background": "light"
     },
     "output_type": "display_data"
    }
   ],
   "source": [
    "plt.hist(resX[:, 3], bins=10, color='blue')"
   ]
  },
  {
   "cell_type": "code",
   "execution_count": null,
   "metadata": {},
   "outputs": [],
   "source": []
  }
 ],
 "metadata": {
  "kernelspec": {
   "display_name": "Python 3",
   "language": "python",
   "name": "python3"
  },
  "language_info": {
   "codemirror_mode": {
    "name": "ipython",
    "version": 3
   },
   "file_extension": ".py",
   "mimetype": "text/x-python",
   "name": "python",
   "nbconvert_exporter": "python",
   "pygments_lexer": "ipython3",
   "version": "3.8.5"
  }
 },
 "nbformat": 4,
 "nbformat_minor": 4
}
