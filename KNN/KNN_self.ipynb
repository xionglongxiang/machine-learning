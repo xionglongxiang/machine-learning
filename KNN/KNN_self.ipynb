{
 "cells": [
  {
   "cell_type": "code",
   "execution_count": 1,
   "metadata": {},
   "outputs": [],
   "source": [
    "import numpy as np\n",
    "import sklearn.datasets as datasets\n",
    "\n",
    "import matplotlib.pyplot as plt\n",
    "\n",
    "iris = datasets.load_iris()\n",
    "X = iris.data\n",
    "y = iris.target"
   ]
  },
  {
   "cell_type": "code",
   "execution_count": 2,
   "metadata": {},
   "outputs": [
    {
     "data": {
      "text/plain": [
       "(150,)"
      ]
     },
     "execution_count": 2,
     "metadata": {},
     "output_type": "execute_result"
    }
   ],
   "source": [
    "y.shape"
   ]
  },
  {
   "cell_type": "code",
   "execution_count": 3,
   "metadata": {},
   "outputs": [
    {
     "data": {
      "text/plain": [
       "(150, 4)"
      ]
     },
     "execution_count": 3,
     "metadata": {},
     "output_type": "execute_result"
    }
   ],
   "source": [
    "X.shape"
   ]
  },
  {
   "cell_type": "code",
   "execution_count": 4,
   "metadata": {},
   "outputs": [],
   "source": [
    "input = np.array([1,2,3,4])"
   ]
  },
  {
   "cell_type": "code",
   "execution_count": 5,
   "metadata": {},
   "outputs": [],
   "source": [
    "distances = np.sqrt(np.sum(np.square(X - input), axis = 1))"
   ]
  },
  {
   "cell_type": "code",
   "execution_count": 6,
   "metadata": {},
   "outputs": [
    {
     "data": {
      "text/plain": [
       "array([6.00499792, 5.76281181, 5.69736781, 5.55517776, 5.96322061,\n",
       "       6.13351449, 5.58300994, 5.88642506, 5.41940956, 5.82065288,\n",
       "       6.2401923 , 5.72712843, 5.76281181, 5.5416604 , 6.6873014 ,\n",
       "       6.56201189, 6.2305698 , 5.94222181, 6.38043886, 5.99916661,\n",
       "       6.11964051, 5.9084685 , 5.82752091, 5.69561235, 5.66127194,\n",
       "       5.77927331, 5.73410847, 6.04814021, 6.04979338, 5.61515806,\n",
       "       5.66127194, 6.04400529, 6.28569805, 6.48768063, 5.75412895,\n",
       "       5.92621296, 6.31110133, 5.96154342, 5.46717477, 5.95482997,\n",
       "       5.90169467, 5.37773186, 5.50726793, 5.63648827, 5.84978632,\n",
       "       5.62938718, 6.03738354, 5.60357029, 6.17008914, 5.88982173,\n",
       "       6.86221539, 6.25299928, 6.77347769, 5.35070089, 6.3007936 ,\n",
       "       5.68066897, 6.1991935 , 4.94570521, 6.48228355, 5.06951674,\n",
       "       5.02493781, 5.71839138, 5.91945943, 6.03903966, 5.44242593,\n",
       "       6.5130638 , 5.53714728, 5.80861429, 5.96489732, 5.53443764,\n",
       "       5.79050948, 5.91100668, 6.18061486, 6.11391855, 6.24099351,\n",
       "       6.40936814, 6.6543219 , 6.54064217, 5.85747386, 5.6302753 ,\n",
       "       5.4277067 , 5.46808925, 5.67274184, 5.97159945, 5.37215041,\n",
       "       5.91354378, 6.54522727, 6.11800621, 5.53714728, 5.36563137,\n",
       "       5.51452627, 6.02743727, 5.67802783, 5.01796772, 5.51180551,\n",
       "       5.68946395, 5.62405548, 6.06877253, 5.04678115, 5.5883808 ,\n",
       "       6.40546642, 5.68770604, 7.08731261, 6.36396103, 6.50615094,\n",
       "       7.81856764, 4.79583152, 7.49866655, 6.73943618, 7.27048829,\n",
       "       6.33245608, 6.27295784, 6.67083203, 5.50817574, 5.53624421,\n",
       "       6.22735899, 6.50691939, 8.06597793, 7.95927132, 5.9405387 ,\n",
       "       6.81395627, 5.42309875, 7.95110055, 6.08522802, 6.71416413,\n",
       "       7.32939288, 5.97996656, 5.95482997, 6.33798075, 7.28285658,\n",
       "       7.45788174, 8.14923309, 6.30872412, 6.27614531, 6.31585307,\n",
       "       7.64133496, 6.27455178, 6.43894401, 5.83780781, 6.73721011,\n",
       "       6.55896333, 6.58179307, 5.68770604, 6.81028634, 6.6121101 ,\n",
       "       6.42028037, 6.06217783, 6.33166645, 6.13595958, 5.85320425])"
      ]
     },
     "execution_count": 6,
     "metadata": {},
     "output_type": "execute_result"
    }
   ],
   "source": [
    "distances"
   ]
  },
  {
   "cell_type": "code",
   "execution_count": 10,
   "metadata": {},
   "outputs": [],
   "source": [
    "nearest = distances.argsort()"
   ]
  },
  {
   "cell_type": "code",
   "execution_count": 11,
   "metadata": {},
   "outputs": [],
   "source": [
    "k = 3"
   ]
  },
  {
   "cell_type": "code",
   "execution_count": 12,
   "metadata": {},
   "outputs": [
    {
     "data": {
      "text/plain": [
       "[2, 1, 1, 1]"
      ]
     },
     "execution_count": 12,
     "metadata": {},
     "output_type": "execute_result"
    }
   ],
   "source": [
    "top_k_y = [y[i] for i in nearest[:4]]\n",
    "top_k_y"
   ]
  },
  {
   "cell_type": "code",
   "execution_count": 13,
   "metadata": {},
   "outputs": [],
   "source": [
    "from collections import Counter"
   ]
  },
  {
   "cell_type": "code",
   "execution_count": 14,
   "metadata": {},
   "outputs": [
    {
     "data": {
      "text/plain": [
       "Counter({2: 1, 1: 3})"
      ]
     },
     "execution_count": 14,
     "metadata": {},
     "output_type": "execute_result"
    }
   ],
   "source": [
    "Counter(top_k_y)"
   ]
  },
  {
   "cell_type": "code",
   "execution_count": 15,
   "metadata": {},
   "outputs": [
    {
     "data": {
      "text/plain": [
       "Counter({2: 1, 1: 3})"
      ]
     },
     "execution_count": 15,
     "metadata": {},
     "output_type": "execute_result"
    }
   ],
   "source": [
    "votes = Counter(top_k_y)\n",
    "votes"
   ]
  },
  {
   "cell_type": "code",
   "execution_count": 16,
   "metadata": {},
   "outputs": [
    {
     "data": {
      "text/plain": [
       "1"
      ]
     },
     "execution_count": 16,
     "metadata": {},
     "output_type": "execute_result"
    }
   ],
   "source": [
    "votes.most_common(1)[0][0]"
   ]
  }
 ],
 "metadata": {
  "kernelspec": {
   "display_name": "Python 3",
   "language": "python",
   "name": "python3"
  },
  "language_info": {
   "codemirror_mode": {
    "name": "ipython",
    "version": 3
   },
   "file_extension": ".py",
   "mimetype": "text/x-python",
   "name": "python",
   "nbconvert_exporter": "python",
   "pygments_lexer": "ipython3",
   "version": "3.8.5"
  }
 },
 "nbformat": 4,
 "nbformat_minor": 4
}
