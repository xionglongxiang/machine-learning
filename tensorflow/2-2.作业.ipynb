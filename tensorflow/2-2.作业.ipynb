{
 "cells": [
  {
   "cell_type": "markdown",
   "id": "9b41e002-f015-462d-9aee-f638d8c99c70",
   "metadata": {},
   "source": [
    "# 2-2. Homework\n",
    "\n",
    "Cats vs Dogs Kaggle competition:\n",
    "\n",
    "The training archive contains 25,000 images of dogs and cats. Train your algorithm on these files and predict the labels for kaggle-catsanddogs.zip (1 = dog, 0 = cat).\n",
    "\n",
    "dataset url: http://aimaksen.bslience.cn/kaggle-catsanddogs.zip\n",
    "\n",
    "- val acc > 98%\n",
    "- epoch <= 25\n",
    "\n",
    "附加思考:\n",
    "- filter 的大小的作用是什么\n",
    "- 卷积核数量\n",
    "- mean pooling 和 max pooling 的区别"
   ]
  },
  {
   "cell_type": "code",
   "execution_count": 2,
   "id": "d7da4f0f-d981-4cd4-a4ef-873e700c5700",
   "metadata": {
    "id": "dn-6c02VmqiN"
   },
   "outputs": [],
   "source": [
    "# In this exercise you will train a CNN on the FULL Cats-v-dogs dataset\n",
    "# This will require you doing a lot of data preprocessing because\n",
    "# the dataset isn't split into training and validation for you\n",
    "# This code block has all the required inputs\n",
    "import pathlib\n",
    "import tensorflow as tf\n",
    "from tensorflow.keras.optimizers import RMSprop, Adam\n",
    "from tensorflow.keras.preprocessing.image import ImageDataGenerator"
   ]
  },
  {
   "cell_type": "code",
   "execution_count": 5,
   "id": "92999cfc-eea5-47e7-9eed-cb704a510570",
   "metadata": {
    "id": "3sd9dQWa23aj"
   },
   "outputs": [
    {
     "data": {
      "text/plain": [
       "PosixPath('/root/.keras/kaggle-catsanddogs/PetImages')"
      ]
     },
     "execution_count": 5,
     "metadata": {},
     "output_type": "execute_result"
    }
   ],
   "source": [
    "# This code block downloads the full Cats-v-Dogs dataset and stores it\n"
   ]
  },
  {
   "cell_type": "code",
   "execution_count": null,
   "id": "c010bc35-c84a-47c5-aee9-aa87f85a0068",
   "metadata": {},
   "outputs": [],
   "source": [
    "# explore dataset\n",
    "\n"
   ]
  },
  {
   "cell_type": "code",
   "execution_count": 8,
   "id": "f780c179-dad9-4a2d-9d0b-841e21bb3b61",
   "metadata": {
    "id": "gi3yD62a6X3S"
   },
   "outputs": [
    {
     "name": "stdout",
     "output_type": "stream",
     "text": [
      "Found 20000 images belonging to 2 classes.\n",
      "Found 5000 images belonging to 2 classes.\n"
     ]
    }
   ],
   "source": [
    "# Data preprocessing\n",
    "\n",
    "\n"
   ]
  },
  {
   "cell_type": "code",
   "execution_count": null,
   "id": "00265bb1-64c9-44c3-9e1d-4b57995b255e",
   "metadata": {
    "id": "-BQrav4anTmj"
   },
   "outputs": [],
   "source": [
    "# DEFINE A KERAS MODEL TO CLASSIFY CATS V DOGS\n",
    "# USE AT LEAST 3 CONVOLUTION LAYERS\n",
    "model = tf.keras.models.Sequential([\n",
    "    ### START CODE HERE\n",
    "    \n",
    "    \n",
    "    ### END CODE HERE\n",
    "])\n",
    "\n",
    "model.compile(optimizer=RMSprop(learning_rate=0.001), loss='binary_crossentropy', metrics=['accuracy'])"
   ]
  },
  {
   "cell_type": "code",
   "execution_count": null,
   "id": "f76dcc61-db93-4edf-8b59-0c59bec0f1a8",
   "metadata": {
    "id": "mlNjoJ5D61N6"
   },
   "outputs": [],
   "source": [
    "TRAINING_DIR = #YOUR CODE HERE\n",
    "train_datagen = #YOUR CODE HERE\n",
    "train_generator = #YOUR CODE HERE\n",
    "\n",
    "VALIDATION_DIR = #YOUR CODE HERE\n",
    "validation_datagen = #YOUR CODE HERE\n",
    "validation_generator = #YOUR CODE HERE\n",
    "\n",
    "\n",
    "\n",
    "# Expected Output:\n",
    "# Found 22498 images belonging to 2 classes.\n",
    "# Found 2500 images belonging to 2 classes."
   ]
  },
  {
   "cell_type": "code",
   "execution_count": null,
   "id": "cf75ce3b-4c2e-4597-91ae-b5c14b5c936c",
   "metadata": {
    "id": "KyS4n53w7DxC"
   },
   "outputs": [],
   "source": [
    "history = model.fit()"
   ]
  },
  {
   "cell_type": "code",
   "execution_count": null,
   "id": "6eef2f42-7db0-4cc3-8145-20de33f3b454",
   "metadata": {},
   "outputs": [],
   "source": [
    "# plot acc/loss curve"
   ]
  },
  {
   "cell_type": "code",
   "execution_count": null,
   "id": "b53d1fff-e6a6-4b60-a5fd-be6ee99d95b3",
   "metadata": {},
   "outputs": [],
   "source": [
    "# use model to predict one image from website "
   ]
  }
 ],
 "metadata": {
  "kernelspec": {
   "display_name": "Python 3 (ipykernel)",
   "language": "python",
   "name": "python3"
  },
  "language_info": {
   "codemirror_mode": {
    "name": "ipython",
    "version": 3
   },
   "file_extension": ".py",
   "mimetype": "text/x-python",
   "name": "python",
   "nbconvert_exporter": "python",
   "pygments_lexer": "ipython3",
   "version": "3.9.7"
  }
 },
 "nbformat": 4,
 "nbformat_minor": 5
}
