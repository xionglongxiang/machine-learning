{
 "cells": [
  {
   "cell_type": "markdown",
   "id": "preceding-wholesale",
   "metadata": {},
   "source": [
    "# 使用 CNN 提高 Fashion 分类器的性能\n",
    "\n",
    "在前面的课程中，你已经在 Fashion 数据集上使用了三层（输入层、隐藏层、输出层）的深度神经网络（DNN）。你也探究了不同大小的隐藏层、epoch 次数等对准确率的影响。\n",
    "\n",
    "我们先来复习一下代码。"
   ]
  },
  {
   "cell_type": "code",
   "execution_count": 1,
   "id": "private-testimony",
   "metadata": {},
   "outputs": [
    {
     "data": {
      "text/plain": [
       "[PhysicalDevice(name='/physical_device:CPU:0', device_type='CPU')]"
      ]
     },
     "execution_count": 1,
     "metadata": {},
     "output_type": "execute_result"
    }
   ],
   "source": [
    "import tensorflow as tf\n",
    "\n",
    "tf.config.list_physical_devices(device_type = None)"
   ]
  },
  {
   "cell_type": "markdown",
   "id": "confident-marijuana",
   "metadata": {},
   "source": [
    "你的训练准确率可能是89%，测试准确率可能是87%。这成绩不错了，但是它还有优化空间，你如何把它变得更好？\n",
    "\n",
    "我们接下来将使用 卷积神经网络（CNN） 来提高分类器的性能。\n",
    "\n",
    "运行以下 cell 的代码，这比之前的神经网络多了卷积层。程序运行将需要更长的时间，我们来看看准确率如何？"
   ]
  },
  {
   "cell_type": "code",
   "execution_count": null,
   "id": "962cbaac-cef5-452a-8df4-47e127ddbdcc",
   "metadata": {},
   "outputs": [],
   "source": []
  },
  {
   "cell_type": "code",
   "execution_count": null,
   "id": "coupled-slave",
   "metadata": {},
   "outputs": [],
   "source": []
  },
  {
   "cell_type": "markdown",
   "id": "1d43f786-0570-4032-ab16-86f2dc216f37",
   "metadata": {
    "tags": []
   },
   "source": [
    "## 构建卷积\n",
    "\n",
    "- 原始图片和卷积核(filter)\n",
    "\n",
    "![](https://miro.medium.com/max/661/1*4yv0yIH0nVhSOv3AkLUIiw.png)\n",
    "\n",
    "- 使用矩阵乘法后，得到卷积特征(convolved feature)\n",
    "\n",
    "![](https://miro.medium.com/max/429/1*MrGSULUtkXc0Ou07QouV8A.gif)\n",
    "\n",
    "- 使用很多个卷积核进行卷积\n",
    "\n",
    "![](https://miro.medium.com/max/558/1*uJpkfkm2Lr72mJtRaqoKZg.png)\n",
    "\n",
    "- padding\n",
    "\n",
    "![](https://miro.medium.com/max/963/1*SmiydxM5lbTjoKWYPiuzWQ.png)"
   ]
  },
  {
   "cell_type": "markdown",
   "id": "30d96e90-fe06-41e4-a566-0a24819a8efc",
   "metadata": {},
   "source": [
    "### 步骤1--构建数据\n",
    "这里的代码和你之前的学过的不太一样，多了一步 reshape，用来调整训练数据的形状。这是因为第一个卷积需要一个包含所有内容的张量。因此这个张量的shape是（60000，28，28，1）。测试图像也是同理。如果不这样做，在训练时会出现 Shape mismatch 的错误。"
   ]
  },
  {
   "cell_type": "code",
   "execution_count": null,
   "id": "4c471fea-10a9-4cf9-8301-a349e2dffd10",
   "metadata": {},
   "outputs": [],
   "source": []
  },
  {
   "cell_type": "markdown",
   "id": "103a947a-5078-4690-ad64-b840fae23913",
   "metadata": {
    "tags": []
   },
   "source": [
    "### 步骤2--搭建模型\n",
    "\n",
    "你需要了解卷积层的几个参数：\n",
    "1. 第一层卷积的输入的形状。在这个例子中，输入形状是（28，28，1）\n",
    "2. 生成的卷积数。这个由你决定，但最好从32开始\n",
    "3. 过滤器（卷积核）的大小。在这个例子中，过滤器是3x3\n",
    "4. 激活函数。在这个例子中，激活函数使用的是 relu"
   ]
  },
  {
   "cell_type": "code",
   "execution_count": null,
   "id": "qualified-alignment",
   "metadata": {
    "tags": []
   },
   "outputs": [],
   "source": []
  },
  {
   "cell_type": "code",
   "execution_count": null,
   "id": "variable-brazil",
   "metadata": {},
   "outputs": [],
   "source": []
  },
  {
   "cell_type": "markdown",
   "id": "4f49f720-b60c-4c41-b47e-243168285e94",
   "metadata": {},
   "source": [
    "**为什么要进行池化呢？**"
   ]
  },
  {
   "cell_type": "markdown",
   "id": "4f8d9ff1-1564-4ba4-9eb0-5b27e2e53bea",
   "metadata": {},
   "source": [
    "卷积和池化层的代码为："
   ]
  },
  {
   "cell_type": "code",
   "execution_count": null,
   "id": "549f4d55-e951-412c-8849-d33aa73d231b",
   "metadata": {},
   "outputs": [],
   "source": []
  },
  {
   "cell_type": "markdown",
   "id": "8647e8d7-5327-4335-afb9-35a0353cf57b",
   "metadata": {},
   "source": [
    "另一个卷积池化:"
   ]
  },
  {
   "cell_type": "code",
   "execution_count": null,
   "id": "c1999170-faa5-4ab0-8289-4bb1fbfd156a",
   "metadata": {},
   "outputs": [],
   "source": []
  },
  {
   "cell_type": "markdown",
   "id": "50183486-3344-400f-8d84-dba877d00481",
   "metadata": {},
   "source": [
    "接下来，将上层输出的结构 flatten, 成为全连接层的输入:"
   ]
  },
  {
   "cell_type": "code",
   "execution_count": null,
   "id": "6ef4b153-7f40-45ac-bb9a-2089625158c7",
   "metadata": {},
   "outputs": [],
   "source": []
  },
  {
   "cell_type": "markdown",
   "id": "69550f41-a25a-47d2-b713-1365dae2b96b",
   "metadata": {},
   "source": [
    "全连接层："
   ]
  },
  {
   "cell_type": "code",
   "execution_count": null,
   "id": "3d22b5b5-1d00-42b9-8a9b-649492f1f849",
   "metadata": {},
   "outputs": [],
   "source": []
  },
  {
   "cell_type": "markdown",
   "id": "d8c8127e-efba-4c3f-8307-b97871d8f379",
   "metadata": {},
   "source": [
    "编译、训练、计算损失:"
   ]
  },
  {
   "cell_type": "code",
   "execution_count": null,
   "id": "363029a6-7cbe-43b2-ab9a-fd57dbafc907",
   "metadata": {},
   "outputs": [],
   "source": []
  },
  {
   "cell_type": "code",
   "execution_count": null,
   "id": "592b18b1-b608-4943-80a8-fecc55adb186",
   "metadata": {},
   "outputs": [],
   "source": []
  },
  {
   "cell_type": "code",
   "execution_count": null,
   "id": "9462908c-bf9b-439a-ab39-8dcdb567f873",
   "metadata": {},
   "outputs": [],
   "source": []
  },
  {
   "cell_type": "markdown",
   "id": "arranged-bernard",
   "metadata": {},
   "source": [
    "根据上个 cell 的输出结果，模型在训练集和测试集的准确率分别上升到 93%和90%。这说明加入卷积层是有效果的！\\\n",
    "我们可以修改 epoch 次数，来看一下运行结果。"
   ]
  },
  {
   "cell_type": "code",
   "execution_count": null,
   "id": "adequate-brunswick",
   "metadata": {},
   "outputs": [],
   "source": []
  },
  {
   "cell_type": "markdown",
   "id": "communist-mumbai",
   "metadata": {},
   "source": [
    "根据上个 cell 的运行结果可以看到，虽然训练集的准确率非常高，但是测试集的准确率却下降了。这也是“过度拟合”的原因，“过度拟合”将在后面章节讨论。"
   ]
  },
  {
   "cell_type": "markdown",
   "id": "facial-banana",
   "metadata": {},
   "source": [
    "## 可视化卷积和池化\n",
    "\n",
    "打印 (test_labels[:100]) 。输出是测试集中的前 100 个标签，你可以看到索引0、索引23和索引28处的标签都是相同的值 (9)。"
   ]
  },
  {
   "cell_type": "code",
   "execution_count": null,
   "id": "daily-dodge",
   "metadata": {},
   "outputs": [],
   "source": []
  },
  {
   "cell_type": "code",
   "execution_count": null,
   "id": "steady-alcohol",
   "metadata": {},
   "outputs": [],
   "source": []
  },
  {
   "cell_type": "markdown",
   "id": "waiting-scout",
   "metadata": {},
   "source": [
    "### 练习\n",
    "\n",
    "1. 尝试修改卷积层。 将输出的卷积数更改为16或128。这会对准确性和/或训练时间产生什么影响？"
   ]
  },
  {
   "cell_type": "code",
   "execution_count": null,
   "id": "6e7914ee-392d-422d-a4be-d9d914c00806",
   "metadata": {},
   "outputs": [],
   "source": []
  },
  {
   "cell_type": "markdown",
   "id": "538224e3-d780-41e5-b9aa-c06f75e74575",
   "metadata": {},
   "source": [
    "2. 删除最后的卷积层和池化层，这会对准确性和/或训练时间产生什么影响？"
   ]
  },
  {
   "cell_type": "code",
   "execution_count": null,
   "id": "8ce44883-8255-4bb5-a9d6-a78e4669dd2a",
   "metadata": {},
   "outputs": [],
   "source": []
  },
  {
   "cell_type": "markdown",
   "id": "6fc71424-dace-4647-9e65-be6c98f833fd",
   "metadata": {},
   "source": [
    "3. 添加更多卷积怎么样？您认为这会产生什么影响？"
   ]
  },
  {
   "cell_type": "code",
   "execution_count": null,
   "id": "e838bedd-c5cb-49e3-988c-4f8641a31759",
   "metadata": {},
   "outputs": [],
   "source": []
  }
 ],
 "metadata": {
  "kernelspec": {
   "display_name": "Python 3 (ipykernel)",
   "language": "python",
   "name": "python3"
  },
  "language_info": {
   "codemirror_mode": {
    "name": "ipython",
    "version": 3
   },
   "file_extension": ".py",
   "mimetype": "text/x-python",
   "name": "python",
   "nbconvert_exporter": "python",
   "pygments_lexer": "ipython3",
   "version": "3.9.7"
  }
 },
 "nbformat": 4,
 "nbformat_minor": 5
}
