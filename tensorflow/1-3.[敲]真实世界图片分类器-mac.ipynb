{
 "cells": [
  {
   "cell_type": "code",
   "execution_count": 1,
   "id": "73e9b384-abb9-46c6-b432-46a2d7c1f320",
   "metadata": {},
   "outputs": [],
   "source": [
    "import tensorflow as tf"
   ]
  },
  {
   "cell_type": "code",
   "execution_count": 2,
   "id": "16cf2fcc-a390-4413-bf6f-fbf8f3ab5b3b",
   "metadata": {},
   "outputs": [],
   "source": [
    "import pathlib"
   ]
  },
  {
   "cell_type": "markdown",
   "id": "sexual-exhibition",
   "metadata": {},
   "source": [
    ".zip 的内容被解压到基本目录 ~/.keras/datasets/horses 和 ~/.keras/datasets/humans，目录里包含马和人类的图片。\n",
    "\n",
    "注意：\n",
    "   这个数据集中并没有明确的将图像标记为马或人。稍后你将学习使用 ImageGenerator，ImageGenerator会适当的标记图像，减少编码步骤。\n",
    "   \n",
    "首先，定义每个目录。"
   ]
  },
  {
   "cell_type": "code",
   "execution_count": 3,
   "id": "second-blind",
   "metadata": {},
   "outputs": [],
   "source": [
    "path_to_file = tf.keras.utils.get_file(\n",
    "    'horse-or-human.zip',\n",
    "    cache_subdir='horse-or-human',\n",
    "    origin='http://aimaksen.bslience.cn/horse-or-human.zip',\n",
    "    extract=True\n",
    ")"
   ]
  },
  {
   "cell_type": "code",
   "execution_count": 4,
   "id": "e8aa4b0b-4d7c-4c05-bca3-7a465fd2182b",
   "metadata": {},
   "outputs": [],
   "source": [
    "train_horses_dir = pathlib.Path(path_to_file).parent/'horses'\n",
    "train_humans_dir = pathlib.Path(path_to_file).parent/'humans'"
   ]
  },
  {
   "cell_type": "markdown",
   "id": "identical-store",
   "metadata": {},
   "source": [
    "现在，让我们看看马和人类训练目录中的文件名："
   ]
  },
  {
   "cell_type": "code",
   "execution_count": 5,
   "id": "helpful-better",
   "metadata": {},
   "outputs": [],
   "source": [
    "import os\n",
    "train_horses_names = os.listdir(train_horses_dir)\n",
    "train_humans_names = os.listdir(train_humans_dir)"
   ]
  },
  {
   "cell_type": "code",
   "execution_count": 6,
   "id": "8152d2d2-9685-4c81-a79a-b6732c8b8b5e",
   "metadata": {},
   "outputs": [
    {
     "data": {
      "text/plain": [
       "['horse43-5.png',\n",
       " 'horse06-5.png',\n",
       " 'horse20-6.png',\n",
       " 'horse04-7.png',\n",
       " 'horse41-7.png',\n",
       " 'horse22-4.png',\n",
       " 'horse19-2.png',\n",
       " 'horse24-2.png',\n",
       " 'horse37-8.png',\n",
       " 'horse02-1.png']"
      ]
     },
     "execution_count": 6,
     "metadata": {},
     "output_type": "execute_result"
    }
   ],
   "source": [
    "train_horses_names[0:10]"
   ]
  },
  {
   "cell_type": "code",
   "execution_count": 7,
   "id": "7c76caa2-1f38-4ab1-afa0-001859639f69",
   "metadata": {},
   "outputs": [
    {
     "data": {
      "text/plain": [
       "['human17-22.png',\n",
       " 'human10-17.png',\n",
       " 'human10-03.png',\n",
       " 'human07-27.png',\n",
       " 'human09-22.png',\n",
       " 'human05-22.png',\n",
       " 'human02-03.png',\n",
       " 'human02-17.png',\n",
       " 'human15-27.png',\n",
       " 'human12-12.png']"
      ]
     },
     "execution_count": 7,
     "metadata": {},
     "output_type": "execute_result"
    }
   ],
   "source": [
    "train_humans_names[0:10]"
   ]
  },
  {
   "cell_type": "code",
   "execution_count": 8,
   "id": "fc4a3c4e-052f-46c8-ba5b-102eed4efeec",
   "metadata": {},
   "outputs": [
    {
     "name": "stdout",
     "output_type": "stream",
     "text": [
      "['horse43-5.png', 'horse06-5.png', 'horse20-6.png', 'horse04-7.png', 'horse41-7.png', 'horse22-4.png', 'horse19-2.png', 'horse24-2.png', 'horse37-8.png', 'horse02-1.png']\n"
     ]
    }
   ],
   "source": [
    "train_horses_names = os.listdir(train_horses_dir)\n",
    "print(train_horses_names[:10])"
   ]
  },
  {
   "cell_type": "markdown",
   "id": "important-active",
   "metadata": {},
   "source": [
    "让我们找出目录中马和人图像的总数："
   ]
  },
  {
   "cell_type": "code",
   "execution_count": 9,
   "id": "continued-bridal",
   "metadata": {},
   "outputs": [
    {
     "name": "stdout",
     "output_type": "stream",
     "text": [
      "['human17-22.png', 'human10-17.png', 'human10-03.png', 'human07-27.png', 'human09-22.png', 'human05-22.png', 'human02-03.png', 'human02-17.png', 'human15-27.png', 'human12-12.png']\n"
     ]
    }
   ],
   "source": [
    "train_humans_names = os.listdir(train_humans_dir)\n",
    "print(train_humans_names[:10])"
   ]
  },
  {
   "cell_type": "markdown",
   "id": "strong-berkeley",
   "metadata": {},
   "source": [
    "我们再来看几张图片。 首先，配置matplot参数："
   ]
  },
  {
   "cell_type": "code",
   "execution_count": 10,
   "id": "typical-satin",
   "metadata": {},
   "outputs": [
    {
     "data": {
      "text/plain": [
       "527"
      ]
     },
     "execution_count": 10,
     "metadata": {},
     "output_type": "execute_result"
    }
   ],
   "source": [
    "len(train_humans_names)"
   ]
  },
  {
   "cell_type": "code",
   "execution_count": 11,
   "id": "12476c0a-18af-48f6-b6d3-2ea4ca06ace2",
   "metadata": {},
   "outputs": [
    {
     "data": {
      "text/plain": [
       "500"
      ]
     },
     "execution_count": 11,
     "metadata": {},
     "output_type": "execute_result"
    }
   ],
   "source": [
    "len(train_horses_names)"
   ]
  },
  {
   "cell_type": "code",
   "execution_count": 12,
   "id": "8f964dd3-3a9e-4070-9957-1ca172b043f6",
   "metadata": {},
   "outputs": [],
   "source": [
    "%matplotlib inline\n",
    "\n",
    "import matplotlib.image as mpimg\n",
    "import matplotlib.pyplot as plt"
   ]
  },
  {
   "cell_type": "markdown",
   "id": "genetic-dairy",
   "metadata": {},
   "source": [
    "现在，显示一个 batch, 每个 batch 包含了8幅马和8幅人的图片。 您可以多次运行下面的单元格。"
   ]
  },
  {
   "cell_type": "code",
   "execution_count": 13,
   "id": "small-correlation",
   "metadata": {},
   "outputs": [
    {
     "data": {
      "text/plain": [
       "<Figure size 1152x1152 with 0 Axes>"
      ]
     },
     "metadata": {},
     "output_type": "display_data"
    }
   ],
   "source": [
    "nrows = 4\n",
    "ncols = 4\n",
    "pic_index = 0\n",
    "fig = plt.gcf()\n",
    "fig.set_size_inches(ncols * 4, nrows * 4)\n",
    "\n"
   ]
  },
  {
   "cell_type": "code",
   "execution_count": 14,
   "id": "6ada4254-2897-435c-9381-c89db8b7c677",
   "metadata": {},
   "outputs": [
    {
     "data": {
      "image/png": "[encoded data removed]",
      "text/plain": [
       "<Figure size 432x288 with 16 Axes>"
      ]
     },
     "metadata": {
      "needs_background": "light"
     },
     "output_type": "display_data"
    }
   ],
   "source": [
    "pic_index += 8\n",
    "next_horses_pix = [\n",
    "    os.path.join(train_horses_dir,fname) for fname in train_horses_names[pic_index - 8:pic_index]\n",
    "]\n",
    "\n",
    "next_humans_pix = [\n",
    "    os.path.join(train_humans_dir,fname) for fname in train_humans_names[pic_index - 8:pic_index]\n",
    "]\n",
    "\n",
    "\n",
    "for i, img_path in enumerate(next_horses_pix + next_humans_pix):\n",
    "    sp = plt.subplot(nrows, ncols, i + 1)\n",
    "    sp.axis('off')\n",
    "    img = mpimg.imread(img_path)\n",
    "    plt.imshow(img)\n",
    "plt.show()"
   ]
  },
  {
   "cell_type": "markdown",
   "id": "alive-trauma",
   "metadata": {},
   "source": [
    "## 从一个小模型开始搭建\n",
    "\n",
    "先导入 tensorflow"
   ]
  },
  {
   "cell_type": "code",
   "execution_count": 15,
   "id": "2b98c515-46df-417d-a7b1-f6735f8413a1",
   "metadata": {},
   "outputs": [],
   "source": [
    "import tensorflow as tf"
   ]
  },
  {
   "cell_type": "code",
   "execution_count": null,
   "id": "collect-straight",
   "metadata": {},
   "outputs": [],
   "source": []
  },
  {
   "cell_type": "markdown",
   "id": "57378be8-68d9-49e6-a89e-5db313c5daac",
   "metadata": {
    "tags": []
   },
   "source": [
    "### 数据处理\n",
    "\n",
    "使用 ImageDataGenerator，用于一个批次一个批次的读取数据。每个批次有128张图片，每个图片 300X300。\n",
    "\n",
    "[接口文档](https://www.tensorflow.org/api_docs/python/tf/keras/preprocessing/image/ImageDataGenerator)"
   ]
  },
  {
   "cell_type": "code",
   "execution_count": 16,
   "id": "weekly-groove",
   "metadata": {},
   "outputs": [],
   "source": [
    "from tensorflow.keras.preprocessing.image import ImageDataGenerator\n"
   ]
  },
  {
   "cell_type": "code",
   "execution_count": 17,
   "id": "01f848c3-a73c-4f50-a3d9-f80270109067",
   "metadata": {},
   "outputs": [],
   "source": [
    "train_data_gen = ImageDataGenerator(rescale = 1 / 255)"
   ]
  },
  {
   "cell_type": "code",
   "execution_count": 18,
   "id": "239e35b3-239e-4068-bff5-38f89c078391",
   "metadata": {},
   "outputs": [
    {
     "name": "stdout",
     "output_type": "stream",
     "text": [
      "Found 1027 images belonging to 2 classes.\n"
     ]
    }
   ],
   "source": [
    "train_generator = train_data_gen.flow_from_directory(\n",
    "    pathlib.Path(path_to_file).parent,\n",
    "    target_size = (300, 300),\n",
    "    batch_size=128,\n",
    "    class_mode='binary'\n",
    ")"
   ]
  },
  {
   "cell_type": "code",
   "execution_count": 19,
   "id": "909c3634-9ba0-4da0-9bc9-5a9d55adbd6c",
   "metadata": {},
   "outputs": [
    {
     "data": {
      "text/plain": [
       "array([0, 0, 0, ..., 1, 1, 1], dtype=int32)"
      ]
     },
     "execution_count": 19,
     "metadata": {},
     "output_type": "execute_result"
    }
   ],
   "source": [
    "train_generator.classes"
   ]
  },
  {
   "cell_type": "code",
   "execution_count": 20,
   "id": "ea1e0a5b-4395-4b09-b2fe-8749c2345dfb",
   "metadata": {},
   "outputs": [
    {
     "data": {
      "text/plain": [
       "array([0, 0, 0, ..., 1, 1, 1], dtype=int32)"
      ]
     },
     "execution_count": 20,
     "metadata": {},
     "output_type": "execute_result"
    }
   ],
   "source": [
    "train_generator.labels"
   ]
  },
  {
   "cell_type": "code",
   "execution_count": 21,
   "id": "943b178d-6976-46f9-89fd-dacf0bee1b65",
   "metadata": {},
   "outputs": [
    {
     "data": {
      "text/plain": [
       "'/Users/xlx/.keras/horse-or-human/horses/horse01-0.png'"
      ]
     },
     "execution_count": 21,
     "metadata": {},
     "output_type": "execute_result"
    }
   ],
   "source": [
    "train_generator.filepaths[0]"
   ]
  },
  {
   "cell_type": "code",
   "execution_count": 22,
   "id": "c434393a-4963-41b1-85b4-7137e46313e7",
   "metadata": {},
   "outputs": [
    {
     "data": {
      "text/plain": [
       "<keras.preprocessing.image.ImageDataGenerator at 0x7fd615d9a7f0>"
      ]
     },
     "execution_count": 22,
     "metadata": {},
     "output_type": "execute_result"
    }
   ],
   "source": [
    "train_generator.image_data_generator"
   ]
  },
  {
   "cell_type": "markdown",
   "id": "super-candidate",
   "metadata": {},
   "source": [
    "### 搭建模型\n",
    "我们先来搭建模型。\n",
    "\n",
    "我们可以复用之前的 CNN 代码，并在原有基础上多加几层卷积和池化。\n",
    "\n",
    "注意：\n",
    "    horse-or-human 数据集对应的是二分类问题。所以在网络的最后一层，我们使用 sigmoid 激活函数。sigmoid 的输出是0/1。"
   ]
  },
  {
   "cell_type": "code",
   "execution_count": 23,
   "id": "compressed-fusion",
   "metadata": {},
   "outputs": [
    {
     "name": "stderr",
     "output_type": "stream",
     "text": [
      "2022-01-01 16:40:25.803901: I tensorflow/core/platform/cpu_feature_guard.cc:151] This TensorFlow binary is optimized with oneAPI Deep Neural Network Library (oneDNN) to use the following CPU instructions in performance-critical operations:  AVX2 FMA\n",
      "To enable them in other operations, rebuild TensorFlow with the appropriate compiler flags.\n"
     ]
    }
   ],
   "source": [
    "model = tf.keras.models.Sequential(\n",
    "    [\n",
    "        tf.keras.layers.Conv2D(16, (3, 3), activation = 'relu', input_shape=(300,300,3)),\n",
    "        tf.keras.layers.MaxPooling2D(2,2),\n",
    "        tf.keras.layers.Conv2D(32, (3, 3), activation = 'relu'),\n",
    "        tf.keras.layers.MaxPooling2D(2,2),\n",
    "        tf.keras.layers.Conv2D(64, (3, 3), activation = 'relu'),\n",
    "        tf.keras.layers.MaxPooling2D(2,2),\n",
    "        tf.keras.layers.Conv2D(64, (3, 3), activation = 'relu'),\n",
    "        tf.keras.layers.MaxPooling2D(2,2),\n",
    "        tf.keras.layers.Flatten(),\n",
    "        tf.keras.layers.Dense(512, activation='relu'),\n",
    "        tf.keras.layers.Dense(1, activation='sigmoid')\n",
    "    ]\n",
    ")"
   ]
  },
  {
   "cell_type": "markdown",
   "id": "employed-nigeria",
   "metadata": {},
   "source": [
    "model.summary() 方法调用打印神经网络的网络层"
   ]
  },
  {
   "cell_type": "code",
   "execution_count": 24,
   "id": "gentle-nashville",
   "metadata": {},
   "outputs": [
    {
     "name": "stdout",
     "output_type": "stream",
     "text": [
      "Model: \"sequential\"\n",
      "_________________________________________________________________\n",
      " Layer (type)                Output Shape              Param #   \n",
      "=================================================================\n",
      " conv2d (Conv2D)             (None, 298, 298, 16)      448       \n",
      "                                                                 \n",
      " max_pooling2d (MaxPooling2D  (None, 149, 149, 16)     0         \n",
      " )                                                               \n",
      "                                                                 \n",
      " conv2d_1 (Conv2D)           (None, 147, 147, 32)      4640      \n",
      "                                                                 \n",
      " max_pooling2d_1 (MaxPooling  (None, 73, 73, 32)       0         \n",
      " 2D)                                                             \n",
      "                                                                 \n",
      " conv2d_2 (Conv2D)           (None, 71, 71, 64)        18496     \n",
      "                                                                 \n",
      " max_pooling2d_2 (MaxPooling  (None, 35, 35, 64)       0         \n",
      " 2D)                                                             \n",
      "                                                                 \n",
      " conv2d_3 (Conv2D)           (None, 33, 33, 64)        36928     \n",
      "                                                                 \n",
      " max_pooling2d_3 (MaxPooling  (None, 16, 16, 64)       0         \n",
      " 2D)                                                             \n",
      "                                                                 \n",
      " flatten (Flatten)           (None, 16384)             0         \n",
      "                                                                 \n",
      " dense (Dense)               (None, 512)               8389120   \n",
      "                                                                 \n",
      " dense_1 (Dense)             (None, 1)                 513       \n",
      "                                                                 \n",
      "=================================================================\n",
      "Total params: 8,450,145\n",
      "Trainable params: 8,450,145\n",
      "Non-trainable params: 0\n",
      "_________________________________________________________________\n"
     ]
    }
   ],
   "source": [
    "model.summary() "
   ]
  },
  {
   "cell_type": "markdown",
   "id": "wooden-junction",
   "metadata": {},
   "source": [
    "Output Shape 列显示特征图的大小在连续层中的演变。\n",
    "\n",
    "\n",
    "接下来编译模型，由于是二分类问题。所以我们使用的损失函数是 binary_crossentropy。在这里，我们使用了一个全新的优化器 RMSprop。\n"
   ]
  },
  {
   "cell_type": "code",
   "execution_count": 25,
   "id": "nearby-choir",
   "metadata": {},
   "outputs": [],
   "source": [
    "from tensorflow.keras.optimizers import RMSprop\n",
    "\n",
    "model.compile(loss = 'binary_crossentropy', optimizer = RMSprop(learning_rate=0.001), metrics=['accuracy'])"
   ]
  },
  {
   "cell_type": "code",
   "execution_count": 26,
   "id": "9c043693-b5b8-46d6-9dd3-42347d923b2c",
   "metadata": {},
   "outputs": [
    {
     "data": {
      "text/plain": [
       "<keras.preprocessing.image.DirectoryIterator at 0x7fd616d2f4c0>"
      ]
     },
     "execution_count": 26,
     "metadata": {},
     "output_type": "execute_result"
    }
   ],
   "source": [
    "train_generator"
   ]
  },
  {
   "cell_type": "markdown",
   "id": "personalized-convergence",
   "metadata": {},
   "source": [
    "我们训练15个 epoch —— 这可能需要几分钟才能运行。"
   ]
  },
  {
   "cell_type": "code",
   "execution_count": 27,
   "id": "royal-above",
   "metadata": {},
   "outputs": [
    {
     "name": "stdout",
     "output_type": "stream",
     "text": [
      "Epoch 1/5\n",
      "8/8 [==============================] - 24s 3s/step - loss: 3.1147 - accuracy: 0.5729\n",
      "Epoch 2/5\n",
      "8/8 [==============================] - 23s 3s/step - loss: 0.7436 - accuracy: 0.7264\n",
      "Epoch 3/5\n",
      "8/8 [==============================] - 23s 3s/step - loss: 0.5289 - accuracy: 0.8165\n",
      "Epoch 4/5\n",
      "8/8 [==============================] - 23s 3s/step - loss: 0.6217 - accuracy: 0.8598\n",
      "Epoch 5/5\n",
      "8/8 [==============================] - 22s 3s/step - loss: 0.5621 - accuracy: 0.8432\n"
     ]
    },
    {
     "data": {
      "text/plain": [
       "<keras.callbacks.History at 0x7fd617437cd0>"
      ]
     },
     "execution_count": 27,
     "metadata": {},
     "output_type": "execute_result"
    }
   ],
   "source": [
    "model.fit(train_generator, steps_per_epoch=8,epochs = 5) "
   ]
  },
  {
   "cell_type": "code",
   "execution_count": 31,
   "id": "d9d73625-314c-43a7-85ef-ea83eb5e3000",
   "metadata": {},
   "outputs": [
    {
     "name": "stdout",
     "output_type": "stream",
     "text": [
      "Epoch 1/5\n",
      "8/8 [==============================] - 22s 3s/step - loss: 0.1358 - accuracy: 0.9466\n",
      "Epoch 2/5\n",
      "8/8 [==============================] - 22s 3s/step - loss: 0.1454 - accuracy: 0.9522\n",
      "Epoch 3/5\n",
      "8/8 [==============================] - 25s 3s/step - loss: 0.1053 - accuracy: 0.9531\n",
      "Epoch 4/5\n",
      "8/8 [==============================] - 23s 3s/step - loss: 0.1141 - accuracy: 0.9655\n",
      "Epoch 5/5\n",
      "8/8 [==============================] - 22s 3s/step - loss: 0.0852 - accuracy: 0.9711\n"
     ]
    },
    {
     "data": {
      "text/plain": [
       "<keras.callbacks.History at 0x7fd614ea62b0>"
      ]
     },
     "execution_count": 31,
     "metadata": {},
     "output_type": "execute_result"
    }
   ],
   "source": [
    "model.fit(train_generator, steps_per_epoch=8,epochs = 5) "
   ]
  },
  {
   "cell_type": "markdown",
   "id": "contemporary-worker",
   "metadata": {},
   "source": [
    "### 测试\n",
    "\n",
    "让我们使用训练好的模型做预测。"
   ]
  },
  {
   "cell_type": "code",
   "execution_count": 39,
   "id": "stock-report",
   "metadata": {},
   "outputs": [
    {
     "name": "stdout",
     "output_type": "stream",
     "text": [
      "[1.9228948e-07]\n",
      "马\n"
     ]
    }
   ],
   "source": [
    "import numpy as np\n",
    "from keras.preprocessing import image\n",
    "\n",
    "path = os.path.join(train_horses_dir, train_horses_names[1])\n",
    "img = image.load_img(path, target_size=(300, 300))\n",
    "x = image.img_to_array(img)\n",
    "x = x / 255\n",
    "x = np.expand_dims(x, axis = 0)\n",
    "classes = model.predict(x, batch_size = 1)\n",
    "print(classes[0])\n",
    "\n",
    "if classes > 0.5:\n",
    "    print('人')\n",
    "else:\n",
    "    print('马')"
   ]
  },
  {
   "cell_type": "code",
   "execution_count": 40,
   "id": "f7be72b9-e7c3-4343-9b73-17fb3492605d",
   "metadata": {},
   "outputs": [
    {
     "name": "stdout",
     "output_type": "stream",
     "text": [
      "[0.99908376]\n",
      "人\n"
     ]
    }
   ],
   "source": [
    "import numpy as np\n",
    "from keras.preprocessing import image\n",
    "\n",
    "path = os.path.join(train_humans_dir, train_humans_names[1])\n",
    "img = image.load_img(path, target_size=(300, 300))\n",
    "x = image.img_to_array(img)\n",
    "x = x / 255\n",
    "x = np.expand_dims(x, axis = 0)\n",
    "classes = model.predict(x, batch_size = 1)\n",
    "print(classes[0])\n",
    "\n",
    "if classes > 0.5:\n",
    "    print('人')\n",
    "else:\n",
    "    print('马')"
   ]
  },
  {
   "cell_type": "code",
   "execution_count": 30,
   "id": "b094ad23-8eb6-42ff-8e21-3e6ce5ff8caa",
   "metadata": {},
   "outputs": [
    {
     "data": {
      "text/plain": [
       "array([[0.00013816]], dtype=float32)"
      ]
     },
     "execution_count": 30,
     "metadata": {},
     "output_type": "execute_result"
    }
   ],
   "source": [
    "classes"
   ]
  },
  {
   "cell_type": "markdown",
   "id": "ebb0dc8a-37e5-45fb-96c7-8d7483e7c837",
   "metadata": {},
   "source": [
    "## 验证集使用\n",
    "\n",
    "下载 validation-horse-or-human.zip 文件，以下的 cell 主要功能是访问文件系统，以及对 zip 文件解压缩。\n",
    "\n",
    "下载链接：https://storage.googleapis.com/laurencemoroney-blog.appspot.com/validation-horse-or-human.zip "
   ]
  },
  {
   "cell_type": "code",
   "execution_count": 58,
   "id": "ca21631f-d97a-40a5-974d-904aa5f6811b",
   "metadata": {},
   "outputs": [],
   "source": [
    "validation_path_to_file = tf.keras.utils.get_file(\n",
    "    'validation-horse-or-human',\n",
    "    cache_subdir='validation-horse-or-human',\n",
    "    origin='https://storage.googleapis.com/laurencemoroney-blog.appspot.com/validation-horse-or-human.zip',\n",
    "    extract=True\n",
    ")"
   ]
  },
  {
   "cell_type": "code",
   "execution_count": 59,
   "id": "cd6215bb-792a-4838-9ae0-8b4092ee2fd6",
   "metadata": {},
   "outputs": [],
   "source": [
    "validation_horses_dir = pathlib.Path(validation_path_to_file).parent/'horses'\n",
    "validation_humans_dir = pathlib.Path(validation_path_to_file).parent/'humans'"
   ]
  },
  {
   "cell_type": "code",
   "execution_count": 60,
   "id": "abe2e563-45e3-40ae-8488-f3bbe42eeaa7",
   "metadata": {},
   "outputs": [
    {
     "data": {
      "text/plain": [
       "(PosixPath('/Users/xlx/.keras/validation-horse-or-human/horses'),\n",
       " PosixPath('/Users/xlx/.keras/validation-horse-or-human/humans'))"
      ]
     },
     "execution_count": 60,
     "metadata": {},
     "output_type": "execute_result"
    }
   ],
   "source": [
    "validation_horses_dir,validation_humans_dir"
   ]
  },
  {
   "cell_type": "markdown",
   "id": "75355fe3-277a-4c99-a2c0-6762f6934541",
   "metadata": {},
   "source": [
    "看看马和人类训练、验证目录中的文件名"
   ]
  },
  {
   "cell_type": "code",
   "execution_count": 68,
   "id": "0c48a2f2-35c4-4feb-bc50-91be0565d7ed",
   "metadata": {},
   "outputs": [],
   "source": [
    "validation_horses_names = os.listdir(validation_horses_dir)\n",
    "validation_humans_names = os.listdir(validation_humans_dir)"
   ]
  },
  {
   "cell_type": "code",
   "execution_count": 69,
   "id": "b856e86b-e815-43e0-80a3-e3f180cd6c9d",
   "metadata": {},
   "outputs": [
    {
     "data": {
      "text/plain": [
       "['horse1-204.png',\n",
       " 'horse2-112.png',\n",
       " 'horse3-498.png',\n",
       " 'horse5-032.png',\n",
       " 'horse5-018.png',\n",
       " 'horse1-170.png',\n",
       " 'horse5-192.png',\n",
       " 'horse1-411.png',\n",
       " 'horse4-232.png',\n",
       " 'horse3-070.png']"
      ]
     },
     "execution_count": 69,
     "metadata": {},
     "output_type": "execute_result"
    }
   ],
   "source": [
    "validation_horses_names[0:10]"
   ]
  },
  {
   "cell_type": "markdown",
   "id": "72d57264-bfec-4b0c-bcc6-20c81b317e96",
   "metadata": {},
   "source": [
    "查看训练、验证目录中马和人图像总数"
   ]
  },
  {
   "cell_type": "code",
   "execution_count": 70,
   "id": "a9663c45-4ba7-43b1-bd6c-9cd7d60f55e6",
   "metadata": {},
   "outputs": [
    {
     "data": {
      "text/plain": [
       "(128, 128)"
      ]
     },
     "execution_count": 70,
     "metadata": {},
     "output_type": "execute_result"
    }
   ],
   "source": [
    "len(validation_horses_names), len(validation_humans_names)"
   ]
  },
  {
   "cell_type": "code",
   "execution_count": 73,
   "id": "d561abdf-a560-4372-859c-1f748ed6a74c",
   "metadata": {},
   "outputs": [
    {
     "name": "stdout",
     "output_type": "stream",
     "text": [
      "Found 256 images belonging to 2 classes.\n"
     ]
    }
   ],
   "source": [
    "from tensorflow.keras.preprocessing.image import ImageDataGenerator\n",
    "validation_data_gen = ImageDataGenerator(rescale = 1 / 255)\n",
    "validation_generator = train_data_gen.flow_from_directory(\n",
    "    pathlib.Path(validation_path_to_file).parent,\n",
    "    target_size = (300, 300),\n",
    "    batch_size=32,\n",
    "    class_mode='binary'\n",
    ")"
   ]
  },
  {
   "cell_type": "code",
   "execution_count": 74,
   "id": "8f11d519-a3f8-492c-81c0-a33ff7e17d18",
   "metadata": {},
   "outputs": [],
   "source": [
    "model_2 = tf.keras.models.Sequential(\n",
    "    [\n",
    "        tf.keras.layers.Conv2D(16, (3, 3), activation = 'relu', input_shape=(300,300,3)),\n",
    "        tf.keras.layers.MaxPooling2D(2,2),\n",
    "        tf.keras.layers.Conv2D(32, (3, 3), activation = 'relu'),\n",
    "        tf.keras.layers.MaxPooling2D(2,2),\n",
    "        tf.keras.layers.Conv2D(64, (3, 3), activation = 'relu'),\n",
    "        tf.keras.layers.MaxPooling2D(2,2),\n",
    "        tf.keras.layers.Conv2D(64, (3, 3), activation = 'relu'),\n",
    "        tf.keras.layers.MaxPooling2D(2,2),\n",
    "        tf.keras.layers.Flatten(),\n",
    "        tf.keras.layers.Dense(512, activation='relu'),\n",
    "        tf.keras.layers.Dense(1, activation='sigmoid')\n",
    "    ]\n",
    ")"
   ]
  },
  {
   "cell_type": "code",
   "execution_count": 75,
   "id": "d751da22-c0f7-4876-9161-0b430e619f66",
   "metadata": {},
   "outputs": [],
   "source": [
    "from tensorflow.keras.optimizers import RMSprop\n",
    "\n",
    "model_2.compile(loss = 'binary_crossentropy', optimizer = RMSprop(learning_rate=0.001), metrics=['accuracy'])"
   ]
  },
  {
   "cell_type": "code",
   "execution_count": 77,
   "id": "b21359ec-87cf-4e2d-a39d-bac4473ce2db",
   "metadata": {},
   "outputs": [
    {
     "name": "stdout",
     "output_type": "stream",
     "text": [
      "Epoch 1/5\n",
      "8/8 [==============================] - 25s 3s/step - loss: 0.1364 - accuracy: 0.9522 - val_loss: 1.5625 - val_accuracy: 0.7891\n",
      "Epoch 2/5\n",
      "8/8 [==============================] - 24s 3s/step - loss: 0.2148 - accuracy: 0.9166 - val_loss: 0.4703 - val_accuracy: 0.8594\n",
      "Epoch 3/5\n",
      "8/8 [==============================] - 24s 3s/step - loss: 0.1976 - accuracy: 0.9221 - val_loss: 1.2975 - val_accuracy: 0.8242\n",
      "Epoch 4/5\n",
      "8/8 [==============================] - 25s 3s/step - loss: 0.1138 - accuracy: 0.9611 - val_loss: 1.2182 - val_accuracy: 0.8320\n",
      "Epoch 5/5\n",
      "8/8 [==============================] - 26s 3s/step - loss: 0.0446 - accuracy: 0.9900 - val_loss: 1.1244 - val_accuracy: 0.8047\n"
     ]
    },
    {
     "data": {
      "text/plain": [
       "<keras.callbacks.History at 0x7fd3eae76e80>"
      ]
     },
     "execution_count": 77,
     "metadata": {},
     "output_type": "execute_result"
    }
   ],
   "source": [
    "model_2.fit(train_generator, steps_per_epoch=8,epochs = 5, validation_data=validation_generator) "
   ]
  },
  {
   "cell_type": "markdown",
   "id": "67155669-2dd7-4379-8962-dbf4e6305d3e",
   "metadata": {},
   "source": [
    "## 从一个小模型开始搭建\n",
    "\n",
    "第一步 导入 tensorflow:"
   ]
  },
  {
   "cell_type": "code",
   "execution_count": null,
   "id": "b58e4f5f-7b34-4685-8e48-b13c93d1d7ae",
   "metadata": {},
   "outputs": [],
   "source": []
  },
  {
   "cell_type": "markdown",
   "id": "0a4377ce-e506-40f3-b877-b068279cc2a6",
   "metadata": {},
   "source": [
    "第二步 构建模型:"
   ]
  },
  {
   "cell_type": "code",
   "execution_count": null,
   "id": "c9815180-e265-47aa-b471-9a1e90fafddf",
   "metadata": {},
   "outputs": [],
   "source": []
  },
  {
   "cell_type": "markdown",
   "id": "33e871dd-cdda-4983-bf30-3c3d74bc28d1",
   "metadata": {},
   "source": [
    "model.summary() 方法调用打印神经网络的网络层:"
   ]
  },
  {
   "cell_type": "code",
   "execution_count": null,
   "id": "151297ea-5323-480c-813e-4f6f57d3ae8c",
   "metadata": {},
   "outputs": [],
   "source": []
  },
  {
   "cell_type": "markdown",
   "id": "7ca82549-7dd0-445e-86c0-9426afb245e6",
   "metadata": {},
   "source": [
    "第三步 编译:"
   ]
  },
  {
   "cell_type": "code",
   "execution_count": null,
   "id": "99ec1ab2-2a64-494f-b53a-001b61bd0342",
   "metadata": {},
   "outputs": [],
   "source": []
  },
  {
   "cell_type": "markdown",
   "id": "d4d55085-795e-4292-99e4-41420ef92685",
   "metadata": {},
   "source": [
    "第四步 数据处理:\n",
    "\n",
    "使用 ImageDataGenerator，用于一个批次一个批次的读取数据。每个批次有128张图片，每个图片 300X300。"
   ]
  },
  {
   "cell_type": "code",
   "execution_count": null,
   "id": "026f76a5-746c-46d9-acd3-f32017351399",
   "metadata": {},
   "outputs": [],
   "source": []
  },
  {
   "cell_type": "markdown",
   "id": "5e2199cb-7d14-4edd-8ed4-df3cb809e8ba",
   "metadata": {},
   "source": [
    "第五步 训练模型:"
   ]
  },
  {
   "cell_type": "code",
   "execution_count": null,
   "id": "6577233c-ad9c-4709-b8cf-1e38b0e369ef",
   "metadata": {},
   "outputs": [],
   "source": []
  },
  {
   "cell_type": "markdown",
   "id": "8d06e62d-becb-4e07-a5a6-b2f16d6ceba7",
   "metadata": {},
   "source": [
    "第六步 预测:"
   ]
  },
  {
   "cell_type": "code",
   "execution_count": null,
   "id": "1cb0e238-a96d-49a2-87b9-c6c2e0536a38",
   "metadata": {},
   "outputs": [],
   "source": []
  },
  {
   "cell_type": "markdown",
   "id": "b91073fb-c5b6-4256-9b3b-9c1cb1a8a360",
   "metadata": {},
   "source": [
    "清理\n",
    "\n",
    "在运行下一个练习之前，运行以下单元格以终止内核并释放内存资源："
   ]
  },
  {
   "cell_type": "markdown",
   "id": "e4a6ee01-4aff-4c6d-b52b-1bd4eedc7900",
   "metadata": {
    "tags": []
   },
   "source": [
    "## 探索压缩图片带来的影响"
   ]
  },
  {
   "cell_type": "code",
   "execution_count": null,
   "id": "d780162f-327b-4716-954e-9371db2df8c1",
   "metadata": {},
   "outputs": [],
   "source": []
  },
  {
   "cell_type": "code",
   "execution_count": null,
   "id": "03fc84f4-3aba-48bf-8252-960d0b4d9599",
   "metadata": {},
   "outputs": [],
   "source": []
  },
  {
   "cell_type": "code",
   "execution_count": null,
   "id": "7826fbfa-5a15-4f3d-b0c9-b9734940e9dc",
   "metadata": {},
   "outputs": [],
   "source": []
  },
  {
   "cell_type": "code",
   "execution_count": null,
   "id": "6410068e-4299-4015-927f-b72416013ba4",
   "metadata": {},
   "outputs": [],
   "source": []
  }
 ],
 "metadata": {
  "kernelspec": {
   "display_name": "Python 3 (ipykernel)",
   "language": "python",
   "name": "python3"
  },
  "language_info": {
   "codemirror_mode": {
    "name": "ipython",
    "version": 3
   },
   "file_extension": ".py",
   "mimetype": "text/x-python",
   "name": "python",
   "nbconvert_exporter": "python",
   "pygments_lexer": "ipython3",
   "version": "3.9.7"
  }
 },
 "nbformat": 4,
 "nbformat_minor": 5
}
