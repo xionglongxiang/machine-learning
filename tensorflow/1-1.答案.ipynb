{
 "cells": [
  {
   "cell_type": "markdown",
   "id": "e8db2861-04dc-48fa-9d32-ce9c4f2b5328",
   "metadata": {},
   "source": [
    "# 1-1. 作业\n",
    "\n",
    "Notion 地址：\n",
    "https://few-crib-44d.notion.site/Google-TensorFlow-Developer-bd201387fe0041eb89c013e65b2df43a"
   ]
  },
  {
   "cell_type": "markdown",
   "id": "5ba963c8-0d86-4dbf-9552-f8bd3f65936a",
   "metadata": {},
   "source": [
    "你已经学习了如何使用Fashion-MNIST数据集进行分类。还有一个类似的数据集叫MNIST，它是大型手写数字（0-9）数据集。\n",
    "\n",
    "请编写一个 accuracy 能到达99%或以上的模型。本次不提供 epoch 的次数，一旦达到该准确率，应立即停止训练。\n",
    "\n",
    "注意事项：\n",
    "* 1. epoch 的次数应该<=10。\n",
    "* 2. 当 accuracy >=99%，应该打印出字符串“已经达到99%的准确率，所以停止训练。”\n",
    "\n",
    "我已经为你写了部分代码，请将代码补充完整。"
   ]
  },
  {
   "cell_type": "code",
   "execution_count": 1,
   "id": "f6339318-97bd-4f37-9f36-640703639636",
   "metadata": {},
   "outputs": [],
   "source": [
    "import tensorflow as tf\n",
    "from os import path, getcwd, chdir\n",
    "\n",
    "# 将 mnist.npz 放在本地，并修改路径\n",
    "path = \"./mnist.npz\""
   ]
  },
  {
   "cell_type": "code",
   "execution_count": 8,
   "id": "373d0720-5d2a-4ccf-ad7f-88a0992b748c",
   "metadata": {},
   "outputs": [],
   "source": [
    "def train_mnist():\n",
    "\n",
    "    # YOUR CODE SHOULD START HERE\n",
    "    class myCallback(tf.keras.callbacks.Callback):\n",
    "        def on_epoch_end(self, epoch, logs={}):\n",
    "            if logs.get(\"accuracy\") is not None and logs.get(\"accuracy\") > 0.99:\n",
    "                print(\"\\nReached 99% accuracy so cancelling training!\")\n",
    "                self.model.stop_training = True\n",
    "\n",
    "    callback = myCallback()\n",
    "    # YOUR CODE SHOULD END HERE\n",
    "\n",
    "    mnist = tf.keras.datasets.mnist\n",
    "\n",
    "    (x_train, y_train), (x_test, y_test) = mnist.load_data(path=path)\n",
    "\n",
    "    # YOUR CODE SHOULD START HERE\n",
    "    x_train = x_train / 255.0\n",
    "    x_test = x_test / 255.0\n",
    "    # YOUR CODE SHOULD END HERE\n",
    "\n",
    "    model = tf.keras.models.Sequential(\n",
    "        [\n",
    "            # YOUR CODE SHOULD START HERE\n",
    "            tf.keras.layers.Flatten(input_shape=(28, 28)),\n",
    "            tf.keras.layers.Dense(512, activation=tf.nn.relu),\n",
    "            tf.keras.layers.Dense(10, activation=tf.nn.softmax)\n",
    "            # YOUR CODE SHOULD END HERE\n",
    "        ]\n",
    "    )\n",
    "\n",
    "    model.compile(\n",
    "        optimizer=\"adam\", loss=\"sparse_categorical_crossentropy\", metrics=[\"accuracy\"]\n",
    "    )\n",
    "\n",
    "    # model fitting\n",
    "    history = model.fit(\n",
    "        # YOUR CODE SHOULD START HERE\n",
    "        x_train,\n",
    "        y_train,\n",
    "        epochs=10,\n",
    "        callbacks=[callback]\n",
    "        # YOUR CODE SHOULD END HERE\n",
    "    )\n",
    "    # model fitting\n",
    "\n",
    "    return history.epoch, history.history[\"accuracy\"][-1]"
   ]
  },
  {
   "cell_type": "code",
   "execution_count": 9,
   "id": "e5b36610-24bc-4c5a-aa22-fb5117f39fb1",
   "metadata": {},
   "outputs": [
    {
     "name": "stdout",
     "output_type": "stream",
     "text": [
      "Epoch 1/10\n",
      "1875/1875 [==============================] - 6s 3ms/step - loss: 0.1998 - accuracy: 0.9416\n",
      "Epoch 2/10\n",
      "1875/1875 [==============================] - 5s 3ms/step - loss: 0.0790 - accuracy: 0.9757\n",
      "Epoch 3/10\n",
      "1875/1875 [==============================] - 6s 3ms/step - loss: 0.0527 - accuracy: 0.9834\n",
      "Epoch 4/10\n",
      "1875/1875 [==============================] - 5s 3ms/step - loss: 0.0366 - accuracy: 0.9889\n",
      "Epoch 5/10\n",
      "1875/1875 [==============================] - 6s 3ms/step - loss: 0.0270 - accuracy: 0.9913\n",
      "\n",
      "Reached 99% accuracy so cancelling training!\n"
     ]
    },
    {
     "data": {
      "text/plain": [
       "([0, 1, 2, 3, 4], 0.991266667842865)"
      ]
     },
     "execution_count": 9,
     "metadata": {},
     "output_type": "execute_result"
    }
   ],
   "source": [
    "train_mnist()"
   ]
  },
  {
   "cell_type": "code",
   "execution_count": null,
   "id": "0ab7a94b-ac22-4b2e-81b1-f957cbcfc7ff",
   "metadata": {},
   "outputs": [],
   "source": []
  }
 ],
 "metadata": {
  "kernelspec": {
   "display_name": "Python 3 (ipykernel)",
   "language": "python",
   "name": "python3"
  },
  "language_info": {
   "codemirror_mode": {
    "name": "ipython",
    "version": 3
   },
   "file_extension": ".py",
   "mimetype": "text/x-python",
   "name": "python",
   "nbconvert_exporter": "python",
   "pygments_lexer": "ipython3",
   "version": "3.9.7"
  }
 },
 "nbformat": 4,
 "nbformat_minor": 5
}
