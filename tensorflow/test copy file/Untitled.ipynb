{
 "cells": [
  {
   "cell_type": "code",
   "execution_count": 2,
   "id": "33af7bdd-2bd2-40ad-a627-19f92df9884d",
   "metadata": {},
   "outputs": [
    {
     "data": {
      "text/plain": [
       "'b.txt'"
      ]
     },
     "execution_count": 2,
     "metadata": {},
     "output_type": "execute_result"
    }
   ],
   "source": []
  },
  {
   "cell_type": "code",
   "execution_count": 5,
   "id": "8b6beb51-1db3-44d2-bec6-3a5c28f095f5",
   "metadata": {},
   "outputs": [
    {
     "data": {
      "text/plain": [
       "'./train\\\\a.txt'"
      ]
     },
     "execution_count": 5,
     "metadata": {},
     "output_type": "execute_result"
    }
   ],
   "source": []
  },
  {
   "cell_type": "code",
   "execution_count": null,
   "id": "26deb58c-2534-43ac-8c61-63f9e4e8abc7",
   "metadata": {},
   "outputs": [],
   "source": []
  }
 ],
 "metadata": {
  "kernelspec": {
   "display_name": "Python 3 (ipykernel)",
   "language": "python",
   "name": "python3"
  },
  "language_info": {
   "codemirror_mode": {
    "name": "ipython",
    "version": 3
   },
   "file_extension": ".py",
   "mimetype": "text/x-python",
   "name": "python",
   "nbconvert_exporter": "python",
   "pygments_lexer": "ipython3",
   "version": "3.9.7"
  }
 },
 "nbformat": 4,
 "nbformat_minor": 5
}
