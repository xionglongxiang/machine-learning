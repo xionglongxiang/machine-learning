{
 "cells": [
  {
   "cell_type": "code",
   "execution_count": 1,
   "metadata": {},
   "outputs": [],
   "source": [
    "import tensorflow as tf"
   ]
  },
  {
   "cell_type": "code",
   "execution_count": 2,
   "metadata": {},
   "outputs": [],
   "source": [
    "mnist = tf.keras.datasets.mnist"
   ]
  },
  {
   "cell_type": "code",
   "execution_count": 5,
   "metadata": {},
   "outputs": [],
   "source": [
    "data = mnist.load_data()"
   ]
  },
  {
   "cell_type": "code",
   "execution_count": 12,
   "metadata": {},
   "outputs": [],
   "source": [
    "(x_train, y_train), (x_test, y_test) = mnist.load_data()\n",
    "x_train, x_test = x_train / 255.0, x_test / 255.0"
   ]
  },
  {
   "cell_type": "code",
   "execution_count": 13,
   "metadata": {},
   "outputs": [],
   "source": [
    "model = tf.keras.models.Sequential([\n",
    "  tf.keras.layers.Flatten(input_shape=(28, 28)),\n",
    "  tf.keras.layers.Dense(128, activation='relu'),\n",
    "  tf.keras.layers.Dropout(0.2),\n",
    "  tf.keras.layers.Dense(10, activation='softmax')\n",
    "])\n",
    "\n",
    "model.compile(optimizer='adam',\n",
    "              loss='sparse_categorical_crossentropy',\n",
    "              metrics=['accuracy'])"
   ]
  },
  {
   "cell_type": "code",
   "execution_count": 15,
   "metadata": {},
   "outputs": [
    {
     "name": "stdout",
     "output_type": "stream",
     "text": [
      "Epoch 1/20\n",
      "1875/1875 [==============================] - 1s 689us/step - loss: 0.0649 - accuracy: 0.9791\n",
      "Epoch 2/20\n",
      "1875/1875 [==============================] - 1s 691us/step - loss: 0.0570 - accuracy: 0.9817\n",
      "Epoch 3/20\n",
      "1875/1875 [==============================] - 1s 730us/step - loss: 0.0507 - accuracy: 0.9833\n",
      "Epoch 4/20\n",
      "1875/1875 [==============================] - 1s 696us/step - loss: 0.0463 - accuracy: 0.9847\n",
      "Epoch 5/20\n",
      "1875/1875 [==============================] - 1s 680us/step - loss: 0.0439 - accuracy: 0.9854\n",
      "Epoch 6/20\n",
      "1875/1875 [==============================] - 1s 685us/step - loss: 0.0391 - accuracy: 0.9870\n",
      "Epoch 7/20\n",
      "1875/1875 [==============================] - 1s 682us/step - loss: 0.0377 - accuracy: 0.9873\n",
      "Epoch 8/20\n",
      "1875/1875 [==============================] - 1s 688us/step - loss: 0.0352 - accuracy: 0.9884\n",
      "Epoch 9/20\n",
      "1875/1875 [==============================] - 1s 687us/step - loss: 0.0346 - accuracy: 0.9885\n",
      "Epoch 10/20\n",
      "1875/1875 [==============================] - 1s 680us/step - loss: 0.0320 - accuracy: 0.9889\n",
      "Epoch 11/20\n",
      "1875/1875 [==============================] - 1s 685us/step - loss: 0.0297 - accuracy: 0.9898\n",
      "Epoch 12/20\n",
      "1875/1875 [==============================] - 1s 690us/step - loss: 0.0293 - accuracy: 0.9899\n",
      "Epoch 13/20\n",
      "1875/1875 [==============================] - 1s 689us/step - loss: 0.0289 - accuracy: 0.9897\n",
      "Epoch 14/20\n",
      "1875/1875 [==============================] - 1s 681us/step - loss: 0.0262 - accuracy: 0.9912\n",
      "Epoch 15/20\n",
      "1875/1875 [==============================] - 1s 728us/step - loss: 0.0260 - accuracy: 0.9908\n",
      "Epoch 16/20\n",
      "1875/1875 [==============================] - 1s 688us/step - loss: 0.0237 - accuracy: 0.9918\n",
      "Epoch 17/20\n",
      "1875/1875 [==============================] - 1s 683us/step - loss: 0.0251 - accuracy: 0.9914\n",
      "Epoch 18/20\n",
      "1875/1875 [==============================] - 1s 684us/step - loss: 0.0223 - accuracy: 0.9921\n",
      "Epoch 19/20\n",
      "1875/1875 [==============================] - 1s 683us/step - loss: 0.0217 - accuracy: 0.9926\n",
      "Epoch 20/20\n",
      "1875/1875 [==============================] - 1s 688us/step - loss: 0.0217 - accuracy: 0.9924\n",
      "313/313 - 0s - loss: 0.0833 - accuracy: 0.9809 - 154ms/epoch - 491us/step\n"
     ]
    },
    {
     "data": {
      "text/plain": [
       "[0.08327759057283401, 0.98089998960495]"
      ]
     },
     "execution_count": 15,
     "metadata": {},
     "output_type": "execute_result"
    }
   ],
   "source": [
    "model.fit(x_train, y_train, epochs=20)\n",
    "\n",
    "model.evaluate(x_test,  y_test, verbose=2)"
   ]
  },
  {
   "cell_type": "code",
   "execution_count": 16,
   "metadata": {},
   "outputs": [
    {
     "data": {
      "text/plain": [
       "(10000, 28, 28)"
      ]
     },
     "execution_count": 16,
     "metadata": {},
     "output_type": "execute_result"
    }
   ],
   "source": [
    "x_test.shape"
   ]
  },
  {
   "cell_type": "code",
   "execution_count": null,
   "metadata": {},
   "outputs": [],
   "source": []
  }
 ],
 "metadata": {
  "kernelspec": {
   "display_name": "Python 3 (ipykernel)",
   "language": "python",
   "name": "python3"
  },
  "language_info": {
   "codemirror_mode": {
    "name": "ipython",
    "version": 3
   },
   "file_extension": ".py",
   "mimetype": "text/x-python",
   "name": "python",
   "nbconvert_exporter": "python",
   "pygments_lexer": "ipython3",
   "version": "3.9.7"
  }
 },
 "nbformat": 4,
 "nbformat_minor": 4
}
