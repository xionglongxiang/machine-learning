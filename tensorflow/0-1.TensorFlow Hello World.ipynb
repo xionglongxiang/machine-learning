{
 "cells": [
  {
   "cell_type": "markdown",
   "metadata": {},
   "source": [
    "# 一种新的编程范式: TensorFlow Hello World"
   ]
  },
  {
   "cell_type": "markdown",
   "metadata": {},
   "source": [
    "在创建神经网络之前，可以从一些简单的做起。比如：函数 $y=2x-1$，使用Python可以写为：\n",
    "```\n",
    "def hw_function(x):\n",
    "    y = (2 * x) -1\n",
    "    return y\n",
    "```\n",
    "\n",
    "那如何训练一个神经网络来完成上述任务呢？答：使用数据！通过一组 Xs 和一组 Ys ，神经网络就可以拟合函数 $y=2x-1$。\\\n",
    "现在，我们要开始学习，如何用神经网络拟合上述函数。"
   ]
  },
  {
   "cell_type": "markdown",
   "metadata": {},
   "source": [
    "## Imports\n",
    "工欲善其事，必先利其器。我们需要用到的工具包有：\n",
    "* tensorflow，将其导入并命名为tf  代码：import tensorflow as tf\n",
    "* numpy，将其导入并命名为np 代码：import numpy as np\n",
    "* keras，从tensorflow 中将其导入 代码：from tensorflow import keras"
   ]
  },
  {
   "cell_type": "code",
   "execution_count": 1,
   "metadata": {},
   "outputs": [],
   "source": [
    "import tensorflow as tf\n",
    "import numpy as np\n",
    "from tensorflow import keras"
   ]
  },
  {
   "cell_type": "markdown",
   "metadata": {},
   "source": [
    "## 定义神经网络\n",
    "先定义一个最简单的神经网络，该网络只有一层，该层上只有一个神经单元，它的输入形状只有一个值。\\\n",
    "使用 sequential 来定义神经网络结构\\\n",
    "中文文档可以参考：[sequential中文链接](https://keras-cn.readthedocs.io/en/latest/getting_started/sequential_model/)"
   ]
  },
  {
   "cell_type": "code",
   "execution_count": 11,
   "metadata": {},
   "outputs": [],
   "source": [
    "model = tf.keras.Sequential([keras.layers.Dense(units=1, input_shape=[1])])"
   ]
  },
  {
   "cell_type": "markdown",
   "metadata": {},
   "source": [
    "## 编译神经网络\n",
    "model 就是我们搭建好的神经网络，在做编译之前，需要指定一个损失函数和一个优化器。\n",
    "\n",
    "**那 损失函数 和 优化器 有什么用呢？**\\\n",
    "举个🌰：\n",
    "1. 我们知道函数 x和y 之间的关系是：y=2x-1，但是神经网络不知道啊！所以神经网络需要学习...；\n",
    "2. 当神经网络学习时，会对x,y之间的关系有多种预测，比如：y=10x+10，y=11x+5等；\n",
    "3. 这时，就需要损失函数来衡量预测值和真实值之前的差异，告诉神经网络预测的是否准；\n",
    "4. 当神经网络预测不准时，使用优化器进一步的优化整个神经网络；\n",
    "5. 周而复始，直至神经网络几近拟合 y=2x+1\n",
    "\n",
    "本次的代码中损失函数使用的：平均平方误差（mean_squared_error），优化器使用的：随机梯度下降（sgd）。同学可以先不必要知道这两个的数学原理，只需要知道损失函数和优化器的作用即可。\n",
    "随着时间的推移，你将学习不同场景下的损失函数和优化器。"
   ]
  },
  {
   "cell_type": "code",
   "execution_count": 12,
   "metadata": {},
   "outputs": [],
   "source": [
    "model.compile(optimizer='sgd', loss='mean_squared_error')"
   ]
  },
  {
   "cell_type": "markdown",
   "metadata": {},
   "source": [
    "## 准备数据\n",
    "观察函数 $y=2x-1$。\n",
    "* 当 x=-1 时，y=-3\n",
    "* 当 x=0  时，y=-1\n",
    "* ...\n",
    "我们准备6个x, 会得到6个y。\\\n",
    "\n",
    "**Numpy 提供了许多数组类型的数据结构**\n",
    "我们应用 np.array[]来声明将使用的数据\n"
   ]
  },
  {
   "cell_type": "code",
   "execution_count": 17,
   "metadata": {},
   "outputs": [],
   "source": [
    "xs = np.array([-1.0,  0.0, 1.0, 2.0, 3.0, 4.0], dtype=float)\n",
    "ys = np.array([-1.0, 1.0, 3.0, 5.0, 7.0, 9.0], dtype=float)"
   ]
  },
  {
   "cell_type": "markdown",
   "metadata": {},
   "source": [
    "## 训练神经网络\n",
    "Tensorflow 使用 **model.fit** 来学习 Xs和Ys 之间的关系。钢铁不是一日炼成的，模型也需要多轮训练才能达到最小效果。\\\n",
    "在调用 **model.fit** 方法时，除了要提供 Xs和Ys 之外，还需要提供 epochs 参数（训练多少轮）。\\\n",
    "运行此代码时，你会在右侧看到损失，并且损失会越来越小。"
   ]
  },
  {
   "cell_type": "code",
   "execution_count": null,
   "metadata": {},
   "outputs": [],
   "source": [
    "model.fit(xs, ys, epochs=1000)"
   ]
  },
  {
   "cell_type": "markdown",
   "metadata": {},
   "source": [
    "## 预测\n",
    "经过**model.fit** ，神经网络已经训练好了。现在我们可以使用一个 x 来测试一下。如果 x=10, 根据函数 y=2x-1，你认为 y 会是多少？\\\n",
    "在运行代码之前先猜测一下"
   ]
  },
  {
   "cell_type": "code",
   "execution_count": 19,
   "metadata": {},
   "outputs": [
    {
     "name": "stdout",
     "output_type": "stream",
     "text": [
      "[[21.00013]]\n"
     ]
    }
   ],
   "source": [
    "print(model.predict([10.0]))"
   ]
  },
  {
   "cell_type": "markdown",
   "metadata": {},
   "source": [
    "你可能想过 19，对吧？ \\\n",
    "但神经网络输出的结果却低于 19。 这是为什么呢？\n",
    "\n",
    "请记住，神经网络是处理概率。对于我们给定的一组数据 Xs和Ys，它计算 X和Y 之间的关系为 Y=2X-1 的概率非常高。\\\n",
    "因此，输入x=10的结果非常接近19，但不一定是19。\n",
    "\n",
    "当你使用神经网络时，这种情况反复出现。"
   ]
  },
  {
   "cell_type": "code",
   "execution_count": 20,
   "metadata": {},
   "outputs": [
    {
     "data": {
      "text/plain": [
       "[<tf.Variable 'dense_1/kernel:0' shape=(1, 1) dtype=float32, numpy=array([[2.0000186]], dtype=float32)>,\n",
       " <tf.Variable 'dense_1/bias:0' shape=(1,) dtype=float32, numpy=array([0.9999426], dtype=float32)>]"
      ]
     },
     "execution_count": 20,
     "metadata": {},
     "output_type": "execute_result"
    }
   ],
   "source": [
    "model.weights"
   ]
  },
  {
   "cell_type": "code",
   "execution_count": 21,
   "metadata": {},
   "outputs": [],
   "source": [
    "x_test = np.array([5.0, 3.0, 2.0, 4.0, 0.0], dtype=float)\n"
   ]
  },
  {
   "cell_type": "code",
   "execution_count": 22,
   "metadata": {},
   "outputs": [
    {
     "name": "stdout",
     "output_type": "stream",
     "text": [
      "[[11.000036 ]\n",
      " [ 6.9999986]\n",
      " [ 4.99998  ]\n",
      " [ 9.000017 ]\n",
      " [ 0.9999426]]\n"
     ]
    }
   ],
   "source": [
    "print(model.predict(x_test))"
   ]
  },
  {
   "cell_type": "code",
   "execution_count": 2,
   "metadata": {},
   "outputs": [
    {
     "data": {
      "text/plain": [
       "[PhysicalDevice(name='/physical_device:CPU:0', device_type='CPU')]"
      ]
     },
     "execution_count": 2,
     "metadata": {},
     "output_type": "execute_result"
    }
   ],
   "source": [
    "import tensorflow as tf\n",
    "tf.config.list_physical_devices()"
   ]
  },
  {
   "cell_type": "code",
   "execution_count": 4,
   "metadata": {},
   "outputs": [
    {
     "data": {
      "text/plain": [
       "[LogicalDevice(name='/device:CPU:0', device_type='CPU')]"
      ]
     },
     "execution_count": 4,
     "metadata": {},
     "output_type": "execute_result"
    }
   ],
   "source": [
    "tf.config.list_logical_devices()"
   ]
  },
  {
   "cell_type": "code",
   "execution_count": null,
   "metadata": {},
   "outputs": [],
   "source": []
  }
 ],
 "metadata": {
  "kernelspec": {
   "display_name": "Python 3 (ipykernel)",
   "language": "python",
   "name": "python3"
  },
  "language_info": {
   "codemirror_mode": {
    "name": "ipython",
    "version": 3
   },
   "file_extension": ".py",
   "mimetype": "text/x-python",
   "name": "python",
   "nbconvert_exporter": "python",
   "pygments_lexer": "ipython3",
   "version": "3.9.7"
  }
 },
 "nbformat": 4,
 "nbformat_minor": 4
}
