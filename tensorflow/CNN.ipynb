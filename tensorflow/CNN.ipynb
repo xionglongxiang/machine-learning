{
 "cells": [
  {
   "cell_type": "code",
   "execution_count": 5,
   "id": "e782f9ca-d4a9-48f1-a01a-baca6fd76754",
   "metadata": {},
   "outputs": [
    {
     "name": "stdout",
     "output_type": "stream",
     "text": [
      "Epoch 1/5\n",
      "1875/1875 [==============================] - 5s 2ms/step - loss: 0.5007 - accuracy: 0.8224\n",
      "Epoch 2/5\n",
      "1875/1875 [==============================] - 3s 2ms/step - loss: 0.3762 - accuracy: 0.8644\n",
      "Epoch 3/5\n",
      "1875/1875 [==============================] - 3s 2ms/step - loss: 0.3360 - accuracy: 0.8777\n",
      "Epoch 4/5\n",
      "1875/1875 [==============================] - 3s 2ms/step - loss: 0.3129 - accuracy: 0.8858\n",
      "Epoch 5/5\n",
      "1875/1875 [==============================] - 3s 2ms/step - loss: 0.2953 - accuracy: 0.8913\n",
      "313/313 [==============================] - 1s 2ms/step - loss: 0.3450 - accuracy: 0.8742\n"
     ]
    },
    {
     "data": {
      "text/plain": [
       "[0.34498804807662964, 0.8741999864578247]"
      ]
     },
     "execution_count": 5,
     "metadata": {},
     "output_type": "execute_result"
    }
   ],
   "source": [
    "import tensorflow as tf\n",
    "minst = tf.keras.datasets.fashion_mnist.load_data()\n",
    "(training_images, training_labels), (test_images, test_labels)  = minst\n",
    "training_images = training_images / 255\n",
    "test_images = test_images/255\n",
    "model = tf.keras.models.Sequential(\n",
    "    [\n",
    "        tf.keras.layers.Flatten(),\n",
    "        tf.keras.layers.Dense(128, activation = tf.nn.relu),\n",
    "        tf.keras.layers.Dense(10, activation = tf.nn.softmax)\n",
    "    ]\n",
    ")\n",
    "model.compile(\n",
    "    optimizer = tf.optimizers.Adam(),\n",
    "    loss=\"sparse_categorical_crossentropy\",\n",
    "    metrics = ['accuracy']\n",
    ")\n",
    "model.fit(training_images, training_labels, epochs = 5)\n",
    "model.evaluate(test_images, test_labels)"
   ]
  },
  {
   "cell_type": "code",
   "execution_count": 1,
   "id": "0a765c2c-d5e8-4b63-8fce-63dc94e6e50d",
   "metadata": {},
   "outputs": [
    {
     "data": {
      "text/plain": [
       "[]"
      ]
     },
     "execution_count": 1,
     "metadata": {},
     "output_type": "execute_result"
    }
   ],
   "source": [
    "import tensorflow as tf\n",
    "\n",
    "tf.config.list_physical_devices('GPU')"
   ]
  },
  {
   "cell_type": "code",
   "execution_count": 2,
   "id": "913c0ed9-e02e-4b59-acb2-bb1f6f399796",
   "metadata": {},
   "outputs": [
    {
     "ename": "IndexError",
     "evalue": "list index out of range",
     "output_type": "error",
     "traceback": [
      "\u001b[1;31m---------------------------------------------------------------------------\u001b[0m",
      "\u001b[1;31mIndexError\u001b[0m                                Traceback (most recent call last)",
      "\u001b[1;32mC:\\Users\\ADMINI~1\\AppData\\Local\\Temp/ipykernel_13856/945659350.py\u001b[0m in \u001b[0;36m<module>\u001b[1;34m\u001b[0m\n\u001b[0;32m      1\u001b[0m \u001b[0mgpus\u001b[0m \u001b[1;33m=\u001b[0m \u001b[0mtf\u001b[0m\u001b[1;33m.\u001b[0m\u001b[0mconfig\u001b[0m\u001b[1;33m.\u001b[0m\u001b[0mexperimental\u001b[0m\u001b[1;33m.\u001b[0m\u001b[0mlist_physical_devices\u001b[0m\u001b[1;33m(\u001b[0m\u001b[0mdevice_type\u001b[0m\u001b[1;33m=\u001b[0m\u001b[1;34m'GPU'\u001b[0m\u001b[1;33m)\u001b[0m\u001b[1;33m\u001b[0m\u001b[1;33m\u001b[0m\u001b[0m\n\u001b[1;32m----> 2\u001b[1;33m \u001b[0mtf\u001b[0m\u001b[1;33m.\u001b[0m\u001b[0mconfig\u001b[0m\u001b[1;33m.\u001b[0m\u001b[0mexperimental\u001b[0m\u001b[1;33m.\u001b[0m\u001b[0mset_visible_devices\u001b[0m\u001b[1;33m(\u001b[0m\u001b[0mdevices\u001b[0m \u001b[1;33m=\u001b[0m \u001b[0mgpus\u001b[0m\u001b[1;33m[\u001b[0m\u001b[1;36m0\u001b[0m\u001b[1;33m]\u001b[0m\u001b[1;33m,\u001b[0m \u001b[0mdevice_type\u001b[0m\u001b[1;33m=\u001b[0m\u001b[1;34m'GPU'\u001b[0m\u001b[1;33m)\u001b[0m\u001b[1;33m\u001b[0m\u001b[1;33m\u001b[0m\u001b[0m\n\u001b[0m",
      "\u001b[1;31mIndexError\u001b[0m: list index out of range"
     ]
    }
   ],
   "source": [
    "gpus = tf.config.experimental.list_physical_devices(device_type='GPU')\n",
    "tf.config.experimental.set_visible_devices(devices = gpus[0], device_type='GPU')"
   ]
  },
  {
   "cell_type": "code",
   "execution_count": null,
   "id": "7902328e-48c3-4142-bc97-0a13501bbe34",
   "metadata": {},
   "outputs": [],
   "source": []
  },
  {
   "cell_type": "code",
   "execution_count": null,
   "id": "a95978c6-69f2-411e-a178-3afb5db23970",
   "metadata": {},
   "outputs": [],
   "source": [
    "minst = tf.keras.datasets.fashion_mnist.load_data()\n",
    "(training_images, training_labels), (test_images, test_labels)  = minst\n",
    "training_images = training_images / 255\n",
    "test_images = test_images/255\n",
    "\n"
   ]
  },
  {
   "cell_type": "code",
   "execution_count": 8,
   "id": "0fd98f12-6bd4-4a6c-bd16-ddd5720cb0ef",
   "metadata": {},
   "outputs": [
    {
     "data": {
      "text/plain": [
       "(60000, 28, 28)"
      ]
     },
     "execution_count": 8,
     "metadata": {},
     "output_type": "execute_result"
    }
   ],
   "source": [
    "training_images.shape"
   ]
  },
  {
   "cell_type": "code",
   "execution_count": 11,
   "id": "1b5b377f-3dfb-4eb8-af72-4d837f4ff22d",
   "metadata": {},
   "outputs": [],
   "source": []
  },
  {
   "cell_type": "code",
   "execution_count": 12,
   "id": "8a022713-bb49-4579-9c46-b2264f753303",
   "metadata": {},
   "outputs": [],
   "source": [
    "training_images = training_images.reshape(60000, 28, 28, 1)\n",
    "test_images = test_images.reshape(10000, 28, 28, 1)"
   ]
  },
  {
   "cell_type": "code",
   "execution_count": 50,
   "id": "595ec644-ac57-4888-90fc-672bc42e507d",
   "metadata": {},
   "outputs": [],
   "source": [
    "model = tf.keras.models.Sequential()"
   ]
  },
  {
   "cell_type": "code",
   "execution_count": 51,
   "id": "7eca45dc-8961-4cb3-948e-c9eb5bee75b7",
   "metadata": {},
   "outputs": [],
   "source": [
    "model.add(tf.keras.layers.Conv2D(64, (3, 3), activation='relu', input_shape=(28, 28, 1)))"
   ]
  },
  {
   "cell_type": "code",
   "execution_count": 52,
   "id": "b97a8194-eabd-443a-9aba-ddebb9d63223",
   "metadata": {},
   "outputs": [],
   "source": [
    "model.add(tf.keras.layers.MaxPooling2D(2, 2))"
   ]
  },
  {
   "cell_type": "code",
   "execution_count": 53,
   "id": "dcebb69c-b1d1-40dd-9f6d-2c3895f54204",
   "metadata": {},
   "outputs": [],
   "source": [
    "model.add(tf.keras.layers.Conv2D(64, (3, 3), activation='relu'))"
   ]
  },
  {
   "cell_type": "code",
   "execution_count": 54,
   "id": "094b6437-94d1-457e-9b7c-7e5a0ebbcc4d",
   "metadata": {},
   "outputs": [],
   "source": [
    "model.add(tf.keras.layers.MaxPooling2D(2, 2))"
   ]
  },
  {
   "cell_type": "code",
   "execution_count": 55,
   "id": "f36fbc20-ae95-40f0-a55b-2299466d3a05",
   "metadata": {},
   "outputs": [],
   "source": [
    "model.add(tf.keras.layers.Flatten())"
   ]
  },
  {
   "cell_type": "code",
   "execution_count": 56,
   "id": "473c9285-580c-42a2-86ff-e1e6f9d529c3",
   "metadata": {},
   "outputs": [],
   "source": [
    "model.add(tf.keras.layers.Dense(128, activation='relu'))"
   ]
  },
  {
   "cell_type": "code",
   "execution_count": 57,
   "id": "28532dab-e4ae-47bd-a7ec-962ccadf83c3",
   "metadata": {},
   "outputs": [],
   "source": [
    "model.add(tf.keras.layers.Dense(10, activation='softmax'))"
   ]
  },
  {
   "cell_type": "code",
   "execution_count": 58,
   "id": "b0bff20c-3d6e-4ee3-aa68-53f979f9af4c",
   "metadata": {},
   "outputs": [],
   "source": [
    "model.compile(\n",
    "    optimizer = tf.optimizers.Adam(),\n",
    "    loss=\"sparse_categorical_crossentropy\",\n",
    "    metrics=['accuracy']\n",
    ")"
   ]
  },
  {
   "cell_type": "code",
   "execution_count": 59,
   "id": "c199ea08-dc5e-403c-9a25-fc01f0b3774f",
   "metadata": {},
   "outputs": [
    {
     "name": "stdout",
     "output_type": "stream",
     "text": [
      "Model: \"sequential_5\"\n",
      "_________________________________________________________________\n",
      " Layer (type)                Output Shape              Param #   \n",
      "=================================================================\n",
      " conv2d_5 (Conv2D)           (None, 26, 26, 64)        640       \n",
      "                                                                 \n",
      " max_pooling2d_3 (MaxPooling  (None, 13, 13, 64)       0         \n",
      " 2D)                                                             \n",
      "                                                                 \n",
      " conv2d_6 (Conv2D)           (None, 11, 11, 64)        36928     \n",
      "                                                                 \n",
      " max_pooling2d_4 (MaxPooling  (None, 5, 5, 64)         0         \n",
      " 2D)                                                             \n",
      "                                                                 \n",
      " flatten_5 (Flatten)         (None, 1600)              0         \n",
      "                                                                 \n",
      " dense_8 (Dense)             (None, 128)               204928    \n",
      "                                                                 \n",
      " dense_9 (Dense)             (None, 10)                1290      \n",
      "                                                                 \n",
      "=================================================================\n",
      "Total params: 243,786\n",
      "Trainable params: 243,786\n",
      "Non-trainable params: 0\n",
      "_________________________________________________________________\n"
     ]
    }
   ],
   "source": [
    "model.summary()"
   ]
  },
  {
   "cell_type": "code",
   "execution_count": 60,
   "id": "137b0a66-f882-4903-863a-84132d54b6e6",
   "metadata": {},
   "outputs": [
    {
     "name": "stdout",
     "output_type": "stream",
     "text": [
      "Epoch 1/50\n",
      "1875/1875 [==============================] - 7s 3ms/step - loss: 0.4372 - accuracy: 0.8412\n",
      "Epoch 2/50\n",
      "1875/1875 [==============================] - 6s 3ms/step - loss: 0.2946 - accuracy: 0.8912\n",
      "Epoch 3/50\n",
      "1875/1875 [==============================] - 6s 3ms/step - loss: 0.2478 - accuracy: 0.9079\n",
      "Epoch 4/50\n",
      "1875/1875 [==============================] - 6s 3ms/step - loss: 0.2158 - accuracy: 0.9191\n",
      "Epoch 5/50\n",
      "1875/1875 [==============================] - 6s 3ms/step - loss: 0.1899 - accuracy: 0.9282\n",
      "Epoch 6/50\n",
      "1875/1875 [==============================] - 6s 3ms/step - loss: 0.1653 - accuracy: 0.9378\n",
      "Epoch 7/50\n",
      "1875/1875 [==============================] - 6s 3ms/step - loss: 0.1451 - accuracy: 0.9449\n",
      "Epoch 8/50\n",
      "1875/1875 [==============================] - 6s 3ms/step - loss: 0.1279 - accuracy: 0.9517\n",
      "Epoch 9/50\n",
      "1875/1875 [==============================] - 6s 3ms/step - loss: 0.1129 - accuracy: 0.9576\n",
      "Epoch 10/50\n",
      "1875/1875 [==============================] - 6s 3ms/step - loss: 0.0982 - accuracy: 0.9635\n",
      "Epoch 11/50\n",
      "1875/1875 [==============================] - 6s 3ms/step - loss: 0.0862 - accuracy: 0.9681\n",
      "Epoch 12/50\n",
      "1875/1875 [==============================] - 6s 3ms/step - loss: 0.0751 - accuracy: 0.9716\n",
      "Epoch 13/50\n",
      "1875/1875 [==============================] - 6s 3ms/step - loss: 0.0684 - accuracy: 0.9743: 0s -\n",
      "Epoch 14/50\n",
      "1875/1875 [==============================] - 6s 3ms/step - loss: 0.0616 - accuracy: 0.9771\n",
      "Epoch 15/50\n",
      "1875/1875 [==============================] - 6s 3ms/step - loss: 0.0528 - accuracy: 0.9805\n",
      "Epoch 16/50\n",
      "1875/1875 [==============================] - 6s 3ms/step - loss: 0.0497 - accuracy: 0.9812\n",
      "Epoch 17/50\n",
      "1875/1875 [==============================] - 6s 3ms/step - loss: 0.0456 - accuracy: 0.9833\n",
      "Epoch 18/50\n",
      "1875/1875 [==============================] - 6s 3ms/step - loss: 0.0421 - accuracy: 0.9843\n",
      "Epoch 19/50\n",
      "1875/1875 [==============================] - 6s 3ms/step - loss: 0.0416 - accuracy: 0.9841\n",
      "Epoch 20/50\n",
      "1875/1875 [==============================] - 6s 3ms/step - loss: 0.0377 - accuracy: 0.9865\n",
      "Epoch 21/50\n",
      "1875/1875 [==============================] - 6s 3ms/step - loss: 0.0315 - accuracy: 0.9885\n",
      "Epoch 22/50\n",
      "1875/1875 [==============================] - 6s 3ms/step - loss: 0.0331 - accuracy: 0.9881\n",
      "Epoch 23/50\n",
      "1875/1875 [==============================] - 6s 3ms/step - loss: 0.0301 - accuracy: 0.9889\n",
      "Epoch 24/50\n",
      "1875/1875 [==============================] - 6s 3ms/step - loss: 0.0307 - accuracy: 0.9895\n",
      "Epoch 25/50\n",
      "1875/1875 [==============================] - 6s 3ms/step - loss: 0.0284 - accuracy: 0.9899\n",
      "Epoch 26/50\n",
      "1875/1875 [==============================] - 6s 3ms/step - loss: 0.0267 - accuracy: 0.9907\n",
      "Epoch 27/50\n",
      "1875/1875 [==============================] - 6s 3ms/step - loss: 0.0271 - accuracy: 0.9902\n",
      "Epoch 28/50\n",
      "1875/1875 [==============================] - 6s 3ms/step - loss: 0.0265 - accuracy: 0.9906\n",
      "Epoch 29/50\n",
      "1875/1875 [==============================] - 6s 3ms/step - loss: 0.0249 - accuracy: 0.9915\n",
      "Epoch 30/50\n",
      "1875/1875 [==============================] - 6s 3ms/step - loss: 0.0241 - accuracy: 0.9919\n",
      "Epoch 31/50\n",
      "1875/1875 [==============================] - 6s 3ms/step - loss: 0.0212 - accuracy: 0.9924\n",
      "Epoch 32/50\n",
      "1875/1875 [==============================] - 6s 3ms/step - loss: 0.0266 - accuracy: 0.9910\n",
      "Epoch 33/50\n",
      "1875/1875 [==============================] - 6s 3ms/step - loss: 0.0209 - accuracy: 0.9930\n",
      "Epoch 34/50\n",
      "1875/1875 [==============================] - 6s 3ms/step - loss: 0.0224 - accuracy: 0.9921: 0s - loss: 0.021\n",
      "Epoch 35/50\n",
      "1875/1875 [==============================] - 6s 3ms/step - loss: 0.0191 - accuracy: 0.9934\n",
      "Epoch 36/50\n",
      "1875/1875 [==============================] - 6s 3ms/step - loss: 0.0221 - accuracy: 0.9924\n",
      "Epoch 37/50\n",
      "1875/1875 [==============================] - 6s 3ms/step - loss: 0.0186 - accuracy: 0.9936\n",
      "Epoch 38/50\n",
      "1875/1875 [==============================] - 6s 3ms/step - loss: 0.0243 - accuracy: 0.9923\n",
      "Epoch 39/50\n",
      "1875/1875 [==============================] - 6s 3ms/step - loss: 0.0177 - accuracy: 0.9940\n",
      "Epoch 40/50\n",
      "1875/1875 [==============================] - 6s 3ms/step - loss: 0.0186 - accuracy: 0.9941\n",
      "Epoch 41/50\n",
      "1875/1875 [==============================] - 6s 3ms/step - loss: 0.0192 - accuracy: 0.9937\n",
      "Epoch 42/50\n",
      "1875/1875 [==============================] - 6s 3ms/step - loss: 0.0213 - accuracy: 0.9931\n",
      "Epoch 43/50\n",
      "1875/1875 [==============================] - 6s 3ms/step - loss: 0.0177 - accuracy: 0.9941\n",
      "Epoch 44/50\n",
      "1875/1875 [==============================] - 6s 3ms/step - loss: 0.0172 - accuracy: 0.9946\n",
      "Epoch 45/50\n",
      "1875/1875 [==============================] - 6s 3ms/step - loss: 0.0199 - accuracy: 0.9934\n",
      "Epoch 46/50\n",
      "1875/1875 [==============================] - 6s 3ms/step - loss: 0.0210 - accuracy: 0.9930\n",
      "Epoch 47/50\n",
      "1875/1875 [==============================] - 6s 3ms/step - loss: 0.0177 - accuracy: 0.9944\n",
      "Epoch 48/50\n",
      "1875/1875 [==============================] - 6s 3ms/step - loss: 0.0173 - accuracy: 0.9945\n",
      "Epoch 49/50\n",
      "1875/1875 [==============================] - 6s 3ms/step - loss: 0.0158 - accuracy: 0.9952\n",
      "Epoch 50/50\n",
      "1875/1875 [==============================] - 6s 3ms/step - loss: 0.0170 - accuracy: 0.9945\n"
     ]
    },
    {
     "data": {
      "text/plain": [
       "<keras.callbacks.History at 0x255985a6cd0>"
      ]
     },
     "execution_count": 60,
     "metadata": {},
     "output_type": "execute_result"
    }
   ],
   "source": [
    "model.fit(training_images, training_labels, epochs = 50)"
   ]
  },
  {
   "cell_type": "code",
   "execution_count": 61,
   "id": "7b96c88b-c265-4d15-80d1-98ac4817703f",
   "metadata": {},
   "outputs": [
    {
     "name": "stdout",
     "output_type": "stream",
     "text": [
      "313/313 [==============================] - 1s 2ms/step - loss: 0.9121 - accuracy: 0.9060\n"
     ]
    },
    {
     "data": {
      "text/plain": [
       "[0.9121285080909729, 0.906000018119812]"
      ]
     },
     "execution_count": 61,
     "metadata": {},
     "output_type": "execute_result"
    }
   ],
   "source": [
    "model.evaluate(test_images, test_labels)"
   ]
  },
  {
   "cell_type": "code",
   "execution_count": null,
   "id": "62cb5770-c756-4e54-a12d-f6358491a946",
   "metadata": {},
   "outputs": [],
   "source": []
  }
 ],
 "metadata": {
  "kernelspec": {
   "display_name": "Python 3 (ipykernel)",
   "language": "python",
   "name": "python3"
  },
  "language_info": {
   "codemirror_mode": {
    "name": "ipython",
    "version": 3
   },
   "file_extension": ".py",
   "mimetype": "text/x-python",
   "name": "python",
   "nbconvert_exporter": "python",
   "pygments_lexer": "ipython3",
   "version": "3.9.7"
  }
 },
 "nbformat": 4,
 "nbformat_minor": 5
}
