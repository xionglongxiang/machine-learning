{
 "cells": [
  {
   "cell_type": "code",
   "execution_count": 12,
   "metadata": {},
   "outputs": [],
   "source": [
    "from sklearn.datasets import load_diabetes\n",
    "import matplotlib.pyplot as plt\n",
    "import numpy as np"
   ]
  },
  {
   "cell_type": "code",
   "execution_count": 62,
   "metadata": {},
   "outputs": [],
   "source": [
    "X = np.arange(0,10,0.05).reshape(-1, 1)"
   ]
  },
  {
   "cell_type": "code",
   "execution_count": 69,
   "metadata": {},
   "outputs": [],
   "source": [
    "np.random.seed(100)\n",
    "y = 0.5 * np.arange(0,10,0.05) + 3 + np.random.rand(len(X))\n"
   ]
  },
  {
   "cell_type": "code",
   "execution_count": 72,
   "metadata": {},
   "outputs": [
    {
     "data": {
      "text/plain": [
       "<matplotlib.collections.PathCollection at 0x7ff562858d90>"
      ]
     },
     "execution_count": 72,
     "metadata": {},
     "output_type": "execute_result"
    },
    {
     "data": {
      "image/png": "[encoded data removed]",
      "text/plain": [
       "<Figure size 432x288 with 1 Axes>"
      ]
     },
     "metadata": {
      "needs_background": "light"
     },
     "output_type": "display_data"
    }
   ],
   "source": [
    "plt.scatter(X.reshape(1, -1), y)"
   ]
  },
  {
   "cell_type": "code",
   "execution_count": 74,
   "metadata": {},
   "outputs": [],
   "source": [
    "from sklearn.model_selection import train_test_split\n",
    "\n",
    "X_train,X_test, y_train, y_test = train_test_split(X,y,test_size=0.3, random_state=0)\n",
    "\n"
   ]
  },
  {
   "cell_type": "code",
   "execution_count": 96,
   "metadata": {},
   "outputs": [],
   "source": [
    "class LinearRegression:\n",
    "    def __init__(self, eta=0.1, n_iters = 1e4, epsilon = 1e-8):\n",
    "        \n",
    "        self._X_train = None\n",
    "        self._y_train = None\n",
    "        self._theta = None\n",
    "        self._eta = eta\n",
    "        self._n_iters = n_iters\n",
    "        self._epsilon = epsilon\n",
    "        \n",
    "    def Cost(self, theta, X_b, y):\n",
    "        try:\n",
    "            return np.sum(np.square(y - X_b.dot(theta))) / len(X_b)\n",
    "        except:\n",
    "            return float('inf')\n",
    "\n",
    "    def dCost(self, theta, X_b, y):\n",
    "        return (X_b.dot(theta) - y).dot(X_b) * 2 / len(X_b)\n",
    "\n",
    "    def gradient_descent(self, X_b, y, init_theta, eta, n_iters, epsilon=):\n",
    "        theta = self._initial_theta\n",
    "        eta = self._eta\n",
    "        n_iters = self._n_iters\n",
    "        epsilon = self._epsilon\n",
    "        \n",
    "        i_iter = 0\n",
    "\n",
    "        while i_iter < n_iters:\n",
    "            gradient = dJ(theta, X_b, y)\n",
    "            last_theta = theta\n",
    "            theta = theta - eta * gradient\n",
    "\n",
    "            if (abs(J(theta, X_b, y) - J(last_theta, X_b, y)) < epsilon):\n",
    "                break\n",
    "            i_iter += 1\n",
    "        return theta\n",
    "    def fit(self, X_train, y_train):\n",
    "        print(X_train.shape, y_train.shape)\n",
    "        assert X_train.shape[0] == y_train.shape[0], 'train data has wrong dimenssion'\n",
    "        self._X_train = X_train\n",
    "        self._y_train = y_train\n",
    "        \n",
    "        X_b = np.hstack([np.ones((len(self._X_train), 1)), self._X_train])\n",
    "        initial_theta = np.zeros(X_b.shape[1])\n",
    "        eta = 0.01\n",
    "\n",
    "\n",
    "        self.gradient_descent(X_b, y_train, initial_theta, self._eta, self._n_iters, self._epsilon)\n",
    "        \n",
    "        return self\n",
    "    \n",
    "    def predict(self, X_test, y_test):\n",
    "        return self\n",
    "    "
   ]
  },
  {
   "cell_type": "code",
   "execution_count": 97,
   "metadata": {},
   "outputs": [
    {
     "name": "stdout",
     "output_type": "stream",
     "text": [
      "(140, 1) (140,)\n"
     ]
    },
    {
     "ename": "TypeError",
     "evalue": "gradient_descent() takes 3 positional arguments but 7 were given",
     "output_type": "error",
     "traceback": [
      "\u001b[0;31m---------------------------------------------------------------------------\u001b[0m",
      "\u001b[0;31mTypeError\u001b[0m                                 Traceback (most recent call last)",
      "\u001b[0;32m<ipython-input-97-a881d147fa9c>\u001b[0m in \u001b[0;36m<module>\u001b[0;34m\u001b[0m\n\u001b[1;32m      1\u001b[0m \u001b[0mlinear_regression\u001b[0m \u001b[0;34m=\u001b[0m \u001b[0mLinearRegression\u001b[0m\u001b[0;34m(\u001b[0m\u001b[0;34m)\u001b[0m\u001b[0;34m\u001b[0m\u001b[0;34m\u001b[0m\u001b[0m\n\u001b[1;32m      2\u001b[0m \u001b[0;34m\u001b[0m\u001b[0m\n\u001b[0;32m----> 3\u001b[0;31m \u001b[0mlinear_regression\u001b[0m\u001b[0;34m.\u001b[0m\u001b[0mfit\u001b[0m\u001b[0;34m(\u001b[0m\u001b[0mX_train\u001b[0m\u001b[0;34m,\u001b[0m \u001b[0my_train\u001b[0m\u001b[0;34m)\u001b[0m\u001b[0;34m\u001b[0m\u001b[0;34m\u001b[0m\u001b[0m\n\u001b[0m",
      "\u001b[0;32m<ipython-input-96-65a15839d839>\u001b[0m in \u001b[0;36mfit\u001b[0;34m(self, X_train, y_train)\u001b[0m\n\u001b[1;32m     46\u001b[0m \u001b[0;34m\u001b[0m\u001b[0m\n\u001b[1;32m     47\u001b[0m \u001b[0;34m\u001b[0m\u001b[0m\n\u001b[0;32m---> 48\u001b[0;31m         \u001b[0mself\u001b[0m\u001b[0;34m.\u001b[0m\u001b[0mgradient_descent\u001b[0m\u001b[0;34m(\u001b[0m\u001b[0mX_b\u001b[0m\u001b[0;34m,\u001b[0m \u001b[0my_train\u001b[0m\u001b[0;34m,\u001b[0m \u001b[0minitial_theta\u001b[0m\u001b[0;34m,\u001b[0m \u001b[0mself\u001b[0m\u001b[0;34m.\u001b[0m\u001b[0m_eta\u001b[0m\u001b[0;34m,\u001b[0m \u001b[0mself\u001b[0m\u001b[0;34m.\u001b[0m\u001b[0m_n_iters\u001b[0m\u001b[0;34m,\u001b[0m \u001b[0mself\u001b[0m\u001b[0;34m.\u001b[0m\u001b[0m_epsilon\u001b[0m\u001b[0;34m)\u001b[0m\u001b[0;34m\u001b[0m\u001b[0;34m\u001b[0m\u001b[0m\n\u001b[0m\u001b[1;32m     49\u001b[0m \u001b[0;34m\u001b[0m\u001b[0m\n\u001b[1;32m     50\u001b[0m         \u001b[0;32mreturn\u001b[0m \u001b[0mself\u001b[0m\u001b[0;34m\u001b[0m\u001b[0;34m\u001b[0m\u001b[0m\n",
      "\u001b[0;31mTypeError\u001b[0m: gradient_descent() takes 3 positional arguments but 7 were given"
     ]
    }
   ],
   "source": [
    "linear_regression = LinearRegression()\n",
    "\n",
    "linear_regression.fit(X_train, y_train)"
   ]
  },
  {
   "cell_type": "code",
   "execution_count": 78,
   "metadata": {},
   "outputs": [
    {
     "name": "stdout",
     "output_type": "stream",
     "text": [
      "[[6.55]\n",
      " [4.8 ]\n",
      " [9.05]\n",
      " [0.95]\n",
      " [7.65]\n",
      " [4.6 ]\n",
      " [2.7 ]\n",
      " [8.15]\n",
      " [2.55]\n",
      " [4.3 ]\n",
      " [6.95]\n",
      " [4.5 ]\n",
      " [6.85]\n",
      " [5.05]\n",
      " [7.2 ]\n",
      " [4.45]\n",
      " [5.45]\n",
      " [0.7 ]\n",
      " [1.35]\n",
      " [7.05]\n",
      " [9.35]\n",
      " [2.3 ]\n",
      " [6.9 ]\n",
      " [9.75]\n",
      " [5.4 ]\n",
      " [3.1 ]\n",
      " [0.1 ]\n",
      " [2.95]\n",
      " [6.8 ]\n",
      " [9.85]\n",
      " [2.15]\n",
      " [0.5 ]\n",
      " [9.7 ]\n",
      " [3.65]\n",
      " [9.8 ]\n",
      " [8.9 ]\n",
      " [8.75]\n",
      " [6.3 ]\n",
      " [4.65]\n",
      " [5.6 ]\n",
      " [7.9 ]\n",
      " [9.55]\n",
      " [2.5 ]\n",
      " [0.  ]\n",
      " [4.7 ]\n",
      " [5.5 ]\n",
      " [4.75]\n",
      " [3.2 ]\n",
      " [8.35]\n",
      " [2.05]\n",
      " [3.45]\n",
      " [2.45]\n",
      " [2.4 ]\n",
      " [4.25]\n",
      " [0.65]\n",
      " [8.05]\n",
      " [1.15]\n",
      " [9.3 ]\n",
      " [6.75]\n",
      " [1.  ]\n",
      " [0.75]\n",
      " [3.9 ]\n",
      " [5.2 ]\n",
      " [2.6 ]\n",
      " [5.  ]\n",
      " [3.8 ]\n",
      " [0.15]\n",
      " [5.8 ]\n",
      " [8.2 ]\n",
      " [9.9 ]\n",
      " [0.3 ]\n",
      " [3.4 ]\n",
      " [4.2 ]\n",
      " [6.05]\n",
      " [7.75]\n",
      " [8.55]\n",
      " [7.8 ]\n",
      " [4.55]\n",
      " [9.95]\n",
      " [0.55]\n",
      " [5.95]\n",
      " [5.1 ]\n",
      " [1.75]\n",
      " [2.85]\n",
      " [3.25]\n",
      " [0.05]\n",
      " [6.  ]\n",
      " [8.1 ]\n",
      " [2.1 ]\n",
      " [5.25]\n",
      " [6.6 ]\n",
      " [8.65]\n",
      " [0.85]\n",
      " [1.9 ]\n",
      " [6.65]\n",
      " [2.65]\n",
      " [7.85]\n",
      " [6.4 ]\n",
      " [1.7 ]\n",
      " [1.4 ]\n",
      " [5.7 ]\n",
      " [7.55]\n",
      " [1.55]\n",
      " [8.3 ]\n",
      " [6.35]\n",
      " [8.8 ]\n",
      " [1.6 ]\n",
      " [7.1 ]\n",
      " [8.45]\n",
      " [7.35]\n",
      " [1.45]\n",
      " [4.95]\n",
      " [4.1 ]\n",
      " [3.95]\n",
      " [5.75]\n",
      " [7.4 ]\n",
      " [9.65]\n",
      " [3.6 ]\n",
      " [3.85]\n",
      " [1.25]\n",
      " [8.25]\n",
      " [4.05]\n",
      " [9.4 ]\n",
      " [8.7 ]\n",
      " [9.5 ]\n",
      " [1.95]\n",
      " [2.9 ]\n",
      " [7.  ]\n",
      " [4.4 ]\n",
      " [3.5 ]\n",
      " [4.35]\n",
      " [1.8 ]\n",
      " [1.05]\n",
      " [0.45]\n",
      " [5.15]\n",
      " [3.35]\n",
      " [9.6 ]\n",
      " [5.85]\n",
      " [2.35]\n",
      " [8.6 ]] [6.54856292 5.65425752 8.38497556 3.74907375 7.54158609 5.4107879\n",
      " 4.70479561 7.97407631 5.15985329 5.95545054 7.46811737 5.79040458\n",
      " 7.4158928  6.3045984  7.54296024 5.85903668 5.89169413 3.56969749\n",
      " 3.92742635 7.18948145 8.33827705 4.91911517 7.44264224 8.50719206\n",
      " 6.67650013 5.17994188 3.47451759 4.98043143 6.98234417 8.8274095\n",
      " 4.09543913 4.14132195 8.34049905 5.79160969 8.63299502 7.58491872\n",
      " 8.21261574 6.55288033 5.6376403  6.72349683 7.3096781  8.50776061\n",
      " 5.22500649 3.54340494 5.80697913 5.77317814 6.03394007 5.5338413\n",
      " 7.51873954 4.65518394 4.92934528 5.07739509 4.48589569 5.46059644\n",
      " 3.43337689 7.47625862 3.91111195 8.12298399 6.65814036 3.93170418\n",
      " 4.35362378 5.0420556  6.29773491 4.65950784 6.27828922 5.63130075\n",
      " 3.91977613 6.44937526 7.82936046 8.11224692 3.82074908 5.063188\n",
      " 5.49503593 6.74107099 7.18458982 7.40802869 7.47744137 5.57179375\n",
      " 8.38088132 3.48420212 6.67116156 6.16032815 4.76541156 4.66269421\n",
      " 5.57137988 3.30336939 6.5003559  7.54184291 4.63184219 6.4846183\n",
      " 7.2434771  7.48473623 3.59694101 4.84054594 6.35154464 4.92385895\n",
      " 7.36670782 6.70061432 3.88647606 4.49566251 6.06097842 7.18577067\n",
      " 4.37880454 7.52543925 6.5292983  7.92016069 3.90514769 7.07398683\n",
      " 7.93603799 7.25769382 3.74025497 6.13262481 5.57803522 5.43849802\n",
      " 6.23552525 6.883279   8.77880473 4.973608   5.26538522 3.99783205\n",
      " 7.89508977 5.11346017 8.50572861 8.3116419  7.82957344 4.5519015\n",
      " 4.49486228 6.61004833 5.51306644 5.02676506 5.92934899 4.88092086\n",
      " 4.46502982 3.80009333 5.88400035 5.06276628 8.76139748 6.19683085\n",
      " 4.42569523 7.75603906]\n"
     ]
    }
   ],
   "source": [
    "print(X_train, y_train)"
   ]
  },
  {
   "cell_type": "code",
   "execution_count": 45,
   "metadata": {},
   "outputs": [],
   "source": [
    "X_b = np.zeros(3)\n",
    "X_b[0] = 1"
   ]
  },
  {
   "cell_type": "code",
   "execution_count": 46,
   "metadata": {},
   "outputs": [
    {
     "data": {
      "text/plain": [
       "array([1., 0., 0.])"
      ]
     },
     "execution_count": 46,
     "metadata": {},
     "output_type": "execute_result"
    }
   ],
   "source": [
    "X_b"
   ]
  },
  {
   "cell_type": "code",
   "execution_count": 48,
   "metadata": {},
   "outputs": [
    {
     "data": {
      "text/plain": [
       "array([[1.],\n",
       "       [1.],\n",
       "       [1.]])"
      ]
     },
     "execution_count": 48,
     "metadata": {},
     "output_type": "execute_result"
    }
   ],
   "source": [
    "np.ones((3,1))"
   ]
  },
  {
   "cell_type": "code",
   "execution_count": null,
   "metadata": {},
   "outputs": [],
   "source": []
  }
 ],
 "metadata": {
  "kernelspec": {
   "display_name": "Python 3",
   "language": "python",
   "name": "python3"
  },
  "language_info": {
   "codemirror_mode": {
    "name": "ipython",
    "version": 3
   },
   "file_extension": ".py",
   "mimetype": "text/x-python",
   "name": "python",
   "nbconvert_exporter": "python",
   "pygments_lexer": "ipython3",
   "version": "3.8.5"
  }
 },
 "nbformat": 4,
 "nbformat_minor": 4
}
