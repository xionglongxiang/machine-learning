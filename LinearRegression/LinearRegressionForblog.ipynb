{
 "cells": [
  {
   "cell_type": "code",
   "execution_count": 60,
   "metadata": {},
   "outputs": [
    {
     "data": {
      "text/plain": [
       "<matplotlib.collections.PathCollection at 0x1be45848340>"
      ]
     },
     "execution_count": 60,
     "metadata": {},
     "output_type": "execute_result"
    },
    {
     "data": {
      "image/png": "[encoded data removed]",
      "text/plain": [
       "<Figure size 432x288 with 1 Axes>"
      ]
     },
     "metadata": {
      "needs_background": "light"
     },
     "output_type": "display_data"
    }
   ],
   "source": [
    "from sklearn.datasets import load_diabetes\n",
    "import matplotlib.pyplot as plt\n",
    "import numpy as np\n",
    "\n",
    "X = np.arange(0,10,0.05).reshape(-1, 1)\n",
    "np.random.seed(100)\n",
    "y = 0.5 * np.arange(0,10,0.05) + 3 + np.random.rand(len(X))\n",
    "\n",
    "plt.scatter(X.reshape(1, -1), y)"
   ]
  },
  {
   "cell_type": "code",
   "execution_count": 61,
   "metadata": {},
   "outputs": [],
   "source": [
    "from sklearn.model_selection import train_test_split\n",
    "\n",
    "X_train,X_test, y_train, y_test = train_test_split(X,y,test_size=0.3, random_state=0)\n",
    "\n"
   ]
  },
  {
   "cell_type": "code",
   "execution_count": 62,
   "metadata": {},
   "outputs": [],
   "source": [
    "class LinearRegression:\n",
    "    def __init__(self, eta=0.02, n_iters = 1e4, epsilon = 1e-3):\n",
    "        \n",
    "        self._theta = None\n",
    "        self._eta = eta\n",
    "        self._n_iters = n_iters\n",
    "        self._epsilon = epsilon\n",
    "        \n",
    "    def Cost(self, theta, X_b, y):\n",
    "        try:\n",
    "            return np.sum(np.square(y - X_b.dot(theta))) / len(X_b)\n",
    "        except:\n",
    "            return float('inf')\n",
    "\n",
    "    def dCost(self, theta, X_b, y):\n",
    "        return (X_b.dot(theta) - y).dot(X_b) * 2 / len(X_b)\n",
    "\n",
    "    def gradient_descent(self, X_b, y, initial_theta, eta, n_iters, epsilon):\n",
    "        theta = initial_theta\n",
    "        eta = self._eta\n",
    "        n_iters = self._n_iters\n",
    "        epsilon = self._epsilon\n",
    "        \n",
    "        i_iter = 0\n",
    "        try:\n",
    "            while i_iter < n_iters:\n",
    "                gradient = self.dCost(theta, X_b, y)\n",
    "                last_theta = theta\n",
    "                theta = theta - eta * gradient\n",
    "\n",
    "                diff = abs(self.Cost(theta, X_b, y) - self.Cost(last_theta, X_b, y))\n",
    "                if (diff > 1e100):\n",
    "                    print('eta is too large!')\n",
    "                    break\n",
    "                if (diff  < epsilon):\n",
    "                    break\n",
    "                i_iter += 1\n",
    "\n",
    "            self._theta = theta\n",
    "        except:\n",
    "            self._theta = float('inf')\n",
    "        return self\n",
    "\n",
    "    def fit(self, X_train, y_train):\n",
    "        assert X_train.shape[0] == y_train.shape[0], 'train data has wrong dimenssion'\n",
    "        self._X_train = X_train\n",
    "        self._y_train = y_train\n",
    "        \n",
    "        X_b = np.hstack([np.ones((len(self._X_train), 1)), self._X_train])\n",
    "        initial_theta = np.zeros(X_b.shape[1])\n",
    "        eta = 0.01\n",
    "        \n",
    "        self.gradient_descent(X_b, y_train, initial_theta, self._eta, self._n_iters, self._epsilon)\n",
    "        \n",
    "        return self\n",
    "    \n",
    "    def predict(self, X_test):\n",
    "        X_b = np.hstack([np.ones((len(X_test), 1)), X_test])\n",
    "        return np.dot(X_b, self._theta)\n",
    "    "
   ]
  },
  {
   "cell_type": "code",
   "execution_count": null,
   "metadata": {},
   "outputs": [],
   "source": []
  },
  {
   "cell_type": "code",
   "execution_count": 72,
   "metadata": {},
   "outputs": [
    {
     "data": {
      "text/plain": [
       "array([3.45402168, 0.51257892])"
      ]
     },
     "execution_count": 72,
     "metadata": {},
     "output_type": "execute_result"
    }
   ],
   "source": [
    "linear_regression = LinearRegression(\n",
    "    epsilon = 1e-6,\n",
    "    eta = 0.02\n",
    ")\n",
    "\n",
    "linear_regression.fit(X_train, y_train)\n",
    "y_predict = linear_regression.predict(X_test)\n",
    "params = linear_regression._theta\n",
    "params"
   ]
  },
  {
   "cell_type": "code",
   "execution_count": 70,
   "metadata": {},
   "outputs": [
    {
     "data": {
      "text/plain": [
       "<matplotlib.collections.PathCollection at 0x1be45959400>"
      ]
     },
     "execution_count": 70,
     "metadata": {},
     "output_type": "execute_result"
    },
    {
     "data": {
      "image/png": "[encoded data removed]",
      "text/plain": [
       "<Figure size 432x288 with 1 Axes>"
      ]
     },
     "metadata": {
      "needs_background": "light"
     },
     "output_type": "display_data"
    }
   ],
   "source": [
    "plt.scatter(X.reshape(1, -1), y)\n",
    "\n",
    "theta = params[1]\n",
    "b = params[0]\n",
    "\n",
    "X = np.arange(0,10,0.05).reshape(-1, 1)\n",
    "y_predict = theta * X + b\n",
    "\n",
    "plt.scatter(X, y_predict)"
   ]
  },
  {
   "cell_type": "code",
   "execution_count": 77,
   "metadata": {},
   "outputs": [
    {
     "data": {
      "text/plain": [
       "(array([0.51042252]), 3.4682654875517605)"
      ]
     },
     "execution_count": 77,
     "metadata": {},
     "output_type": "execute_result"
    }
   ],
   "source": [
    "from sklearn.linear_model import LinearRegression\n",
    "linear_regression = LinearRegression()\n",
    "\n",
    "linear_regression.fit(X_train, y_train)\n",
    "y_predict = linear_regression.predict(X_test)\n",
    "linear_regression.coef_, linear_regression.intercept_"
   ]
  },
  {
   "cell_type": "code",
   "execution_count": 78,
   "metadata": {},
   "outputs": [
    {
     "data": {
      "text/plain": [
       "<matplotlib.collections.PathCollection at 0x1be458f4e80>"
      ]
     },
     "execution_count": 78,
     "metadata": {},
     "output_type": "execute_result"
    },
    {
     "data": {
      "image/png": "[encoded data removed]",
      "text/plain": [
       "<Figure size 432x288 with 1 Axes>"
      ]
     },
     "metadata": {
      "needs_background": "light"
     },
     "output_type": "display_data"
    }
   ],
   "source": [
    "plt.scatter(X.reshape(1, -1), y)\n",
    "\n",
    "theta = params[1]\n",
    "b = params[0]\n",
    "\n",
    "X = np.arange(0,10,0.05).reshape(-1, 1)\n",
    "y_predict = linear_regression.coef_ * X + linear_regression.intercept_\n",
    "\n",
    "plt.scatter(X, y_predict)"
   ]
  },
  {
   "cell_type": "code",
   "execution_count": null,
   "metadata": {},
   "outputs": [],
   "source": []
  },
  {
   "cell_type": "code",
   "execution_count": null,
   "metadata": {},
   "outputs": [],
   "source": []
  },
  {
   "cell_type": "code",
   "execution_count": null,
   "metadata": {},
   "outputs": [],
   "source": []
  },
  {
   "cell_type": "code",
   "execution_count": null,
   "metadata": {},
   "outputs": [],
   "source": []
  },
  {
   "cell_type": "code",
   "execution_count": null,
   "metadata": {},
   "outputs": [],
   "source": []
  },
  {
   "cell_type": "code",
   "execution_count": null,
   "metadata": {},
   "outputs": [],
   "source": []
  },
  {
   "cell_type": "code",
   "execution_count": null,
   "metadata": {},
   "outputs": [],
   "source": []
  },
  {
   "cell_type": "code",
   "execution_count": null,
   "metadata": {},
   "outputs": [],
   "source": []
  },
  {
   "cell_type": "code",
   "execution_count": null,
   "metadata": {},
   "outputs": [],
   "source": []
  },
  {
   "cell_type": "code",
   "execution_count": null,
   "metadata": {},
   "outputs": [],
   "source": []
  },
  {
   "cell_type": "code",
   "execution_count": null,
   "metadata": {},
   "outputs": [],
   "source": []
  },
  {
   "cell_type": "code",
   "execution_count": null,
   "metadata": {},
   "outputs": [],
   "source": []
  }
 ],
 "metadata": {
  "kernelspec": {
   "display_name": "Python 3 (ipykernel)",
   "language": "python",
   "name": "python3"
  },
  "language_info": {
   "codemirror_mode": {
    "name": "ipython",
    "version": 3
   },
   "file_extension": ".py",
   "mimetype": "text/x-python",
   "name": "python",
   "nbconvert_exporter": "python",
   "pygments_lexer": "ipython3",
   "version": "3.9.7"
  }
 },
 "nbformat": 4,
 "nbformat_minor": 4
}
