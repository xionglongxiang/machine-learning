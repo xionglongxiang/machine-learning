{
 "cells": [
  {
   "cell_type": "code",
   "execution_count": 1,
   "metadata": {},
   "outputs": [],
   "source": [
    "import numpy as np\n",
    "\n",
    "X = np.array([\n",
    "    [1, 1],\n",
    "    [2, 1],\n",
    "    [1, 2],\n",
    "    [2, 2],\n",
    "    [3, 4],\n",
    "    [4, 3],\n",
    "    [4, 5],\n",
    "    [5, 4]\n",
    "])"
   ]
  },
  {
   "cell_type": "code",
   "execution_count": 2,
   "metadata": {},
   "outputs": [
    {
     "data": {
      "text/plain": [
       "<matplotlib.collections.PathCollection at 0x2806539f2e0>"
      ]
     },
     "execution_count": 2,
     "metadata": {},
     "output_type": "execute_result"
    },
    {
     "data": {
      "image/png": "[encoded data removed]",
      "text/plain": [
       "<Figure size 360x360 with 1 Axes>"
      ]
     },
     "metadata": {
      "needs_background": "light"
     },
     "output_type": "display_data"
    }
   ],
   "source": [
    "import matplotlib.pyplot as plt\n",
    "\n",
    "plt.figure(figsize=(5,5))\n",
    "plt.xlim(0, 6)\n",
    "plt.ylim(0, 6)\n",
    "plt.grid()\n",
    "plt.scatter(X[:, 0], X[:, 1])"
   ]
  },
  {
   "cell_type": "code",
   "execution_count": 3,
   "metadata": {},
   "outputs": [],
   "source": [
    "# 假设 初始分类点是(1, 2) (2, 1)"
   ]
  },
  {
   "cell_type": "code",
   "execution_count": 4,
   "metadata": {},
   "outputs": [],
   "source": [
    "centers = np.array([(1,1), (2, 1)])"
   ]
  },
  {
   "cell_type": "code",
   "execution_count": 5,
   "metadata": {},
   "outputs": [
    {
     "data": {
      "text/plain": [
       "<matplotlib.collections.PathCollection at 0x28061fdfc40>"
      ]
     },
     "execution_count": 5,
     "metadata": {},
     "output_type": "execute_result"
    },
    {
     "data": {
      "image/png": "[encoded data removed]",
      "text/plain": [
       "<Figure size 360x360 with 1 Axes>"
      ]
     },
     "metadata": {
      "needs_background": "light"
     },
     "output_type": "display_data"
    }
   ],
   "source": [
    "import matplotlib.pyplot as plt\n",
    "\n",
    "plt.figure(figsize=(5,5))\n",
    "plt.xlim(0, 6)\n",
    "plt.ylim(0, 6)\n",
    "plt.grid()\n",
    "plt.scatter(X[:, 0], X[:, 1], color='grey')\n",
    "plt.scatter(centers[0,0], centers[0,1], marker='s', color = 'green')\n",
    "plt.scatter(centers[1,0], centers[1,1], marker='v', color = 'red')"
   ]
  },
  {
   "cell_type": "code",
   "execution_count": 6,
   "metadata": {},
   "outputs": [
    {
     "data": {
      "text/plain": [
       "<matplotlib.collections.PathCollection at 0x2806550eca0>"
      ]
     },
     "execution_count": 6,
     "metadata": {},
     "output_type": "execute_result"
    },
    {
     "data": {
      "image/png": "[encoded data removed]",
      "text/plain": [
       "<Figure size 360x360 with 1 Axes>"
      ]
     },
     "metadata": {
      "needs_background": "light"
     },
     "output_type": "display_data"
    }
   ],
   "source": [
    "import matplotlib.pyplot as plt\n",
    "\n",
    "plt.figure(figsize=(5,5))\n",
    "plt.xlim(0, 6)\n",
    "plt.ylim(0, 6)\n",
    "plt.grid()\n",
    "plt.scatter(X[:, 0], X[:, 1], color='grey')\n",
    "plt.plot([1.5, 1.5], [0, 6])\n",
    "plt.scatter(centers[0,0], centers[0,1], marker='s', color = 'green')\n",
    "plt.scatter(centers[1,0], centers[1,1], marker='v', color = 'red')"
   ]
  },
  {
   "cell_type": "code",
   "execution_count": 13,
   "metadata": {},
   "outputs": [
    {
     "data": {
      "text/plain": [
       "<matplotlib.collections.PathCollection at 0x280657af160>"
      ]
     },
     "execution_count": 13,
     "metadata": {},
     "output_type": "execute_result"
    },
    {
     "data": {
      "image/png": "[encoded data removed]",
      "text/plain": [
       "<Figure size 360x360 with 1 Axes>"
      ]
     },
     "metadata": {
      "needs_background": "light"
     },
     "output_type": "display_data"
    }
   ],
   "source": [
    "import matplotlib.pyplot as plt\n",
    "\n",
    "plt.figure(figsize=(5,5))\n",
    "plt.xlim(0, 6)\n",
    "plt.ylim(0, 6)\n",
    "plt.grid()\n",
    "green = [0, 2]\n",
    "red = [1, 3, 4, 5, 6, 7]\n",
    "\n",
    "plt.scatter(X[green][:, 0], X[green][:, 1], color='green')\n",
    "plt.scatter(X[red][:, 0], X[red][:, 1], color='red')\n",
    "\n",
    "plt.plot([1.5, 1.5], [0, 6])\n",
    "\n",
    "plt.scatter(centers[0,0], centers[0,1], marker='s', color = 'green')\n",
    "plt.scatter(centers[1,0], centers[1,1], marker='v', color = 'red')"
   ]
  },
  {
   "cell_type": "code",
   "execution_count": 18,
   "metadata": {},
   "outputs": [
    {
     "data": {
      "text/plain": [
       "(array([1. , 1.5]), array([3.33333333, 3.16666667]))"
      ]
     },
     "execution_count": 18,
     "metadata": {},
     "output_type": "execute_result"
    }
   ],
   "source": [
    "green_center = np.average(X[green], axis = 0)\n",
    "red_center = np.average(X[red], axis = 0)\n",
    "green_center, red_center"
   ]
  },
  {
   "cell_type": "code",
   "execution_count": 29,
   "metadata": {},
   "outputs": [
    {
     "data": {
      "text/plain": [
       "<matplotlib.collections.PathCollection at 0x28066816a90>"
      ]
     },
     "execution_count": 29,
     "metadata": {},
     "output_type": "execute_result"
    },
    {
     "data": {
      "image/png": "[encoded data removed]",
      "text/plain": [
       "<Figure size 360x360 with 1 Axes>"
      ]
     },
     "metadata": {
      "needs_background": "light"
     },
     "output_type": "display_data"
    }
   ],
   "source": [
    "import matplotlib.pyplot as plt\n",
    "\n",
    "plt.figure(figsize=(5,5))\n",
    "plt.xlim(0, 6)\n",
    "plt.ylim(0, 6)\n",
    "plt.grid()\n",
    "green = [0, 2]\n",
    "red = [1, 3, 4, 5, 6, 7]\n",
    "\n",
    "plt.scatter(green_center[0], green_center[1], color='g', marker='s')\n",
    "plt.scatter(red_center[0], red_center[1], color='r', marker='v')\n",
    "\n",
    "\n",
    "plt.scatter(X[green][:, 0], X[green][:, 1], color='green')\n",
    "plt.scatter(X[red][:, 0], X[red][:, 1], color='red')\n",
    "\n",
    "\n",
    "# plt.plot([1.5, 1.5], [0, 6])"
   ]
  },
  {
   "cell_type": "code",
   "execution_count": 30,
   "metadata": {},
   "outputs": [
    {
     "data": {
      "text/plain": [
       "[<matplotlib.lines.Line2D at 0x28066815be0>]"
      ]
     },
     "execution_count": 30,
     "metadata": {},
     "output_type": "execute_result"
    },
    {
     "data": {
      "image/png": "[encoded data removed]",
      "text/plain": [
       "<Figure size 360x360 with 1 Axes>"
      ]
     },
     "metadata": {
      "needs_background": "light"
     },
     "output_type": "display_data"
    }
   ],
   "source": [
    "import matplotlib.pyplot as plt\n",
    "\n",
    "plt.figure(figsize=(5,5))\n",
    "plt.xlim(0, 6)\n",
    "plt.ylim(0, 6)\n",
    "plt.grid()\n",
    "green = [0, 2]\n",
    "red = [1, 3, 4, 5, 6, 7]\n",
    "\n",
    "plt.scatter(green_center[0], green_center[1], color='g', marker='s')\n",
    "plt.scatter(red_center[0], red_center[1], color='r', marker='v')\n",
    "\n",
    "\n",
    "plt.scatter(X[green][:, 0], X[green][:, 1], color='green')\n",
    "plt.scatter(X[red][:, 0], X[red][:, 1], color='red')\n",
    "\n",
    "\n",
    "plt.plot([0, 4.3], [5.2, 0])"
   ]
  },
  {
   "cell_type": "code",
   "execution_count": 32,
   "metadata": {},
   "outputs": [
    {
     "data": {
      "text/plain": [
       "<matplotlib.collections.PathCollection at 0x280674b57c0>"
      ]
     },
     "execution_count": 32,
     "metadata": {},
     "output_type": "execute_result"
    },
    {
     "data": {
      "image/png": "[encoded data removed]",
      "text/plain": [
       "<Figure size 360x360 with 1 Axes>"
      ]
     },
     "metadata": {
      "needs_background": "light"
     },
     "output_type": "display_data"
    }
   ],
   "source": [
    "import matplotlib.pyplot as plt\n",
    "\n",
    "plt.figure(figsize=(5,5))\n",
    "plt.xlim(0, 6)\n",
    "plt.ylim(0, 6)\n",
    "plt.grid()\n",
    "green = [0, 1, 2, 3]\n",
    "red = [4, 5, 6, 7]\n",
    "\n",
    "plt.scatter(green_center[0], green_center[1], color='g', marker='s')\n",
    "plt.scatter(red_center[0], red_center[1], color='r', marker='v')\n",
    "\n",
    "\n",
    "plt.scatter(X[green][:, 0], X[green][:, 1], color='green')\n",
    "plt.scatter(X[red][:, 0], X[red][:, 1], color='red')\n",
    "\n",
    "\n"
   ]
  },
  {
   "cell_type": "code",
   "execution_count": 33,
   "metadata": {},
   "outputs": [
    {
     "data": {
      "text/plain": [
       "<matplotlib.collections.PathCollection at 0x280675b8b20>"
      ]
     },
     "execution_count": 33,
     "metadata": {},
     "output_type": "execute_result"
    },
    {
     "data": {
      "image/png": "[encoded data removed]",
      "text/plain": [
       "<Figure size 360x360 with 1 Axes>"
      ]
     },
     "metadata": {
      "needs_background": "light"
     },
     "output_type": "display_data"
    }
   ],
   "source": [
    "green_center = [1.5, 1.5]\n",
    "red_center = [4, 4]\n",
    "import matplotlib.pyplot as plt\n",
    "\n",
    "plt.figure(figsize=(5,5))\n",
    "plt.xlim(0, 6)\n",
    "plt.ylim(0, 6)\n",
    "plt.grid()\n",
    "green = [0, 1, 2, 3]\n",
    "red = [4, 5, 6, 7]\n",
    "\n",
    "plt.scatter(green_center[0], green_center[1], color='g', marker='s')\n",
    "plt.scatter(red_center[0], red_center[1], color='r', marker='v')\n",
    "\n",
    "\n",
    "plt.scatter(X[green][:, 0], X[green][:, 1], color='green')\n",
    "plt.scatter(X[red][:, 0], X[red][:, 1], color='red')\n",
    "\n",
    "\n"
   ]
  },
  {
   "cell_type": "code",
   "execution_count": null,
   "metadata": {},
   "outputs": [],
   "source": []
  }
 ],
 "metadata": {
  "kernelspec": {
   "display_name": "Python 3",
   "language": "python",
   "name": "python3"
  },
  "language_info": {
   "codemirror_mode": {
    "name": "ipython",
    "version": 3
   },
   "file_extension": ".py",
   "mimetype": "text/x-python",
   "name": "python",
   "nbconvert_exporter": "python",
   "pygments_lexer": "ipython3",
   "version": "3.8.5"
  }
 },
 "nbformat": 4,
 "nbformat_minor": 2
}
