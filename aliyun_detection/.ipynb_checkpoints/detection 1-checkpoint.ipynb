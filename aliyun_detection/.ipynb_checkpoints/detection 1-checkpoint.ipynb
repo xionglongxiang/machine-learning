{
 "cells": [
  {
   "cell_type": "code",
   "execution_count": 9,
   "id": "6c1a297b-b1b0-48ce-a1f1-11628640d67b",
   "metadata": {},
   "outputs": [],
   "source": [
    "import pandas as pd\n",
    "\n",
    "def get_data(filename):\n",
    "    result = []\n",
    "    chunk_index = 0\n",
    "    for df in pd.read_csv(open(filename, 'r'), chunksize = 1000000):\n",
    "        result.append(df)\n",
    "        chunk_index += 1\n",
    "    results = pd.concat(result, ignore_index = True, axis = 0)\n",
    "    return results"
   ]
  },
  {
   "cell_type": "code",
   "execution_count": 10,
   "id": "c1b08cd5-8aad-4544-967e-1a897461c7a2",
   "metadata": {},
   "outputs": [
    {
     "name": "stdout",
     "output_type": "stream",
     "text": [
      "Wall time: 32.6 s\n"
     ]
    }
   ],
   "source": [
    "%%time\n",
    "train = get_data('./datasets/security_train.csv')"
   ]
  },
  {
   "cell_type": "code",
   "execution_count": null,
   "id": "bacfab6c-3dad-4e0c-aeb3-34a7134d34ae",
   "metadata": {},
   "outputs": [],
   "source": [
    "%%time\n",
    "test = get_data('./datasets/security_test.csv')"
   ]
  },
  {
   "cell_type": "code",
   "execution_count": null,
   "id": "aa34cd58-d0ac-4ba1-b9d6-7790dfec5c28",
   "metadata": {},
   "outputs": [],
   "source": [
    "%%time\n",
    "import pickle\n",
    "with open('./datasets/train.pkl', 'wb') as f:\n",
    "    pickle.dump(train, f)\n",
    "with open('./datasets/test.pkl', 'wb') as f:\n",
    "    pickle.dump(test, f)"
   ]
  },
  {
   "cell_type": "code",
   "execution_count": null,
   "id": "cf69e25a-fb68-4264-a072-0a192abf70b6",
   "metadata": {},
   "outputs": [],
   "source": [
    "%%time\n",
    "import pickle\n",
    "with open('./datasets/train.pkl', 'rb') as f:\n",
    "    train = pickle.load(f)\n",
    "with open('./datasets/test.pkl', 'rb') as f:\n",
    "    test = pickle.load(f)"
   ]
  },
  {
   "cell_type": "code",
   "execution_count": null,
   "id": "ae26b1f0-d3e1-479d-9703-69b0e4e6a6cb",
   "metadata": {},
   "outputs": [],
   "source": [
    "train.shape"
   ]
  },
  {
   "cell_type": "code",
   "execution_count": null,
   "id": "ceb45052-4e10-4735-804b-bec7761278bf",
   "metadata": {},
   "outputs": [],
   "source": [
    "#train\n",
    "import sys\n",
    "sys.getsizeof(train)/1024/1024"
   ]
  },
  {
   "cell_type": "code",
   "execution_count": null,
   "id": "5b55e5ad-72d9-4ea6-a4b8-077724f2c4af",
   "metadata": {},
   "outputs": [],
   "source": [
    "## api encode / labelEncoder\n",
    "from sklearn.preprocessing import LabelEncoder\n",
    "le = LabelEncoder()\n",
    "\n",
    "df_all = pd.concat([train, test])\n",
    "df_all['api'] = le.fit_transform(df_all['api'])\n",
    "\n",
    "train['api'] = df_all[df_all['label'].notnull()]['api']\n",
    "test['api'] = df_all[df_all['label'].isnull()]['api']"
   ]
  },
  {
   "cell_type": "code",
   "execution_count": null,
   "id": "73fab996-4ac2-4c18-8a62-bc16f6554fee",
   "metadata": {},
   "outputs": [],
   "source": [
    "train"
   ]
  },
  {
   "cell_type": "code",
   "execution_count": null,
   "id": "c0afe090-9710-4ca3-862d-62241053735c",
   "metadata": {},
   "outputs": [],
   "source": [
    "#train\n",
    "import sys\n",
    "sys.getsizeof(train)/1024/1024"
   ]
  },
  {
   "cell_type": "code",
   "execution_count": null,
   "id": "3f07770e-db16-46ea-a06c-c75b36a69310",
   "metadata": {},
   "outputs": [],
   "source": [
    "import os\n",
    "import psutil\n",
    "mem = psutil.virtual_memory()\n",
    "print('总内存', mem.total/1024/1024)\n",
    "print('已使用内存', mem.used/1024/1024)\n",
    "print('空闲内存', mem.free/1024/1024)\n",
    "print('使用占比', mem.percent)\n",
    "print('当前线程PID', os.getpid())\n",
    "print('当前线程使用：',  psutil.Process(os.getpid()).memory_info().rss/1024/1024)\n",
    "\n",
    "#CPU \n",
    "print('CPU counts', psutil.cpu_count())\n",
    "print('cpu ratio', psutil.cpu_percent())\n"
   ]
  },
  {
   "cell_type": "code",
   "execution_count": null,
   "id": "7ca34bd1-3813-4b33-a5e2-91be94bf00e1",
   "metadata": {},
   "outputs": [],
   "source": [
    "import gc\n",
    "del df_all\n",
    "gc.collect()"
   ]
  },
  {
   "cell_type": "code",
   "execution_count": null,
   "id": "4508e787-7a26-43b8-b1fa-9c985f279289",
   "metadata": {},
   "outputs": [],
   "source": [
    "import os\n",
    "import psutil\n",
    "mem = psutil.virtual_memory()\n",
    "print('总内存', mem.total/1024/1024)\n",
    "print('已使用内存', mem.used/1024/1024)\n",
    "print('空闲内存', mem.free/1024/1024)\n",
    "print('使用占比', mem.percent)\n",
    "print('当前线程PID', os.getpid())\n",
    "print('当前线程使用：',  psutil.Process(os.getpid()).memory_info().rss/1024/1024)\n",
    "\n",
    "#CPU \n",
    "print('CPU counts', psutil.cpu_count())\n",
    "print('cpu ratio', psutil.cpu_percent())\n"
   ]
  },
  {
   "cell_type": "code",
   "execution_count": null,
   "id": "4a56fc62-54fd-4360-9b8c-26f5f9dfbd35",
   "metadata": {},
   "outputs": [],
   "source": [
    "train.head()"
   ]
  },
  {
   "cell_type": "code",
   "execution_count": null,
   "id": "9a767808-01cb-4f4e-a168-af7b1b467bf6",
   "metadata": {},
   "outputs": [],
   "source": [
    "# 构造新特征\n",
    "\n",
    "def get_feature(df):\n",
    "    df_file = df.groupby('file_id')\n",
    "    if 'label' in df.columns:\n",
    "        df1 = df.drop_duplicates(subset = ['file_id', 'label'], keep='first')\n",
    "    else:\n",
    "        df1 = df.drop_duplicates(subset = ['file_id'], keep='first')\n",
    "    df1 = df1.sort_values('file_id')\n",
    "    \n",
    "    # 提取多个特征 统计特征\n",
    "    features = ['api', 'tid', 'index']\n",
    "    for f in features:\n",
    "        df1[f + '_count'] = df_file[f].count().values\n",
    "        df1[f + '_nuinque'] = df_file[f].nunique().values\n",
    "        df1[f + '_min'] = df_file[f].min().values\n",
    "        df1[f + '_max'] = df_file[f].max().values\n",
    "        df1[f + '_median'] = df_file[f].median().values\n",
    "        df1[f + '_std'] = df_file[f].std().values\n",
    "    return df1\n"
   ]
  },
  {
   "cell_type": "code",
   "execution_count": null,
   "id": "1d67b5d4-0659-4761-ab35-f305e9d95b4a",
   "metadata": {},
   "outputs": [],
   "source": [
    "df_train = get_feature(train)\n",
    "df_train"
   ]
  },
  {
   "cell_type": "code",
   "execution_count": null,
   "id": "c27bf616-e5ea-4dac-bf2c-11b43bf393d7",
   "metadata": {},
   "outputs": [],
   "source": [
    "df_test = get_feature(test)\n",
    "df_test"
   ]
  },
  {
   "cell_type": "code",
   "execution_count": null,
   "id": "445a56f3-edc1-411c-a231-441926f0a1f4",
   "metadata": {},
   "outputs": [],
   "source": [
    "# 0.72\n",
    "import lightgbm as lgb\n",
    "\n",
    "clf = lgb.LGBMClassifier(\n",
    "    num_leaves=2**5 - 1, reg_alpha=0.25, reg_lambda= 0.25, objective='multiclass', max_depth=-1, learning_rate=0.005, min_child_samples=3,\n",
    "    random_state=2021, n_estimators=10000, subsample=1, colsample_bytree=1\n",
    ")\n",
    "\n",
    "clf.fit(df_train.drop('label', axis=1), df_train['label'])\n",
    "\n",
    "# result = ensemble_model(clf, features, labels, test_fea, cate_features)\n",
    "result = clf.predict_proba(df_test)\n",
    "result = pd.DataFrame(result, columns = ['prob0', 'prob1','prob2','prob3','prob4','prob5','prob6','prob7'])\n",
    "result['file_id'] = df_test['file_id'].values\n",
    "columns = ['file_id', 'prob0', 'prob1','prob2','prob3','prob4','prob5','prob6','prob7']\n",
    "result.to_csv('v1 nl25 ne10000.csv', index = False, columns = columns)\n"
   ]
  },
  {
   "cell_type": "code",
   "execution_count": null,
   "id": "537c6a9a-e993-4b04-9fa3-c4ef2353836f",
   "metadata": {},
   "outputs": [],
   "source": [
    "%%time\n",
    "\n",
    "# 0.683331\n",
    "\n",
    "import xgboost as xgb\n",
    "\n",
    "model_xgb = xgb.XGBClassifier(\n",
    "    max_depth=9, learning_rate=0.005, n_estimators=2000, \n",
    "    objective='multi:softprob', tree_method='gpu_hist', \n",
    "    subsample=0.8, colsample_bytree=0.8, \n",
    "    min_child_samples=3, eval_metric='logloss', reg_lambda=0.5\n",
    ")\n",
    "\n",
    "\n",
    "model_xgb = model_xgb.fit(df_train.drop('label', axis=1), df_train['label'])\n",
    "\n",
    "# result = ensemble_model(clf, features, labels, test_fea, cate_features)\n",
    "result = model_xgb.predict_proba(df_test)\n",
    "result = pd.DataFrame(result, columns = ['prob0', 'prob1','prob2','prob3','prob4','prob5','prob6','prob7'])\n",
    "result['file_id'] = df_test['file_id'].values\n",
    "columns = ['file_id', 'prob0', 'prob1','prob2','prob3','prob4','prob5','prob6','prob7']\n",
    "result.to_csv('v1 xgb.csv', index = False, columns = columns)\n"
   ]
  },
  {
   "cell_type": "code",
   "execution_count": null,
   "id": "f3d66319-1410-45a9-b5cb-14990ba1f5b4",
   "metadata": {},
   "outputs": [],
   "source": [
    "result1 = pd.read_csv('./v1 nl25 ne10000.csv')\n",
    "result2 = pd.read_csv('./v1 xgb.csv')\n",
    "\n",
    "weight1 = 0.3\n",
    "result['prob0'] = result1['prob0'] * weight1  + result2['prob0'] * (1-weight1)\n",
    "result['prob1'] = result1['prob1'] * weight1  + result2['prob1'] * (1-weight1)\n",
    "result['prob2'] = result1['prob2'] * weight1  + result2['prob2'] * (1-weight1)\n",
    "result['prob3'] = result1['prob3'] * weight1  + result2['prob3'] * (1-weight1)\n",
    "result['prob4'] = result1['prob4'] * weight1  + result2['prob4'] * (1-weight1)\n",
    "result['prob5'] = result1['prob5'] * weight1  + result2['prob5'] * (1-weight1)\n",
    "result['prob6'] = result1['prob6'] * weight1  + result2['prob6'] * (1-weight1)\n",
    "result['prob7'] = result1['prob7'] * weight1  + result2['prob7'] * (1-weight1)\n",
    "\n"
   ]
  },
  {
   "cell_type": "code",
   "execution_count": null,
   "id": "d225ca81-4297-43fb-b1ce-6760c7b56d66",
   "metadata": {},
   "outputs": [],
   "source": [
    "columns = ['file_id', 'prob0', 'prob1','prob2','prob3','prob4','prob5','prob6','prob7']\n",
    "\n",
    "result.to_csv('merge.csv', index=False, columns=columns)"
   ]
  },
  {
   "cell_type": "code",
   "execution_count": null,
   "id": "3c0cb901-b50a-4b46-8f1a-77491a52b6e5",
   "metadata": {},
   "outputs": [],
   "source": []
  }
 ],
 "metadata": {
  "kernelspec": {
   "display_name": "Python 3 (ipykernel)",
   "language": "python",
   "name": "python3"
  },
  "language_info": {
   "codemirror_mode": {
    "name": "ipython",
    "version": 3
   },
   "file_extension": ".py",
   "mimetype": "text/x-python",
   "name": "python",
   "nbconvert_exporter": "python",
   "pygments_lexer": "ipython3",
   "version": "3.9.7"
  }
 },
 "nbformat": 4,
 "nbformat_minor": 5
}
