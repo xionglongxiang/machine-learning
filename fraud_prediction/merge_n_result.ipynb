{
 "cells": [
  {
   "cell_type": "code",
   "execution_count": null,
   "id": "93cd1729-449a-4ef9-9afc-1e90c2e8eb05",
   "metadata": {},
   "outputs": [],
   "source": [
    "# 88.12"
   ]
  },
  {
   "cell_type": "code",
   "execution_count": 47,
   "id": "d17fc802-280a-4a9e-b54c-0c8e66497e2f",
   "metadata": {},
   "outputs": [],
   "source": [
    "\n",
    "import pandas as pd"
   ]
  },
  {
   "cell_type": "code",
   "execution_count": 2,
   "id": "0b8bbf0f-bfb8-4bd5-9e63-939a7a0208b5",
   "metadata": {},
   "outputs": [],
   "source": [
    "result = []\n",
    "result.append(pd.read_csv('./result/v7max_depth=5subsample=0.72colsample_bytree=0.72reg_lambda = 0.7.csv'))\n",
    "result.append(pd.read_csv('./result/v7max_depth=5subsample=0.72colsample_bytree=0.72reg_lambda = 1.2.csv'))\n",
    "result.append(pd.read_csv('./result/v7max_depth=5subsample=0.72colsample_bytree=0.72reg_lambda = 2.csv'))\n",
    "result.append(pd.read_csv('./result/v7max_depth=6subsample=0.72colsample_bytree=0.72reg_lambda = 0.7.csv'))\n",
    "result.append(pd.read_csv('./result/v7max_depth=6subsample=0.75colsample_bytree=0.75reg_lambda = 0.8.csv'))\n",
    "result.append(pd.read_csv('./result/v7max_depth=7subsample=0.75colsample_bytree=0.75reg_lambda = 0.8.csv'))"
   ]
  },
  {
   "cell_type": "code",
   "execution_count": 29,
   "id": "c40249a1-557c-40ab-8ef1-ba467cf1ccb3",
   "metadata": {},
   "outputs": [],
   "source": [
    "import numpy as np\n",
    "temp = np.zeros((150000, 1))\n",
    "\n",
    "label = "
   ]
  },
  {
   "cell_type": "code",
   "execution_count": 31,
   "id": "80b15fd8-90b8-4ede-a18b-51cfd455d708",
   "metadata": {},
   "outputs": [
    {
     "data": {
      "text/plain": [
       "(150000,)"
      ]
     },
     "execution_count": 31,
     "metadata": {},
     "output_type": "execute_result"
    }
   ],
   "source": [
    "result[0]['label'].shape"
   ]
  },
  {
   "cell_type": "code",
   "execution_count": 32,
   "id": "127d5918-0a21-4321-862b-8bd1535f4284",
   "metadata": {},
   "outputs": [
    {
     "data": {
      "text/plain": [
       "(150000,)"
      ]
     },
     "execution_count": 32,
     "metadata": {},
     "output_type": "execute_result"
    }
   ],
   "source": [
    "label.shape"
   ]
  },
  {
   "cell_type": "code",
   "execution_count": 42,
   "id": "c7df7e98-00a4-4f94-bb2e-8990444e3640",
   "metadata": {},
   "outputs": [],
   "source": [
    "label = label.apply(lambda x: 0 if x < 0.5 else 1)"
   ]
  },
  {
   "cell_type": "code",
   "execution_count": 44,
   "id": "a86fdb88-82a6-4932-83b7-4cebbfdb4e38",
   "metadata": {},
   "outputs": [],
   "source": [
    "a = pd.DataFrame(result[0]['sid'])\n",
    "a['label'] = (result[0]['label'] + result[1]['label'] + result[2]['label'] + result[3]['label'] + result[4]['label'] + result[5]['label']) / 6\n",
    "a['label'] = a['label'].apply(lambda x: 0 if x < 0.5 else 1)\n",
    "\n",
    "import datetime\n",
    "timestr = datetime.datetime.now().strftime('%y-%m-%d %H %M %S')\n",
    "\n",
    "# a.to_csv('result/v5.2 f ' + timestr + '.csv', index=False)"
   ]
  },
  {
   "cell_type": "code",
   "execution_count": 45,
   "id": "aab99f8e-aaf4-4c31-a7d9-765728654ce2",
   "metadata": {},
   "outputs": [
    {
     "data": {
      "text/html": [
       "<div>\n",
       "<style scoped>\n",
       "    .dataframe tbody tr th:only-of-type {\n",
       "        vertical-align: middle;\n",
       "    }\n",
       "\n",
       "    .dataframe tbody tr th {\n",
       "        vertical-align: top;\n",
       "    }\n",
       "\n",
       "    .dataframe thead th {\n",
       "        text-align: right;\n",
       "    }\n",
       "</style>\n",
       "<table border=\"1\" class=\"dataframe\">\n",
       "  <thead>\n",
       "    <tr style=\"text-align: right;\">\n",
       "      <th></th>\n",
       "      <th>sid</th>\n",
       "      <th>label</th>\n",
       "    </tr>\n",
       "  </thead>\n",
       "  <tbody>\n",
       "    <tr>\n",
       "      <th>0</th>\n",
       "      <td>1440682</td>\n",
       "      <td>0</td>\n",
       "    </tr>\n",
       "    <tr>\n",
       "      <th>1</th>\n",
       "      <td>1606824</td>\n",
       "      <td>0</td>\n",
       "    </tr>\n",
       "    <tr>\n",
       "      <th>2</th>\n",
       "      <td>1774642</td>\n",
       "      <td>0</td>\n",
       "    </tr>\n",
       "    <tr>\n",
       "      <th>3</th>\n",
       "      <td>1742535</td>\n",
       "      <td>0</td>\n",
       "    </tr>\n",
       "    <tr>\n",
       "      <th>4</th>\n",
       "      <td>1689686</td>\n",
       "      <td>1</td>\n",
       "    </tr>\n",
       "    <tr>\n",
       "      <th>...</th>\n",
       "      <td>...</td>\n",
       "      <td>...</td>\n",
       "    </tr>\n",
       "    <tr>\n",
       "      <th>149995</th>\n",
       "      <td>1165373</td>\n",
       "      <td>1</td>\n",
       "    </tr>\n",
       "    <tr>\n",
       "      <th>149996</th>\n",
       "      <td>1444115</td>\n",
       "      <td>1</td>\n",
       "    </tr>\n",
       "    <tr>\n",
       "      <th>149997</th>\n",
       "      <td>1134378</td>\n",
       "      <td>1</td>\n",
       "    </tr>\n",
       "    <tr>\n",
       "      <th>149998</th>\n",
       "      <td>1700238</td>\n",
       "      <td>1</td>\n",
       "    </tr>\n",
       "    <tr>\n",
       "      <th>149999</th>\n",
       "      <td>1201539</td>\n",
       "      <td>1</td>\n",
       "    </tr>\n",
       "  </tbody>\n",
       "</table>\n",
       "<p>150000 rows × 2 columns</p>\n",
       "</div>"
      ],
      "text/plain": [
       "            sid  label\n",
       "0       1440682      0\n",
       "1       1606824      0\n",
       "2       1774642      0\n",
       "3       1742535      0\n",
       "4       1689686      1\n",
       "...         ...    ...\n",
       "149995  1165373      1\n",
       "149996  1444115      1\n",
       "149997  1134378      1\n",
       "149998  1700238      1\n",
       "149999  1201539      1\n",
       "\n",
       "[150000 rows x 2 columns]"
      ]
     },
     "execution_count": 45,
     "metadata": {},
     "output_type": "execute_result"
    }
   ],
   "source": [
    "a"
   ]
  },
  {
   "cell_type": "code",
   "execution_count": null,
   "id": "e5ac5af9-3584-48ea-9f1a-7d07a4998e7d",
   "metadata": {},
   "outputs": [],
   "source": []
  }
 ],
 "metadata": {
  "kernelspec": {
   "display_name": "Python 3 (ipykernel)",
   "language": "python",
   "name": "python3"
  },
  "language_info": {
   "codemirror_mode": {
    "name": "ipython",
    "version": 3
   },
   "file_extension": ".py",
   "mimetype": "text/x-python",
   "name": "python",
   "nbconvert_exporter": "python",
   "pygments_lexer": "ipython3",
   "version": "3.9.7"
  }
 },
 "nbformat": 4,
 "nbformat_minor": 5
}
