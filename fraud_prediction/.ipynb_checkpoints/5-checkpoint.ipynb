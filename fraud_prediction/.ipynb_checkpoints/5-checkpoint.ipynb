{
 "cells": [
  {
   "cell_type": "code",
   "execution_count": 1,
   "metadata": {},
   "outputs": [],
   "source": [
    "# 第5版，使用五折交叉验证\n",
    "#  score =  87.7247\n",
    "\n",
    "import pandas as pd\n",
    "import numpy as np\n",
    "\n",
    "train = pd.read_csv('../../datasets/fraud_prediction/train.csv')\n",
    "test1 = pd.read_csv('../../datasets/fraud_prediction/test1.csv')"
   ]
  },
  {
   "cell_type": "code",
   "execution_count": 2,
   "metadata": {},
   "outputs": [
    {
     "data": {
      "text/plain": [
       "Index(['android_id', 'apptype', 'carrier', 'dev_height', 'dev_ppi',\n",
       "       'dev_width', 'lan', 'media_id', 'ntt', 'os', 'osv', 'package', 'sid',\n",
       "       'timestamp', 'version', 'fea_hash', 'location', 'fea1_hash',\n",
       "       'cus_type'],\n",
       "      dtype='object')"
      ]
     },
     "execution_count": 2,
     "metadata": {},
     "output_type": "execute_result"
    }
   ],
   "source": [
    "features = train.drop(['Unnamed: 0', 'label'], axis=1)\n",
    "labels = train['label']\n",
    "features.columns"
   ]
  },
  {
   "cell_type": "code",
   "execution_count": 3,
   "metadata": {},
   "outputs": [],
   "source": [
    "# pd.set_option('display.max_rows', None)\n",
    "# features['osv'].value_counts()\n",
    "\n",
    "# 狗仔新特征 osv1， 判断版本是否大于9\n",
    "\n",
    "# def f(x):\n",
    "#     x = str(x)\n",
    "#     x = x.replace('Android_', '')\n",
    "    \n",
    "#     if x[0] == '0':\n",
    "#         return 1\n",
    "#     else:\n",
    "#         return 0\n",
    "# features['osv1'] = features['osv'].apply(f)\n",
    "# test1['osv1'] = test1['osv'].apply(f)\n",
    "\n",
    "# features['osv1'].value_counts()"
   ]
  },
  {
   "cell_type": "code",
   "execution_count": 4,
   "metadata": {
    "scrolled": true
   },
   "outputs": [
    {
     "data": {
      "text/plain": [
       "8.1.0                    151419\n",
       "9                         71332\n",
       "6.0.1                     31714\n",
       "7.1.1                     26503\n",
       "9.0.0                     24385\n",
       "                          ...  \n",
       "5.1.1-F-20180719.9007         1\n",
       "5.0.3                         1\n",
       "9.1                           1\n",
       "2.2.2                         1\n",
       "Android_5.0.1                 1\n",
       "Name: osv, Length: 154, dtype: int64"
      ]
     },
     "execution_count": 4,
     "metadata": {},
     "output_type": "execute_result"
    }
   ],
   "source": [
    " from sklearn.preprocessing import LabelEncoder\n",
    "le = LabelEncoder()\n",
    "\n",
    "# 训练集和测试机合并，统一LabelEncoder\n",
    "\n",
    "all_df = pd.concat([train, test1])\n",
    "all_df['osv'] = all_df['osv'].astype('str')\n",
    "all_df['osv'] = le.fit_transform(all_df['osv'])\n",
    "\n",
    "features['osv'].value_counts()"
   ]
  },
  {
   "cell_type": "code",
   "execution_count": 5,
   "metadata": {},
   "outputs": [
    {
     "data": {
      "text/plain": [
       "{'osv': Index(['7.7.7', '7.2.1', '7.7.5', '7.8.5', '7.8.7', '3.8.0', '7.6.7', '3.9.0',\n",
       "        '2.3', '8.0.1', '7.9.0', '7.6.4', '3.8.4', '7.8.9', '21100', '7.9.2',\n",
       "        '4.1', '7.7.2', '7.8.2', 'Android_8.0.0', '7.8.0', '3.8.6', '7.7.0',\n",
       "        '7.8.4', '8', '7.6.8', '21000', '7.8.6', '5', '6.1', '7.7.3', '9.0.0',\n",
       "        '3.8.3', '3.7.8', '9.0', '8.0', 'Android_9', '7.7.4', '6.1.0'],\n",
       "       dtype='object')}"
      ]
     },
     "execution_count": 5,
     "metadata": {},
     "output_type": "execute_result"
    }
   ],
   "source": [
    "# 数据探索，找到导致1的关键特征值\n",
    "def find_key_features(train, selected):\n",
    "    temp0 = train[train['label'] == 0]\n",
    "\n",
    "    temp = pd.DataFrame(columns=[0,1])\n",
    "    temp[0] = temp0[selected].value_counts(0) / len(temp0)\n",
    "\n",
    "    temp1 = train[train['label'] == 1]\n",
    "    temp[1] = temp1[selected].value_counts(0) / len(temp1)\n",
    "\n",
    "    temp[2] = temp[1] / temp[0]\n",
    "    \n",
    "    #选出大于10倍的特征\n",
    "    \n",
    "    result = temp[temp[2] > 10].sort_values(2, ascending=False).index\n",
    "    \n",
    "    return result\n",
    "\n",
    "key_feature = {}\n",
    "key_feature['osv'] = find_key_features(train, 'osv')\n",
    "key_feature\n"
   ]
  },
  {
   "cell_type": "code",
   "execution_count": 6,
   "metadata": {},
   "outputs": [
    {
     "data": {
      "text/plain": [
       "Index(['android_id', 'apptype', 'carrier', 'dev_height', 'dev_ppi',\n",
       "       'dev_width', 'lan', 'media_id', 'ntt', 'os', 'osv', 'package', 'sid',\n",
       "       'timestamp', 'version', 'fea_hash', 'location', 'fea1_hash',\n",
       "       'cus_type'],\n",
       "      dtype='object')"
      ]
     },
     "execution_count": 6,
     "metadata": {},
     "output_type": "execute_result"
    }
   ],
   "source": [
    "features.columns"
   ]
  },
  {
   "cell_type": "code",
   "execution_count": null,
   "metadata": {},
   "outputs": [],
   "source": []
  },
  {
   "cell_type": "code",
   "execution_count": 7,
   "metadata": {},
   "outputs": [
    {
     "data": {
      "text/plain": [
       "{'osv': Index(['7.7.7', '7.2.1', '7.7.5', '7.8.5', '7.8.7', '3.8.0', '7.6.7', '3.9.0',\n",
       "        '2.3', '8.0.1', '7.9.0', '7.6.4', '3.8.4', '7.8.9', '21100', '7.9.2',\n",
       "        '4.1', '7.7.2', '7.8.2', 'Android_8.0.0', '7.8.0', '3.8.6', '7.7.0',\n",
       "        '7.8.4', '8', '7.6.8', '21000', '7.8.6', '5', '6.1', '7.7.3', '9.0.0',\n",
       "        '3.8.3', '3.7.8', '9.0', '8.0', 'Android_9', '7.7.4', '6.1.0'],\n",
       "       dtype='object'),\n",
       " 'apptype': Int64Index([1139, 716, 941, 851, 1034, 1067], dtype='int64'),\n",
       " 'carrier': Float64Index([], dtype='float64'),\n",
       " 'dev_height': Float64Index([2242.0, 1809.0, 1500.0, 2385.0,  918.0, 1546.0,  895.0, 1521.0,\n",
       "                816.0,  830.0, 1540.0, 2219.0,  676.0, 1480.0,  818.0,  694.0,\n",
       "                665.0, 2287.0, 2281.0,  851.0, 1560.0, 2131.0, 2320.0, 2248.0,\n",
       "                846.0,  748.0, 2312.0, 2240.0,  770.0, 2406.0, 2223.0, 2244.0,\n",
       "                749.0,  772.0, 2277.0, 3040.0,  892.0, 1493.0, 2310.0, 2466.0,\n",
       "               1460.0, 1496.0, 1441.0, 2268.0,  747.0, 2960.0,  686.0,  740.0,\n",
       "                771.0,  730.0,  100.0, 2252.0, 2276.0,  869.0, 2250.0, 2246.0,\n",
       "                760.0, 2198.0,  773.0, 2255.0,  780.0,  658.0, 1459.0,   13.0,\n",
       "               2220.0, 1523.0, 1501.0,  721.0, 2907.0,  440.0, 2170.0, 1793.0,\n",
       "               2128.0, 2041.0, 1464.0, 2137.0, 2260.0, 2379.0,  711.0, 1510.0,\n",
       "                 20.0, 1528.0, 1467.0, 2190.0,  685.0],\n",
       "              dtype='float64'),\n",
       " 'dev_ppi': Float64Index([200.0, 230.0, 128.0], dtype='float64'),\n",
       " 'dev_width': Float64Index([1806.0, 1460.0, 1808.0, 2038.0, 1792.0, 2094.0,  353.0, 2406.0,\n",
       "               2190.0, 2244.0, 2060.0, 2128.0, 2252.0, 2255.0,  810.0, 2159.0,\n",
       "               1560.0, 2137.0, 1496.0, 2208.0, 2076.0, 2031.0, 2218.0, 2265.0,\n",
       "                424.0, 1824.0, 2034.0, 2130.0, 2260.0,  393.0, 2960.0, 2220.0,\n",
       "                440.0, 2201.0, 2222.0, 1439.0, 2040.0, 2163.0],\n",
       "              dtype='float64'),\n",
       " 'media_id': Int64Index([ 329,  384,  259,  249,  334,  734,  504,  224,  614,  254,  304,\n",
       "              899,  414,  954,  764,  654,   74, 1524,  449,  344,  324,  119,\n",
       "               24, 1454],\n",
       "            dtype='int64'),\n",
       " 'package': Int64Index([  66,   53,   49,   67,  257,  569,   42,  170,   48,   61,   82,\n",
       "              281,  149,   16, 2282,   69,   64,   21,    3,   92],\n",
       "            dtype='int64'),\n",
       " 'version': Index([], dtype='object'),\n",
       " 'fea_hash': Index(['2328510010', '2815114810', '16777343', '2503203602', '1093932919',\n",
       "        '3306573181', '1103969850', '28776568', '3673113458', '3419433775',\n",
       "        '2448376690', '1979803871', '551568242', '1692943218', '1090611423',\n",
       "        '2942813300', '3052290930', '3177694324', '354322549'],\n",
       "       dtype='object'),\n",
       " 'location': Int64Index([], dtype='int64'),\n",
       " 'fea1_hash': Int64Index([1593057142, 2888196143, 2300993583, 2116509743, 2348162934,\n",
       "             1747410991, 1425481590, 2047788921, 3258042233, 3005505583,\n",
       "             2015649839, 2284216367, 3748667254,  488923183,  301802853,\n",
       "              622213499, 1585537839, 2205433386, 1898209327,  867028591,\n",
       "              833232758, 2787401775,  525584485, 4175168375, 3587989039,\n",
       "              710175527, 3740889281,  883805807,  690879356, 2921750575,\n",
       "              724433788, 3891004279, 1162670379, 2423611183, 3521339183,\n",
       "             3536215343,  446372728, 2259249447,  397893671, 3398507384,\n",
       "             2775476519, 3693371431, 1606274364, 3611003032, 1109987687,\n",
       "             2650303345],\n",
       "            dtype='int64'),\n",
       " 'cus_type': Int64Index([], dtype='int64')}"
      ]
     },
     "execution_count": 7,
     "metadata": {},
     "output_type": "execute_result"
    }
   ],
   "source": [
    "selected_cols = ['osv', 'apptype', 'carrier', 'dev_height', 'dev_ppi',\n",
    "       'dev_width', 'media_id', 'osv', 'package', 'version', 'fea_hash',\n",
    "       'location', 'fea1_hash', 'cus_type']\n",
    "\n",
    "for selected in selected_cols:\n",
    "    key_feature[selected] = find_key_features(train, selected)\n",
    "key_feature"
   ]
  },
  {
   "cell_type": "code",
   "execution_count": 8,
   "metadata": {},
   "outputs": [
    {
     "name": "stdout",
     "output_type": "stream",
     "text": [
      "osv1 created\n",
      "apptype1 created\n",
      "dev_height1 created\n",
      "dev_ppi1 created\n",
      "dev_width1 created\n",
      "media_id1 created\n",
      "osv1 created\n",
      "package1 created\n",
      "fea_hash1 created\n",
      "fea1_hash1 created\n"
     ]
    }
   ],
   "source": [
    "# 构造新特征\n",
    "\n",
    "def f(x, selected):\n",
    "    if x in key_feature[selected]:\n",
    "        return 1\n",
    "    else:\n",
    "        return 0\n",
    "\n",
    "for selected in selected_cols:\n",
    "    if len(key_feature[selected]) > 0:\n",
    "        features[selected + '1'] = features[selected].apply(f, args=(selected, ))\n",
    "        test1[selected + '1'] = test1[selected].apply(f, args=(selected, ))\n",
    "        print(selected + '1 created')"
   ]
  },
  {
   "cell_type": "code",
   "execution_count": 9,
   "metadata": {},
   "outputs": [
    {
     "data": {
      "text/plain": [
       "0    444656\n",
       "1     55344\n",
       "Name: osv1, dtype: int64"
      ]
     },
     "execution_count": 9,
     "metadata": {},
     "output_type": "execute_result"
    }
   ],
   "source": [
    "features['osv1'].value_counts()"
   ]
  },
  {
   "cell_type": "code",
   "execution_count": 10,
   "metadata": {},
   "outputs": [
    {
     "name": "stdout",
     "output_type": "stream",
     "text": [
      "android_id 362258\n",
      "apptype 89\n",
      "carrier 5\n",
      "dev_height 798\n",
      "dev_ppi 92\n",
      "dev_width 346\n",
      "lan 21\n",
      "media_id 284\n",
      "ntt 8\n",
      "os 2\n",
      "osv 154\n",
      "package 1950\n",
      "sid 500000\n",
      "timestamp 500000\n",
      "version 22\n",
      "fea_hash 402980\n",
      "location 332\n",
      "fea1_hash 4959\n",
      "cus_type 58\n",
      "osv1 2\n",
      "apptype1 2\n",
      "dev_height1 2\n",
      "dev_ppi1 2\n",
      "dev_width1 2\n",
      "media_id1 2\n",
      "package1 2\n",
      "fea_hash1 2\n",
      "fea1_hash1 2\n"
     ]
    }
   ],
   "source": [
    "for feature in features.columns:\n",
    "    print(feature, features[feature].nunique())\n",
    "\n",
    "# 类别特征\n",
    "cate_features = ['apptype', 'carrier', 'ntt', 'version', 'location', 'cus_type']"
   ]
  },
  {
   "cell_type": "code",
   "execution_count": null,
   "metadata": {},
   "outputs": [],
   "source": []
  },
  {
   "cell_type": "code",
   "execution_count": 11,
   "metadata": {},
   "outputs": [],
   "source": [
    "# 不参与建模的特征 ['os', 'osv', 'lan', 'sid']\n",
    "remove_list = ['os', 'lan', 'sid']\n",
    "col = features.columns.tolist()\n",
    "for i in remove_list:\n",
    "    col.remove(i)\n",
    "features = features[col]"
   ]
  },
  {
   "cell_type": "code",
   "execution_count": 12,
   "metadata": {},
   "outputs": [],
   "source": [
    "import time\n",
    "from datetime import datetime\n",
    "\n",
    "def get_date(features):\n",
    "    \n",
    "    features2 = features.copy()\n",
    "    # 除以1000 转化为日期格式\n",
    "    features2['timestamp'] = features2['timestamp'].apply(lambda x: datetime.fromtimestamp(x/1000))\n",
    "    \n",
    "    # 创建时间索引\n",
    "    temp = pd.DatetimeIndex(features2['timestamp'])\n",
    "    features2['year'] = temp.year\n",
    "    features2['month'] = temp.month\n",
    "    features2['day'] = temp.day\n",
    "    features2['week_day'] = temp.weekday\n",
    "    features2['hour'] = temp.hour\n",
    "    features2['minute'] = temp.minute\n",
    "    \n",
    "    \n",
    "    start_time = features2['timestamp'].min()\n",
    "    features2['time_diff'] = features2['timestamp'] - start_time\n",
    "    \n",
    "    features2['time_diff'] = features2['time_diff'].dt.days * 24 + features2['time_diff'].dt.seconds / 3600\n",
    "    \n",
    "    features2.drop(['timestamp', 'year', 'month', 'week_day', 'minute'], axis = 1, inplace=True)\n",
    "    return features2\n",
    "\n",
    "\n",
    "features = get_date(features)\n",
    "features[['day', 'hour', 'time_diff']]\n",
    "\n",
    "test1 = get_date(test1)"
   ]
  },
  {
   "cell_type": "code",
   "execution_count": 13,
   "metadata": {},
   "outputs": [],
   "source": [
    "from sklearn.model_selection import KFold, StratifiedKFold\n",
    "from sklearn.metrics import accuracy_score\n",
    "\n",
    "def ensemble_model(clf, train_x, train_y, test, cate_features):\n",
    "    sk = StratifiedKFold(n_splits=5, shuffle=True, random_state=2021)\n",
    "    prob = []\n",
    "    mean_acc = 0\n",
    "    for k, (train_index, val_index) in enumerate(sk.split(train_x, train_y)):\n",
    "        train_x_real = train_x.iloc[train_index]\n",
    "        train_y_real = train_y.iloc[train_index]\n",
    "        val_x = train_x.iloc[val_index]\n",
    "        val_y = train_y.iloc[val_index]\n",
    "        \n",
    "        clf = clf.fit(train_x_real, train_y_real, categorical_feature=cate_features)\n",
    "        val_y_pred = clf.predict(val_x)\n",
    "        \n",
    "        acc_val = accuracy_score(val_y, val_y_pred)\n",
    "        print('第{}个子模型， acc{}'.format(k+1, acc_val))\n",
    "        mean_acc += acc_val / 5\n",
    "        \n",
    "        test_y_pred = clf.predict_proba(test)[:, -1]\n",
    "        prob.append(test_y_pred)\n",
    "    print(mean_acc)\n",
    "    mean_prob = sum(prob) / 5\n",
    "    return mean_prob"
   ]
  },
  {
   "cell_type": "code",
   "execution_count": 14,
   "metadata": {
    "scrolled": true
   },
   "outputs": [
    {
     "name": "stderr",
     "output_type": "stream",
     "text": [
      "<ipython-input-14-0db146d6f16f>:13: SettingWithCopyWarning: \n",
      "A value is trying to be set on a copy of a slice from a DataFrame.\n",
      "Try using .loc[row_indexer,col_indexer] = value instead\n",
      "\n",
      "See the caveats in the documentation: https://pandas.pydata.org/pandas-docs/stable/user_guide/indexing.html#returning-a-view-versus-a-copy\n",
      "  test_fea['fea_hash'] = features['fea_hash'].map(lambda x: 0 if len(str(x)) > 16 else int(x))\n",
      "<ipython-input-14-0db146d6f16f>:14: SettingWithCopyWarning: \n",
      "A value is trying to be set on a copy of a slice from a DataFrame.\n",
      "Try using .loc[row_indexer,col_indexer] = value instead\n",
      "\n",
      "See the caveats in the documentation: https://pandas.pydata.org/pandas-docs/stable/user_guide/indexing.html#returning-a-view-versus-a-copy\n",
      "  test_fea['fea1_hash'] = features['fea1_hash'].map(lambda x: 0 if len(str(x)) > 16 else int(x))\n",
      "<ipython-input-14-0db146d6f16f>:15: SettingWithCopyWarning: \n",
      "A value is trying to be set on a copy of a slice from a DataFrame.\n",
      "Try using .loc[row_indexer,col_indexer] = value instead\n",
      "\n",
      "See the caveats in the documentation: https://pandas.pydata.org/pandas-docs/stable/user_guide/indexing.html#returning-a-view-versus-a-copy\n",
      "  test_fea['version'] = features['version'].map(lambda x: int(x) if str(x).isdigit() else 0)\n",
      "<ipython-input-14-0db146d6f16f>:16: SettingWithCopyWarning: \n",
      "A value is trying to be set on a copy of a slice from a DataFrame.\n",
      "Try using .loc[row_indexer,col_indexer] = value instead\n",
      "\n",
      "See the caveats in the documentation: https://pandas.pydata.org/pandas-docs/stable/user_guide/indexing.html#returning-a-view-versus-a-copy\n",
      "  test_fea['osv'] = all_df[all_df['label'].isnull()]['osv']\n"
     ]
    }
   ],
   "source": [
    "\n",
    "# 特征变换，对于数值过大的异常值，设定为0\n",
    "features['fea_hash'] = features['fea_hash'].map(lambda x: 0 if len(str(x)) > 16 else int(x))\n",
    "features['fea1_hash'] = features['fea1_hash'].map(lambda x: 0 if len(str(x)) > 16 else int(x))\n",
    "\n",
    "features['version'] = features['version'].map(lambda x: int(x) if str(x).isdigit() else 0)\n",
    "# 特征变换，对于数值过大的异常值，设定为0\n",
    "features['osv'] = all_df[all_df['label'].notnull()]['osv']\n",
    "\n",
    "\n",
    "# test data \n",
    "test_fea = test1[features.columns]\n",
    "\n",
    "test_fea['fea_hash'] = features['fea_hash'].map(lambda x: 0 if len(str(x)) > 16 else int(x))\n",
    "test_fea['fea1_hash'] = features['fea1_hash'].map(lambda x: 0 if len(str(x)) > 16 else int(x))\n",
    "test_fea['version'] = features['version'].map(lambda x: int(x) if str(x).isdigit() else 0)\n",
    "test_fea['osv'] = all_df[all_df['label'].isnull()]['osv']\n"
   ]
  },
  {
   "cell_type": "code",
   "execution_count": 15,
   "metadata": {},
   "outputs": [
    {
     "name": "stderr",
     "output_type": "stream",
     "text": [
      "C:\\ProgramData\\Anaconda3\\lib\\site-packages\\lightgbm\\basic.py:1551: UserWarning: Using categorical_feature in Dataset.\n",
      "  warnings.warn('Using categorical_feature in Dataset.')\n"
     ]
    },
    {
     "name": "stdout",
     "output_type": "stream",
     "text": [
      "第1个子模型， acc0.88453\n",
      "第2个子模型， acc0.88471\n",
      "第3个子模型， acc0.88481\n",
      "第4个子模型， acc0.88488\n",
      "第5个子模型， acc0.88463\n",
      "0.884712\n",
      "[0.09742114 0.38745295 0.04792358 ... 0.95694342 0.98803931 0.98062689]\n"
     ]
    }
   ],
   "source": [
    "import lightgbm as lgb\n",
    "\n",
    "clf = lgb.LGBMClassifier()\n",
    "# clf.fit(features, labels, categorical_feature = cate_features)\n",
    "result = ensemble_model(clf, features, labels, test_fea, cate_features)\n",
    "print(result)\n"
   ]
  },
  {
   "cell_type": "code",
   "execution_count": 16,
   "metadata": {},
   "outputs": [],
   "source": [
    "\n",
    "a = pd.DataFrame(test1['sid'])\n",
    "a['label'] = result\n",
    "\n",
    "a['label'] = a['label'].apply(lambda x: 0 if x < 0.5 else 1)\n",
    "a.to_csv('v5.csv', index=False)"
   ]
  },
  {
   "cell_type": "code",
   "execution_count": null,
   "metadata": {},
   "outputs": [],
   "source": []
  }
 ],
 "metadata": {
  "celltoolbar": "Raw Cell Format",
  "kernelspec": {
   "display_name": "Python 3",
   "language": "python",
   "name": "python3"
  },
  "language_info": {
   "codemirror_mode": {
    "name": "ipython",
    "version": 3
   },
   "file_extension": ".py",
   "mimetype": "text/x-python",
   "name": "python",
   "nbconvert_exporter": "python",
   "pygments_lexer": "ipython3",
   "version": "3.8.5"
  }
 },
 "nbformat": 4,
 "nbformat_minor": 4
}
