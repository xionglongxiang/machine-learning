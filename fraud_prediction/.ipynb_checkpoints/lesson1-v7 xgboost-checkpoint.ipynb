{
 "cells": [
  {
   "cell_type": "code",
   "execution_count": 40,
   "metadata": {},
   "outputs": [],
   "source": [
    "## 第5版 找到关键特征\n",
    "# 5 fold\n",
    "#  score =  88.1107\n",
    "\n",
    "import pandas as pd\n",
    "import numpy as np\n",
    "\n",
    "train = pd.read_csv('./datasets/train.csv')\n",
    "test1 = pd.read_csv('./datasets/test1.csv')\n",
    "\n",
    "pd.set_option('display.max_rows', 100)"
   ]
  },
  {
   "cell_type": "code",
   "execution_count": 41,
   "metadata": {},
   "outputs": [],
   "source": [
    "features = train.drop(['Unnamed: 0', 'label'], axis=1)\n",
    "test1 = test1.drop(['Unnamed: 0'], axis=1)\n",
    "labels = train['label']\n"
   ]
  },
  {
   "cell_type": "code",
   "execution_count": 42,
   "metadata": {},
   "outputs": [],
   "source": [
    "\n",
    "if 'os' in features.columns:\n",
    "    features, test1 = features.drop(['os'], axis=1), test1.drop(['os'], axis=1)\n",
    "if 'sid' in features.columns:\n",
    "    features = features.drop(['sid'], axis=1)"
   ]
  },
  {
   "cell_type": "code",
   "execution_count": 43,
   "metadata": {},
   "outputs": [],
   "source": [
    "from utils.process_osv import  process_osv\n",
    "from utils.process_lan import  process_lan\n",
    "from utils.add_key_features import  add_key_features"
   ]
  },
  {
   "cell_type": "code",
   "execution_count": 44,
   "metadata": {},
   "outputs": [],
   "source": [
    "features, test1 = process_osv(features, test1)\n",
    "features, test1 = process_lan(features, test1)\n",
    "\n",
    "selected_cols = ['apptype', 'carrier', 'dev_height', 'dev_ppi',\n",
    "       'dev_width', 'media_id', 'package', 'version', 'fea_hash',\n",
    "       'location', 'fea1_hash', 'cus_type']\n",
    "\n",
    "features, test1 = add_key_features(train, features, test1, selected_cols)\n"
   ]
  },
  {
   "cell_type": "code",
   "execution_count": 45,
   "metadata": {},
   "outputs": [],
   "source": [
    "features['android_id'].value_counts()\n",
    "features['lan'].value_counts()\n",
    "features['carrier'].value_counts()\n",
    "features['ntt'].value_counts()\n",
    "features['version'].value_counts()\n",
    "test1['version'].value_counts()\n",
    "test1['location'].value_counts()\n",
    "test1['cus_type'].value_counts()\n",
    "test1['lan'].value_counts()\n",
    "\n",
    "# 类别特征\n",
    "cate_features = ['lan', 'apptype', 'carrier', 'ntt', 'version', 'location', 'cus_type']"
   ]
  },
  {
   "cell_type": "code",
   "execution_count": 46,
   "metadata": {},
   "outputs": [],
   "source": [
    "import time\n",
    "from datetime import datetime\n",
    "\n",
    "def get_date(features):\n",
    "    if 'timestamp' not in features.columns:\n",
    "        return\n",
    "    features2 = features.copy()\n",
    "    # 除以1000 转化为日期格式\n",
    "    features2['timestamp'] = features2['timestamp'].apply(lambda x: datetime.fromtimestamp(x/1000))\n",
    "    \n",
    "    # 创建时间索引\n",
    "    temp = pd.DatetimeIndex(features2['timestamp'])\n",
    "    features2['year'] = temp.year\n",
    "    features2['month'] = temp.month\n",
    "    features2['day'] = temp.day\n",
    "    features2['week_day'] = temp.weekday\n",
    "    features2['hour'] = temp.hour\n",
    "    features2['minute'] = temp.minute\n",
    "    \n",
    "    \n",
    "    start_time = features2['timestamp'].min()\n",
    "    features2['time_diff'] = features2['timestamp'] - start_time\n",
    "    \n",
    "    features2['time_diff'] = features2['time_diff'].dt.days * 24 + features2['time_diff'].dt.seconds / 3600\n",
    "    \n",
    "    features2.drop(['timestamp', 'year', 'month', 'week_day', 'minute'], axis = 1, inplace=True)\n",
    "    return features2\n",
    "\n",
    "\n",
    "features = get_date(features)\n",
    "\n",
    "test1 = get_date(test1)"
   ]
  },
  {
   "cell_type": "code",
   "execution_count": 47,
   "metadata": {},
   "outputs": [
    {
     "data": {
      "text/plain": [
       "16    317520\n",
       "13    238827\n",
       "15     39668\n",
       "5      26821\n",
       "21     14993\n",
       "4      10552\n",
       "20       807\n",
       "3        245\n",
       "1        214\n",
       "14       147\n",
       "6        115\n",
       "22        37\n",
       "0         20\n",
       "11        11\n",
       "19         7\n",
       "17         3\n",
       "8          3\n",
       "2          2\n",
       "9          2\n",
       "10         2\n",
       "7          2\n",
       "18         1\n",
       "12         1\n",
       "Name: lan, dtype: int64"
      ]
     },
     "execution_count": 47,
     "metadata": {},
     "output_type": "execute_result"
    }
   ],
   "source": [
    " from sklearn.preprocessing import LabelEncoder\n",
    "le = LabelEncoder()\n",
    "\n",
    "# 训练集和测试机合并，统一LabelEncoder\n",
    "\n",
    "all_df = pd.concat([train, test1])\n",
    "all_df['lan'] = all_df['lan'].astype('str')\n",
    "all_df['lan'] = le.fit_transform(all_df['lan'])\n",
    "\n",
    "all_df['lan'].value_counts()"
   ]
  },
  {
   "cell_type": "code",
   "execution_count": 50,
   "metadata": {},
   "outputs": [],
   "source": [
    "from sklearn.model_selection import KFold, StratifiedKFold\n",
    "from sklearn.metrics import accuracy_score\n",
    "\n",
    "def ensemble_model(clf, train_x, train_y, test):\n",
    "    sk = StratifiedKFold(n_splits=5, shuffle=True, random_state=2021)\n",
    "    prob = []\n",
    "    mean_acc = 0\n",
    "    for k, (train_index, val_index) in enumerate(sk.split(train_x, train_y)):\n",
    "        train_x_real = train_x.iloc[train_index]\n",
    "        train_y_real = train_y.iloc[train_index]\n",
    "        val_x = train_x.iloc[val_index]\n",
    "        val_y = train_y.iloc[val_index]\n",
    "        \n",
    "        clf = clf.fit(train_x_real, train_y_real)\n",
    "        val_y_pred = clf.predict(val_x)\n",
    "        \n",
    "        acc_val = accuracy_score(val_y, val_y_pred)\n",
    "        print('第{}个子模型， acc{}'.format(k+1, acc_val))\n",
    "        mean_acc += acc_val / 5\n",
    "        \n",
    "        test_y_pred = clf.predict_proba(test)[:, -1]\n",
    "        prob.append(test_y_pred)\n",
    "    print(mean_acc)\n",
    "    mean_prob = sum(prob) / 5\n",
    "    return mean_prob"
   ]
  },
  {
   "cell_type": "code",
   "execution_count": 56,
   "metadata": {},
   "outputs": [
    {
     "data": {
      "text/plain": [
       "402980"
      ]
     },
     "execution_count": 59,
     "metadata": {},
     "output_type": "execute_result"
    }
   ],
   "source": [
    "features['fea_hash'].value_counts()[300:300]"
   ]
  },
  {
   "cell_type": "code",
   "execution_count": 62,
   "metadata": {
    "scrolled": true
   },
   "outputs": [
    {
     "name": "stderr",
     "output_type": "stream",
     "text": [
      "C:\\Users\\ADMINI~1\\AppData\\Local\\Temp/ipykernel_3468/4158483588.py:13: SettingWithCopyWarning: \n",
      "A value is trying to be set on a copy of a slice from a DataFrame.\n",
      "Try using .loc[row_indexer,col_indexer] = value instead\n",
      "\n",
      "See the caveats in the documentation: https://pandas.pydata.org/pandas-docs/stable/user_guide/indexing.html#returning-a-view-versus-a-copy\n",
      "  test_fea['fea_hash'] = features['fea_hash'].map(lambda x: 0 if len(str(x)) > 16 else int(x))\n",
      "C:\\Users\\ADMINI~1\\AppData\\Local\\Temp/ipykernel_3468/4158483588.py:14: SettingWithCopyWarning: \n",
      "A value is trying to be set on a copy of a slice from a DataFrame.\n",
      "Try using .loc[row_indexer,col_indexer] = value instead\n",
      "\n",
      "See the caveats in the documentation: https://pandas.pydata.org/pandas-docs/stable/user_guide/indexing.html#returning-a-view-versus-a-copy\n",
      "  test_fea['fea1_hash'] = features['fea1_hash'].map(lambda x: 0 if len(str(x)) > 16 else int(x))\n",
      "C:\\Users\\ADMINI~1\\AppData\\Local\\Temp/ipykernel_3468/4158483588.py:15: SettingWithCopyWarning: \n",
      "A value is trying to be set on a copy of a slice from a DataFrame.\n",
      "Try using .loc[row_indexer,col_indexer] = value instead\n",
      "\n",
      "See the caveats in the documentation: https://pandas.pydata.org/pandas-docs/stable/user_guide/indexing.html#returning-a-view-versus-a-copy\n",
      "  test_fea['version'] = features['version'].map(lambda x: int(x) if str(x).isdigit() else 0)\n",
      "C:\\Users\\ADMINI~1\\AppData\\Local\\Temp/ipykernel_3468/4158483588.py:16: SettingWithCopyWarning: \n",
      "A value is trying to be set on a copy of a slice from a DataFrame.\n",
      "Try using .loc[row_indexer,col_indexer] = value instead\n",
      "\n",
      "See the caveats in the documentation: https://pandas.pydata.org/pandas-docs/stable/user_guide/indexing.html#returning-a-view-versus-a-copy\n",
      "  test_fea['lan'] = all_df[all_df['label'].isnull()]['lan']\n"
     ]
    }
   ],
   "source": [
    "# 特征变换，对于数值过大的异常值，设定为0\n",
    "features['fea_hash'] = features['fea_hash'].map(lambda x: 0 if len(str(x)) > 16 else int(x))\n",
    "features['fea1_hash'] = features['fea1_hash'].map(lambda x: 0 if len(str(x)) > 16 else int(x))\n",
    "\n",
    "features['version'] = features['version'].map(lambda x: int(x) if str(x).isdigit() else 0)\n",
    "# 特征变换，对于数值过大的异常值，设定为0\n",
    "\n",
    "features['lan'] = all_df[all_df['label'].notnull()]['lan']\n",
    "\n",
    "# test data \n",
    "test_fea = test1[features.columns]\n",
    "\n",
    "test_fea['fea_hash'] = features['fea_hash'].map(lambda x: 0 if len(str(x)) > 16 else int(x))\n",
    "test_fea['fea1_hash'] = features['fea1_hash'].map(lambda x: 0 if len(str(x)) > 16 else int(x))\n",
    "test_fea['version'] = features['version'].map(lambda x: int(x) if str(x).isdigit() else 0)\n",
    "test_fea['lan'] = all_df[all_df['label'].isnull()]['lan']\n"
   ]
  },
  {
   "cell_type": "code",
   "execution_count": 64,
   "metadata": {},
   "outputs": [
    {
     "name": "stderr",
     "output_type": "stream",
     "text": [
      "C:\\ProgramData\\Anaconda3\\lib\\site-packages\\xgboost\\sklearn.py:1224: UserWarning: The use of label encoder in XGBClassifier is deprecated and will be removed in a future release. To remove this warning, do the following: 1) Pass option use_label_encoder=False when constructing XGBClassifier object; and 2) Encode your labels (y) as integers starting with 0, i.e. 0, 1, 2, ..., [num_class - 1].\n",
      "  warnings.warn(label_encoder_deprecation_msg, UserWarning)\n"
     ]
    },
    {
     "name": "stdout",
     "output_type": "stream",
     "text": [
      "[23:17:16] WARNING: C:/Users/Administrator/workspace/xgboost-win64_release_1.5.1/src/learner.cc:576: \n",
      "Parameters: { \"min_child_samples\" } might not be used.\n",
      "\n",
      "  This could be a false alarm, with some parameters getting used by language bindings but\n",
      "  then being mistakenly passed down to XGBoost core, or some parameter actually being used\n",
      "  but getting flagged wrongly here. Please open an issue if you find any such cases.\n",
      "\n",
      "\n",
      "第1个子模型， acc0.88916\n"
     ]
    },
    {
     "name": "stderr",
     "output_type": "stream",
     "text": [
      "C:\\ProgramData\\Anaconda3\\lib\\site-packages\\xgboost\\sklearn.py:1224: UserWarning: The use of label encoder in XGBClassifier is deprecated and will be removed in a future release. To remove this warning, do the following: 1) Pass option use_label_encoder=False when constructing XGBClassifier object; and 2) Encode your labels (y) as integers starting with 0, i.e. 0, 1, 2, ..., [num_class - 1].\n",
      "  warnings.warn(label_encoder_deprecation_msg, UserWarning)\n"
     ]
    },
    {
     "name": "stdout",
     "output_type": "stream",
     "text": [
      "[23:17:43] WARNING: C:/Users/Administrator/workspace/xgboost-win64_release_1.5.1/src/learner.cc:576: \n",
      "Parameters: { \"min_child_samples\" } might not be used.\n",
      "\n",
      "  This could be a false alarm, with some parameters getting used by language bindings but\n",
      "  then being mistakenly passed down to XGBoost core, or some parameter actually being used\n",
      "  but getting flagged wrongly here. Please open an issue if you find any such cases.\n",
      "\n",
      "\n",
      "第2个子模型， acc0.88961\n"
     ]
    },
    {
     "name": "stderr",
     "output_type": "stream",
     "text": [
      "C:\\ProgramData\\Anaconda3\\lib\\site-packages\\xgboost\\sklearn.py:1224: UserWarning: The use of label encoder in XGBClassifier is deprecated and will be removed in a future release. To remove this warning, do the following: 1) Pass option use_label_encoder=False when constructing XGBClassifier object; and 2) Encode your labels (y) as integers starting with 0, i.e. 0, 1, 2, ..., [num_class - 1].\n",
      "  warnings.warn(label_encoder_deprecation_msg, UserWarning)\n"
     ]
    },
    {
     "name": "stdout",
     "output_type": "stream",
     "text": [
      "[23:18:13] WARNING: C:/Users/Administrator/workspace/xgboost-win64_release_1.5.1/src/learner.cc:576: \n",
      "Parameters: { \"min_child_samples\" } might not be used.\n",
      "\n",
      "  This could be a false alarm, with some parameters getting used by language bindings but\n",
      "  then being mistakenly passed down to XGBoost core, or some parameter actually being used\n",
      "  but getting flagged wrongly here. Please open an issue if you find any such cases.\n",
      "\n",
      "\n",
      "第3个子模型， acc0.88926\n"
     ]
    },
    {
     "name": "stderr",
     "output_type": "stream",
     "text": [
      "C:\\ProgramData\\Anaconda3\\lib\\site-packages\\xgboost\\sklearn.py:1224: UserWarning: The use of label encoder in XGBClassifier is deprecated and will be removed in a future release. To remove this warning, do the following: 1) Pass option use_label_encoder=False when constructing XGBClassifier object; and 2) Encode your labels (y) as integers starting with 0, i.e. 0, 1, 2, ..., [num_class - 1].\n",
      "  warnings.warn(label_encoder_deprecation_msg, UserWarning)\n"
     ]
    },
    {
     "name": "stdout",
     "output_type": "stream",
     "text": [
      "[23:18:41] WARNING: C:/Users/Administrator/workspace/xgboost-win64_release_1.5.1/src/learner.cc:576: \n",
      "Parameters: { \"min_child_samples\" } might not be used.\n",
      "\n",
      "  This could be a false alarm, with some parameters getting used by language bindings but\n",
      "  then being mistakenly passed down to XGBoost core, or some parameter actually being used\n",
      "  but getting flagged wrongly here. Please open an issue if you find any such cases.\n",
      "\n",
      "\n",
      "第4个子模型， acc0.88882\n"
     ]
    },
    {
     "name": "stderr",
     "output_type": "stream",
     "text": [
      "C:\\ProgramData\\Anaconda3\\lib\\site-packages\\xgboost\\sklearn.py:1224: UserWarning: The use of label encoder in XGBClassifier is deprecated and will be removed in a future release. To remove this warning, do the following: 1) Pass option use_label_encoder=False when constructing XGBClassifier object; and 2) Encode your labels (y) as integers starting with 0, i.e. 0, 1, 2, ..., [num_class - 1].\n",
      "  warnings.warn(label_encoder_deprecation_msg, UserWarning)\n"
     ]
    },
    {
     "name": "stdout",
     "output_type": "stream",
     "text": [
      "[23:19:00] WARNING: C:/Users/Administrator/workspace/xgboost-win64_release_1.5.1/src/learner.cc:576: \n",
      "Parameters: { \"min_child_samples\" } might not be used.\n",
      "\n",
      "  This could be a false alarm, with some parameters getting used by language bindings but\n",
      "  then being mistakenly passed down to XGBoost core, or some parameter actually being used\n",
      "  but getting flagged wrongly here. Please open an issue if you find any such cases.\n",
      "\n",
      "\n",
      "第5个子模型， acc0.88994\n",
      "0.8893580000000001\n",
      "[0.0650456  0.4270019  0.069857   ... 0.9209366  0.96171397 0.96894646]\n"
     ]
    },
    {
     "ename": "TypeError",
     "evalue": "can only concatenate str (not \"int\") to str",
     "output_type": "error",
     "traceback": [
      "\u001b[1;31m---------------------------------------------------------------------------\u001b[0m",
      "\u001b[1;31mTypeError\u001b[0m                                 Traceback (most recent call last)",
      "\u001b[1;32mC:\\Users\\ADMINI~1\\AppData\\Local\\Temp/ipykernel_3468/1474136011.py\u001b[0m in \u001b[0;36m<module>\u001b[1;34m\u001b[0m\n\u001b[0;32m     37\u001b[0m \u001b[0mtimestr\u001b[0m \u001b[1;33m=\u001b[0m \u001b[0mdatetime\u001b[0m\u001b[1;33m.\u001b[0m\u001b[0mdatetime\u001b[0m\u001b[1;33m.\u001b[0m\u001b[0mnow\u001b[0m\u001b[1;33m(\u001b[0m\u001b[1;33m)\u001b[0m\u001b[1;33m.\u001b[0m\u001b[0mstrftime\u001b[0m\u001b[1;33m(\u001b[0m\u001b[1;34m'%y-%m-%d %H %M %S'\u001b[0m\u001b[1;33m)\u001b[0m\u001b[1;33m\u001b[0m\u001b[1;33m\u001b[0m\u001b[0m\n\u001b[0;32m     38\u001b[0m \u001b[1;33m\u001b[0m\u001b[0m\n\u001b[1;32m---> 39\u001b[1;33m \u001b[0ma\u001b[0m\u001b[1;33m.\u001b[0m\u001b[0mto_csv\u001b[0m\u001b[1;33m(\u001b[0m\u001b[1;34m'result/v7 max_depth'\u001b[0m\u001b[1;33m+\u001b[0m\u001b[0mmax_depth\u001b[0m\u001b[1;33m+\u001b[0m\u001b[1;34m'n_estimators = '\u001b[0m \u001b[1;33m+\u001b[0m \u001b[0mn_estimators\u001b[0m  \u001b[1;33m+\u001b[0m \u001b[1;34m'subsample='\u001b[0m\u001b[1;33m+\u001b[0m \u001b[0msubsample\u001b[0m \u001b[1;33m+\u001b[0m \u001b[1;34m'colsample_bytree'\u001b[0m\u001b[1;33m+\u001b[0m \u001b[0mcolsample_bytree\u001b[0m \u001b[1;33m+\u001b[0m \u001b[1;34m'reg_lambda'\u001b[0m \u001b[1;33m+\u001b[0m \u001b[0mreg_lambda\u001b[0m \u001b[1;33m+\u001b[0m \u001b[1;34m''\u001b[0m \u001b[1;33m+\u001b[0m \u001b[0mtimestr\u001b[0m \u001b[1;33m+\u001b[0m \u001b[1;34m'.csv'\u001b[0m\u001b[1;33m,\u001b[0m \u001b[0mindex\u001b[0m\u001b[1;33m=\u001b[0m\u001b[1;32mFalse\u001b[0m\u001b[1;33m)\u001b[0m\u001b[1;33m\u001b[0m\u001b[1;33m\u001b[0m\u001b[0m\n\u001b[0m",
      "\u001b[1;31mTypeError\u001b[0m: can only concatenate str (not \"int\") to str"
     ]
    }
   ],
   "source": [
    "import time\n",
    "# v7 xgboost\n",
    "# v8 使用 catboost\n",
    "# v9 nn 归一化\n",
    "\n",
    "import xgboost as xgb\n",
    "\n",
    "max_depth = 6\n",
    "n_estimators = 2000\n",
    "subsample=0.75\n",
    "colsample_bytree=0.75\n",
    "reg_lambda = 0.8\n",
    "\n",
    "clf = xgb.XGBClassifier(\n",
    "    max_depth = max_depth,\n",
    "    learning_rate = 0.05,\n",
    "    n_estimators = n_estimators,\n",
    "    objective = 'binary:logistic',\n",
    "    tree_method = 'gpu_hist',\n",
    "    subsample=subsample,\n",
    "    colsample_bytree=colsample_bytree,\n",
    "    min_child_samples = 3,\n",
    "    eval_metric='auc',\n",
    "    reg_lambda = reg_lambda\n",
    ")\n",
    "# clf.fit(features, labels, categorical_feature = cate_features)\n",
    "result = ensemble_model(clf, features, labels, test_fea)\n",
    "print(result)\n",
    "\n",
    "a = pd.DataFrame(test1['sid'])\n",
    "a['label'] = result\n",
    "\n",
    "a['label'] = a['label'].apply(lambda x: 0 if x < 0.5 else 1)\n"
   ]
  },
  {
   "cell_type": "code",
   "execution_count": 67,
   "metadata": {},
   "outputs": [],
   "source": [
    "\n",
    "a = pd.DataFrame(test1['sid'])\n",
    "a['label'] = result\n",
    "\n",
    "a['label'] = a['label'].apply(lambda x: 0 if x < 0.5 else 1)\n",
    "\n",
    "    \n",
    "import datetime\n",
    "timestr = datetime.datetime.now().strftime('%y-%m-%d %H %M %S')\n",
    "\n",
    "\n",
    "\n",
    "n_estimators = 2000\n",
    "subsample=0.75\n",
    "colsample_bytree=0.75\n",
    "reg_lambda = 0.8\n",
    "\n",
    "a.to_csv('result/v7' + 'max_depth=6subsample=0.75colsample_bytree=0.75reg_lambda = 0.8' + '.csv', index=False)"
   ]
  },
  {
   "cell_type": "code",
   "execution_count": 69,
   "metadata": {},
   "outputs": [
    {
     "name": "stderr",
     "output_type": "stream",
     "text": [
      "C:\\ProgramData\\Anaconda3\\lib\\site-packages\\xgboost\\sklearn.py:1224: UserWarning: The use of label encoder in XGBClassifier is deprecated and will be removed in a future release. To remove this warning, do the following: 1) Pass option use_label_encoder=False when constructing XGBClassifier object; and 2) Encode your labels (y) as integers starting with 0, i.e. 0, 1, 2, ..., [num_class - 1].\n",
      "  warnings.warn(label_encoder_deprecation_msg, UserWarning)\n"
     ]
    },
    {
     "name": "stdout",
     "output_type": "stream",
     "text": [
      "[23:25:27] WARNING: C:/Users/Administrator/workspace/xgboost-win64_release_1.5.1/src/learner.cc:576: \n",
      "Parameters: { \"min_child_samples\" } might not be used.\n",
      "\n",
      "  This could be a false alarm, with some parameters getting used by language bindings but\n",
      "  then being mistakenly passed down to XGBoost core, or some parameter actually being used\n",
      "  but getting flagged wrongly here. Please open an issue if you find any such cases.\n",
      "\n",
      "\n",
      "第1个子模型， acc0.88875\n"
     ]
    },
    {
     "name": "stderr",
     "output_type": "stream",
     "text": [
      "C:\\ProgramData\\Anaconda3\\lib\\site-packages\\xgboost\\sklearn.py:1224: UserWarning: The use of label encoder in XGBClassifier is deprecated and will be removed in a future release. To remove this warning, do the following: 1) Pass option use_label_encoder=False when constructing XGBClassifier object; and 2) Encode your labels (y) as integers starting with 0, i.e. 0, 1, 2, ..., [num_class - 1].\n",
      "  warnings.warn(label_encoder_deprecation_msg, UserWarning)\n"
     ]
    },
    {
     "name": "stdout",
     "output_type": "stream",
     "text": [
      "[23:25:55] WARNING: C:/Users/Administrator/workspace/xgboost-win64_release_1.5.1/src/learner.cc:576: \n",
      "Parameters: { \"min_child_samples\" } might not be used.\n",
      "\n",
      "  This could be a false alarm, with some parameters getting used by language bindings but\n",
      "  then being mistakenly passed down to XGBoost core, or some parameter actually being used\n",
      "  but getting flagged wrongly here. Please open an issue if you find any such cases.\n",
      "\n",
      "\n",
      "第2个子模型， acc0.88911\n"
     ]
    },
    {
     "name": "stderr",
     "output_type": "stream",
     "text": [
      "C:\\ProgramData\\Anaconda3\\lib\\site-packages\\xgboost\\sklearn.py:1224: UserWarning: The use of label encoder in XGBClassifier is deprecated and will be removed in a future release. To remove this warning, do the following: 1) Pass option use_label_encoder=False when constructing XGBClassifier object; and 2) Encode your labels (y) as integers starting with 0, i.e. 0, 1, 2, ..., [num_class - 1].\n",
      "  warnings.warn(label_encoder_deprecation_msg, UserWarning)\n"
     ]
    },
    {
     "name": "stdout",
     "output_type": "stream",
     "text": [
      "[23:26:23] WARNING: C:/Users/Administrator/workspace/xgboost-win64_release_1.5.1/src/learner.cc:576: \n",
      "Parameters: { \"min_child_samples\" } might not be used.\n",
      "\n",
      "  This could be a false alarm, with some parameters getting used by language bindings but\n",
      "  then being mistakenly passed down to XGBoost core, or some parameter actually being used\n",
      "  but getting flagged wrongly here. Please open an issue if you find any such cases.\n",
      "\n",
      "\n",
      "第3个子模型， acc0.88941\n"
     ]
    },
    {
     "name": "stderr",
     "output_type": "stream",
     "text": [
      "C:\\ProgramData\\Anaconda3\\lib\\site-packages\\xgboost\\sklearn.py:1224: UserWarning: The use of label encoder in XGBClassifier is deprecated and will be removed in a future release. To remove this warning, do the following: 1) Pass option use_label_encoder=False when constructing XGBClassifier object; and 2) Encode your labels (y) as integers starting with 0, i.e. 0, 1, 2, ..., [num_class - 1].\n",
      "  warnings.warn(label_encoder_deprecation_msg, UserWarning)\n"
     ]
    },
    {
     "name": "stdout",
     "output_type": "stream",
     "text": [
      "[23:26:51] WARNING: C:/Users/Administrator/workspace/xgboost-win64_release_1.5.1/src/learner.cc:576: \n",
      "Parameters: { \"min_child_samples\" } might not be used.\n",
      "\n",
      "  This could be a false alarm, with some parameters getting used by language bindings but\n",
      "  then being mistakenly passed down to XGBoost core, or some parameter actually being used\n",
      "  but getting flagged wrongly here. Please open an issue if you find any such cases.\n",
      "\n",
      "\n",
      "第4个子模型， acc0.8884\n"
     ]
    },
    {
     "name": "stderr",
     "output_type": "stream",
     "text": [
      "C:\\ProgramData\\Anaconda3\\lib\\site-packages\\xgboost\\sklearn.py:1224: UserWarning: The use of label encoder in XGBClassifier is deprecated and will be removed in a future release. To remove this warning, do the following: 1) Pass option use_label_encoder=False when constructing XGBClassifier object; and 2) Encode your labels (y) as integers starting with 0, i.e. 0, 1, 2, ..., [num_class - 1].\n",
      "  warnings.warn(label_encoder_deprecation_msg, UserWarning)\n"
     ]
    },
    {
     "name": "stdout",
     "output_type": "stream",
     "text": [
      "[23:27:18] WARNING: C:/Users/Administrator/workspace/xgboost-win64_release_1.5.1/src/learner.cc:576: \n",
      "Parameters: { \"min_child_samples\" } might not be used.\n",
      "\n",
      "  This could be a false alarm, with some parameters getting used by language bindings but\n",
      "  then being mistakenly passed down to XGBoost core, or some parameter actually being used\n",
      "  but getting flagged wrongly here. Please open an issue if you find any such cases.\n",
      "\n",
      "\n",
      "第5个子模型， acc0.88958\n",
      "0.8890499999999999\n",
      "[0.07575818 0.4792742  0.10179408 ... 0.905814   0.964489   0.96795166]\n"
     ]
    }
   ],
   "source": [
    "import time\n",
    "# v7 xgboost\n",
    "# v8 使用 catboost\n",
    "# v9 nn 归一化\n",
    "\n",
    "import xgboost as xgb\n",
    "\n",
    "max_depth = 7\n",
    "n_estimators = 2000\n",
    "subsample=0.75\n",
    "colsample_bytree=0.75\n",
    "reg_lambda = 0.8\n",
    "\n",
    "clf = xgb.XGBClassifier(\n",
    "    max_depth = max_depth,\n",
    "    learning_rate = 0.05,\n",
    "    n_estimators = n_estimators,\n",
    "    objective = 'binary:logistic',\n",
    "    tree_method = 'gpu_hist',\n",
    "    subsample=subsample,\n",
    "    colsample_bytree=colsample_bytree,\n",
    "    min_child_samples = 3,\n",
    "    eval_metric='auc',\n",
    "    reg_lambda = reg_lambda\n",
    ")\n",
    "# clf.fit(features, labels, categorical_feature = cate_features)\n",
    "result = ensemble_model(clf, features, labels, test_fea)\n",
    "print(result)\n",
    "\n",
    "a = pd.DataFrame(test1['sid'])\n",
    "a['label'] = result\n",
    "\n",
    "a['label'] = a['label'].apply(lambda x: 0 if x < 0.5 else 1)\n"
   ]
  },
  {
   "cell_type": "code",
   "execution_count": 70,
   "metadata": {},
   "outputs": [],
   "source": [
    "\n",
    "a = pd.DataFrame(test1['sid'])\n",
    "a['label'] = result\n",
    "\n",
    "a['label'] = a['label'].apply(lambda x: 0 if x < 0.5 else 1)\n",
    "\n",
    "    \n",
    "import datetime\n",
    "timestr = datetime.datetime.now().strftime('%y-%m-%d %H %M %S')\n",
    "\n",
    "\n",
    "\n",
    "n_estimators = 2000\n",
    "subsample=0.75\n",
    "colsample_bytree=0.75\n",
    "reg_lambda = 0.8\n",
    "\n",
    "a.to_csv('result/v7' + 'max_depth=7subsample=0.75colsample_bytree=0.75reg_lambda = 0.8' + '.csv', index=False)"
   ]
  },
  {
   "cell_type": "code",
   "execution_count": 72,
   "metadata": {},
   "outputs": [
    {
     "name": "stderr",
     "output_type": "stream",
     "text": [
      "C:\\ProgramData\\Anaconda3\\lib\\site-packages\\xgboost\\sklearn.py:1224: UserWarning: The use of label encoder in XGBClassifier is deprecated and will be removed in a future release. To remove this warning, do the following: 1) Pass option use_label_encoder=False when constructing XGBClassifier object; and 2) Encode your labels (y) as integers starting with 0, i.e. 0, 1, 2, ..., [num_class - 1].\n",
      "  warnings.warn(label_encoder_deprecation_msg, UserWarning)\n"
     ]
    },
    {
     "name": "stdout",
     "output_type": "stream",
     "text": [
      "[23:31:07] WARNING: C:/Users/Administrator/workspace/xgboost-win64_release_1.5.1/src/learner.cc:576: \n",
      "Parameters: { \"min_child_samples\" } might not be used.\n",
      "\n",
      "  This could be a false alarm, with some parameters getting used by language bindings but\n",
      "  then being mistakenly passed down to XGBoost core, or some parameter actually being used\n",
      "  but getting flagged wrongly here. Please open an issue if you find any such cases.\n",
      "\n",
      "\n",
      "第1个子模型， acc0.88869\n"
     ]
    },
    {
     "name": "stderr",
     "output_type": "stream",
     "text": [
      "C:\\ProgramData\\Anaconda3\\lib\\site-packages\\xgboost\\sklearn.py:1224: UserWarning: The use of label encoder in XGBClassifier is deprecated and will be removed in a future release. To remove this warning, do the following: 1) Pass option use_label_encoder=False when constructing XGBClassifier object; and 2) Encode your labels (y) as integers starting with 0, i.e. 0, 1, 2, ..., [num_class - 1].\n",
      "  warnings.warn(label_encoder_deprecation_msg, UserWarning)\n"
     ]
    },
    {
     "name": "stdout",
     "output_type": "stream",
     "text": [
      "[23:31:25] WARNING: C:/Users/Administrator/workspace/xgboost-win64_release_1.5.1/src/learner.cc:576: \n",
      "Parameters: { \"min_child_samples\" } might not be used.\n",
      "\n",
      "  This could be a false alarm, with some parameters getting used by language bindings but\n",
      "  then being mistakenly passed down to XGBoost core, or some parameter actually being used\n",
      "  but getting flagged wrongly here. Please open an issue if you find any such cases.\n",
      "\n",
      "\n",
      "第2个子模型， acc0.89011\n"
     ]
    },
    {
     "name": "stderr",
     "output_type": "stream",
     "text": [
      "C:\\ProgramData\\Anaconda3\\lib\\site-packages\\xgboost\\sklearn.py:1224: UserWarning: The use of label encoder in XGBClassifier is deprecated and will be removed in a future release. To remove this warning, do the following: 1) Pass option use_label_encoder=False when constructing XGBClassifier object; and 2) Encode your labels (y) as integers starting with 0, i.e. 0, 1, 2, ..., [num_class - 1].\n",
      "  warnings.warn(label_encoder_deprecation_msg, UserWarning)\n"
     ]
    },
    {
     "name": "stdout",
     "output_type": "stream",
     "text": [
      "[23:31:43] WARNING: C:/Users/Administrator/workspace/xgboost-win64_release_1.5.1/src/learner.cc:576: \n",
      "Parameters: { \"min_child_samples\" } might not be used.\n",
      "\n",
      "  This could be a false alarm, with some parameters getting used by language bindings but\n",
      "  then being mistakenly passed down to XGBoost core, or some parameter actually being used\n",
      "  but getting flagged wrongly here. Please open an issue if you find any such cases.\n",
      "\n",
      "\n",
      "第3个子模型， acc0.88923\n"
     ]
    },
    {
     "name": "stderr",
     "output_type": "stream",
     "text": [
      "C:\\ProgramData\\Anaconda3\\lib\\site-packages\\xgboost\\sklearn.py:1224: UserWarning: The use of label encoder in XGBClassifier is deprecated and will be removed in a future release. To remove this warning, do the following: 1) Pass option use_label_encoder=False when constructing XGBClassifier object; and 2) Encode your labels (y) as integers starting with 0, i.e. 0, 1, 2, ..., [num_class - 1].\n",
      "  warnings.warn(label_encoder_deprecation_msg, UserWarning)\n"
     ]
    },
    {
     "name": "stdout",
     "output_type": "stream",
     "text": [
      "[23:32:01] WARNING: C:/Users/Administrator/workspace/xgboost-win64_release_1.5.1/src/learner.cc:576: \n",
      "Parameters: { \"min_child_samples\" } might not be used.\n",
      "\n",
      "  This could be a false alarm, with some parameters getting used by language bindings but\n",
      "  then being mistakenly passed down to XGBoost core, or some parameter actually being used\n",
      "  but getting flagged wrongly here. Please open an issue if you find any such cases.\n",
      "\n",
      "\n",
      "第4个子模型， acc0.88889\n"
     ]
    },
    {
     "name": "stderr",
     "output_type": "stream",
     "text": [
      "C:\\ProgramData\\Anaconda3\\lib\\site-packages\\xgboost\\sklearn.py:1224: UserWarning: The use of label encoder in XGBClassifier is deprecated and will be removed in a future release. To remove this warning, do the following: 1) Pass option use_label_encoder=False when constructing XGBClassifier object; and 2) Encode your labels (y) as integers starting with 0, i.e. 0, 1, 2, ..., [num_class - 1].\n",
      "  warnings.warn(label_encoder_deprecation_msg, UserWarning)\n"
     ]
    },
    {
     "name": "stdout",
     "output_type": "stream",
     "text": [
      "[23:32:20] WARNING: C:/Users/Administrator/workspace/xgboost-win64_release_1.5.1/src/learner.cc:576: \n",
      "Parameters: { \"min_child_samples\" } might not be used.\n",
      "\n",
      "  This could be a false alarm, with some parameters getting used by language bindings but\n",
      "  then being mistakenly passed down to XGBoost core, or some parameter actually being used\n",
      "  but getting flagged wrongly here. Please open an issue if you find any such cases.\n",
      "\n",
      "\n",
      "第5个子模型， acc0.88961\n",
      "0.889306\n",
      "[0.06745136 0.44707346 0.09409674 ... 0.92551994 0.9630693  0.9683505 ]\n"
     ]
    }
   ],
   "source": [
    "import time\n",
    "# v7 xgboost\n",
    "# v8 使用 catboost\n",
    "# v9 nn 归一化\n",
    "\n",
    "import xgboost as xgb\n",
    "\n",
    "max_depth = 6\n",
    "n_estimators = 2000\n",
    "subsample=0.72\n",
    "colsample_bytree=0.72\n",
    "reg_lambda = 0.7\n",
    "\n",
    "clf = xgb.XGBClassifier(\n",
    "    max_depth = max_depth,\n",
    "    learning_rate = 0.05,\n",
    "    n_estimators = n_estimators,\n",
    "    objective = 'binary:logistic',\n",
    "    tree_method = 'gpu_hist',\n",
    "    subsample=subsample,\n",
    "    colsample_bytree=colsample_bytree,\n",
    "    min_child_samples = 3,\n",
    "    eval_metric='auc',\n",
    "    reg_lambda = reg_lambda\n",
    ")\n",
    "# clf.fit(features, labels, categorical_feature = cate_features)\n",
    "result = ensemble_model(clf, features, labels, test_fea)\n",
    "print(result)\n",
    "\n",
    "a = pd.DataFrame(test1['sid'])\n",
    "a['label'] = result\n",
    "\n",
    "a['label'] = a['label'].apply(lambda x: 0 if x < 0.5 else 1)\n"
   ]
  },
  {
   "cell_type": "code",
   "execution_count": 73,
   "metadata": {},
   "outputs": [],
   "source": [
    "\n",
    "a = pd.DataFrame(test1['sid'])\n",
    "a['label'] = result\n",
    "\n",
    "a['label'] = a['label'].apply(lambda x: 0 if x < 0.5 else 1)\n",
    "\n",
    "    \n",
    "import datetime\n",
    "timestr = datetime.datetime.now().strftime('%y-%m-%d %H %M %S')\n",
    "\n",
    "\n",
    "\n",
    "n_estimators = 2000\n",
    "subsample=0.75\n",
    "colsample_bytree=0.75\n",
    "reg_lambda = 0.8\n",
    "\n",
    "a.to_csv('result/v7' + 'max_depth=6subsample=0.72colsample_bytree=0.72reg_lambda = 0.7' + '.csv', index=False)"
   ]
  },
  {
   "cell_type": "code",
   "execution_count": 74,
   "metadata": {},
   "outputs": [
    {
     "name": "stderr",
     "output_type": "stream",
     "text": [
      "C:\\ProgramData\\Anaconda3\\lib\\site-packages\\xgboost\\sklearn.py:1224: UserWarning: The use of label encoder in XGBClassifier is deprecated and will be removed in a future release. To remove this warning, do the following: 1) Pass option use_label_encoder=False when constructing XGBClassifier object; and 2) Encode your labels (y) as integers starting with 0, i.e. 0, 1, 2, ..., [num_class - 1].\n",
      "  warnings.warn(label_encoder_deprecation_msg, UserWarning)\n"
     ]
    },
    {
     "name": "stdout",
     "output_type": "stream",
     "text": [
      "[23:33:48] WARNING: C:/Users/Administrator/workspace/xgboost-win64_release_1.5.1/src/learner.cc:576: \n",
      "Parameters: { \"min_child_samples\" } might not be used.\n",
      "\n",
      "  This could be a false alarm, with some parameters getting used by language bindings but\n",
      "  then being mistakenly passed down to XGBoost core, or some parameter actually being used\n",
      "  but getting flagged wrongly here. Please open an issue if you find any such cases.\n",
      "\n",
      "\n",
      "第1个子模型， acc0.88908\n"
     ]
    },
    {
     "name": "stderr",
     "output_type": "stream",
     "text": [
      "C:\\ProgramData\\Anaconda3\\lib\\site-packages\\xgboost\\sklearn.py:1224: UserWarning: The use of label encoder in XGBClassifier is deprecated and will be removed in a future release. To remove this warning, do the following: 1) Pass option use_label_encoder=False when constructing XGBClassifier object; and 2) Encode your labels (y) as integers starting with 0, i.e. 0, 1, 2, ..., [num_class - 1].\n",
      "  warnings.warn(label_encoder_deprecation_msg, UserWarning)\n"
     ]
    },
    {
     "name": "stdout",
     "output_type": "stream",
     "text": [
      "[23:34:00] WARNING: C:/Users/Administrator/workspace/xgboost-win64_release_1.5.1/src/learner.cc:576: \n",
      "Parameters: { \"min_child_samples\" } might not be used.\n",
      "\n",
      "  This could be a false alarm, with some parameters getting used by language bindings but\n",
      "  then being mistakenly passed down to XGBoost core, or some parameter actually being used\n",
      "  but getting flagged wrongly here. Please open an issue if you find any such cases.\n",
      "\n",
      "\n",
      "第2个子模型， acc0.88933\n"
     ]
    },
    {
     "name": "stderr",
     "output_type": "stream",
     "text": [
      "C:\\ProgramData\\Anaconda3\\lib\\site-packages\\xgboost\\sklearn.py:1224: UserWarning: The use of label encoder in XGBClassifier is deprecated and will be removed in a future release. To remove this warning, do the following: 1) Pass option use_label_encoder=False when constructing XGBClassifier object; and 2) Encode your labels (y) as integers starting with 0, i.e. 0, 1, 2, ..., [num_class - 1].\n",
      "  warnings.warn(label_encoder_deprecation_msg, UserWarning)\n"
     ]
    },
    {
     "name": "stdout",
     "output_type": "stream",
     "text": [
      "[23:34:13] WARNING: C:/Users/Administrator/workspace/xgboost-win64_release_1.5.1/src/learner.cc:576: \n",
      "Parameters: { \"min_child_samples\" } might not be used.\n",
      "\n",
      "  This could be a false alarm, with some parameters getting used by language bindings but\n",
      "  then being mistakenly passed down to XGBoost core, or some parameter actually being used\n",
      "  but getting flagged wrongly here. Please open an issue if you find any such cases.\n",
      "\n",
      "\n",
      "第3个子模型， acc0.88893\n"
     ]
    },
    {
     "name": "stderr",
     "output_type": "stream",
     "text": [
      "C:\\ProgramData\\Anaconda3\\lib\\site-packages\\xgboost\\sklearn.py:1224: UserWarning: The use of label encoder in XGBClassifier is deprecated and will be removed in a future release. To remove this warning, do the following: 1) Pass option use_label_encoder=False when constructing XGBClassifier object; and 2) Encode your labels (y) as integers starting with 0, i.e. 0, 1, 2, ..., [num_class - 1].\n",
      "  warnings.warn(label_encoder_deprecation_msg, UserWarning)\n"
     ]
    },
    {
     "name": "stdout",
     "output_type": "stream",
     "text": [
      "[23:34:25] WARNING: C:/Users/Administrator/workspace/xgboost-win64_release_1.5.1/src/learner.cc:576: \n",
      "Parameters: { \"min_child_samples\" } might not be used.\n",
      "\n",
      "  This could be a false alarm, with some parameters getting used by language bindings but\n",
      "  then being mistakenly passed down to XGBoost core, or some parameter actually being used\n",
      "  but getting flagged wrongly here. Please open an issue if you find any such cases.\n",
      "\n",
      "\n",
      "第4个子模型， acc0.88863\n"
     ]
    },
    {
     "name": "stderr",
     "output_type": "stream",
     "text": [
      "C:\\ProgramData\\Anaconda3\\lib\\site-packages\\xgboost\\sklearn.py:1224: UserWarning: The use of label encoder in XGBClassifier is deprecated and will be removed in a future release. To remove this warning, do the following: 1) Pass option use_label_encoder=False when constructing XGBClassifier object; and 2) Encode your labels (y) as integers starting with 0, i.e. 0, 1, 2, ..., [num_class - 1].\n",
      "  warnings.warn(label_encoder_deprecation_msg, UserWarning)\n"
     ]
    },
    {
     "name": "stdout",
     "output_type": "stream",
     "text": [
      "[23:34:38] WARNING: C:/Users/Administrator/workspace/xgboost-win64_release_1.5.1/src/learner.cc:576: \n",
      "Parameters: { \"min_child_samples\" } might not be used.\n",
      "\n",
      "  This could be a false alarm, with some parameters getting used by language bindings but\n",
      "  then being mistakenly passed down to XGBoost core, or some parameter actually being used\n",
      "  but getting flagged wrongly here. Please open an issue if you find any such cases.\n",
      "\n",
      "\n",
      "第5个子模型， acc0.88973\n",
      "0.88914\n",
      "[0.07495724 0.36987686 0.0668446  ... 0.92707384 0.9641236  0.9648153 ]\n"
     ]
    }
   ],
   "source": [
    "import time\n",
    "# v7 xgboost\n",
    "# v8 使用 catboost\n",
    "# v9 nn 归一化\n",
    "\n",
    "import xgboost as xgb\n",
    "\n",
    "max_depth = 5\n",
    "n_estimators = 2000\n",
    "subsample=0.72\n",
    "colsample_bytree=0.72\n",
    "reg_lambda = 0.7\n",
    "\n",
    "clf = xgb.XGBClassifier(\n",
    "    max_depth = max_depth,\n",
    "    learning_rate = 0.05,\n",
    "    n_estimators = n_estimators,\n",
    "    objective = 'binary:logistic',\n",
    "    tree_method = 'gpu_hist',\n",
    "    subsample=subsample,\n",
    "    colsample_bytree=colsample_bytree,\n",
    "    min_child_samples = 3,\n",
    "    eval_metric='auc',\n",
    "    reg_lambda = reg_lambda\n",
    ")\n",
    "# clf.fit(features, labels, categorical_feature = cate_features)\n",
    "result = ensemble_model(clf, features, labels, test_fea)\n",
    "print(result)\n",
    "\n",
    "a = pd.DataFrame(test1['sid'])\n",
    "a['label'] = result\n",
    "\n",
    "a['label'] = a['label'].apply(lambda x: 0 if x < 0.5 else 1)\n"
   ]
  },
  {
   "cell_type": "code",
   "execution_count": 75,
   "metadata": {},
   "outputs": [],
   "source": [
    "\n",
    "a = pd.DataFrame(test1['sid'])\n",
    "a['label'] = result\n",
    "\n",
    "a['label'] = a['label'].apply(lambda x: 0 if x < 0.5 else 1)\n",
    "\n",
    "    \n",
    "import datetime\n",
    "timestr = datetime.datetime.now().strftime('%y-%m-%d %H %M %S')\n",
    "\n",
    "\n",
    "\n",
    "n_estimators = 2000\n",
    "subsample=0.75\n",
    "colsample_bytree=0.75\n",
    "reg_lambda = 0.8\n",
    "\n",
    "a.to_csv('result/v7' + 'max_depth=5subsample=0.72colsample_bytree=0.72reg_lambda = 0.7' + '.csv', index=False)"
   ]
  },
  {
   "cell_type": "code",
   "execution_count": 80,
   "metadata": {},
   "outputs": [
    {
     "name": "stderr",
     "output_type": "stream",
     "text": [
      "C:\\ProgramData\\Anaconda3\\lib\\site-packages\\xgboost\\sklearn.py:1224: UserWarning: The use of label encoder in XGBClassifier is deprecated and will be removed in a future release. To remove this warning, do the following: 1) Pass option use_label_encoder=False when constructing XGBClassifier object; and 2) Encode your labels (y) as integers starting with 0, i.e. 0, 1, 2, ..., [num_class - 1].\n",
      "  warnings.warn(label_encoder_deprecation_msg, UserWarning)\n"
     ]
    },
    {
     "name": "stdout",
     "output_type": "stream",
     "text": [
      "[23:41:27] WARNING: C:/Users/Administrator/workspace/xgboost-win64_release_1.5.1/src/learner.cc:576: \n",
      "Parameters: { \"min_child_samples\" } might not be used.\n",
      "\n",
      "  This could be a false alarm, with some parameters getting used by language bindings but\n",
      "  then being mistakenly passed down to XGBoost core, or some parameter actually being used\n",
      "  but getting flagged wrongly here. Please open an issue if you find any such cases.\n",
      "\n",
      "\n",
      "第1个子模型， acc0.88817\n"
     ]
    },
    {
     "name": "stderr",
     "output_type": "stream",
     "text": [
      "C:\\ProgramData\\Anaconda3\\lib\\site-packages\\xgboost\\sklearn.py:1224: UserWarning: The use of label encoder in XGBClassifier is deprecated and will be removed in a future release. To remove this warning, do the following: 1) Pass option use_label_encoder=False when constructing XGBClassifier object; and 2) Encode your labels (y) as integers starting with 0, i.e. 0, 1, 2, ..., [num_class - 1].\n",
      "  warnings.warn(label_encoder_deprecation_msg, UserWarning)\n"
     ]
    },
    {
     "name": "stdout",
     "output_type": "stream",
     "text": [
      "[23:41:58] WARNING: C:/Users/Administrator/workspace/xgboost-win64_release_1.5.1/src/learner.cc:576: \n",
      "Parameters: { \"min_child_samples\" } might not be used.\n",
      "\n",
      "  This could be a false alarm, with some parameters getting used by language bindings but\n",
      "  then being mistakenly passed down to XGBoost core, or some parameter actually being used\n",
      "  but getting flagged wrongly here. Please open an issue if you find any such cases.\n",
      "\n",
      "\n",
      "第2个子模型， acc0.88934\n"
     ]
    },
    {
     "name": "stderr",
     "output_type": "stream",
     "text": [
      "C:\\ProgramData\\Anaconda3\\lib\\site-packages\\xgboost\\sklearn.py:1224: UserWarning: The use of label encoder in XGBClassifier is deprecated and will be removed in a future release. To remove this warning, do the following: 1) Pass option use_label_encoder=False when constructing XGBClassifier object; and 2) Encode your labels (y) as integers starting with 0, i.e. 0, 1, 2, ..., [num_class - 1].\n",
      "  warnings.warn(label_encoder_deprecation_msg, UserWarning)\n"
     ]
    },
    {
     "name": "stdout",
     "output_type": "stream",
     "text": [
      "[23:42:29] WARNING: C:/Users/Administrator/workspace/xgboost-win64_release_1.5.1/src/learner.cc:576: \n",
      "Parameters: { \"min_child_samples\" } might not be used.\n",
      "\n",
      "  This could be a false alarm, with some parameters getting used by language bindings but\n",
      "  then being mistakenly passed down to XGBoost core, or some parameter actually being used\n",
      "  but getting flagged wrongly here. Please open an issue if you find any such cases.\n",
      "\n",
      "\n",
      "第3个子模型， acc0.88874\n"
     ]
    },
    {
     "name": "stderr",
     "output_type": "stream",
     "text": [
      "C:\\ProgramData\\Anaconda3\\lib\\site-packages\\xgboost\\sklearn.py:1224: UserWarning: The use of label encoder in XGBClassifier is deprecated and will be removed in a future release. To remove this warning, do the following: 1) Pass option use_label_encoder=False when constructing XGBClassifier object; and 2) Encode your labels (y) as integers starting with 0, i.e. 0, 1, 2, ..., [num_class - 1].\n",
      "  warnings.warn(label_encoder_deprecation_msg, UserWarning)\n"
     ]
    },
    {
     "name": "stdout",
     "output_type": "stream",
     "text": [
      "[23:43:00] WARNING: C:/Users/Administrator/workspace/xgboost-win64_release_1.5.1/src/learner.cc:576: \n",
      "Parameters: { \"min_child_samples\" } might not be used.\n",
      "\n",
      "  This could be a false alarm, with some parameters getting used by language bindings but\n",
      "  then being mistakenly passed down to XGBoost core, or some parameter actually being used\n",
      "  but getting flagged wrongly here. Please open an issue if you find any such cases.\n",
      "\n",
      "\n",
      "第4个子模型， acc0.88878\n"
     ]
    },
    {
     "name": "stderr",
     "output_type": "stream",
     "text": [
      "C:\\ProgramData\\Anaconda3\\lib\\site-packages\\xgboost\\sklearn.py:1224: UserWarning: The use of label encoder in XGBClassifier is deprecated and will be removed in a future release. To remove this warning, do the following: 1) Pass option use_label_encoder=False when constructing XGBClassifier object; and 2) Encode your labels (y) as integers starting with 0, i.e. 0, 1, 2, ..., [num_class - 1].\n",
      "  warnings.warn(label_encoder_deprecation_msg, UserWarning)\n"
     ]
    },
    {
     "name": "stdout",
     "output_type": "stream",
     "text": [
      "[23:43:31] WARNING: C:/Users/Administrator/workspace/xgboost-win64_release_1.5.1/src/learner.cc:576: \n",
      "Parameters: { \"min_child_samples\" } might not be used.\n",
      "\n",
      "  This could be a false alarm, with some parameters getting used by language bindings but\n",
      "  then being mistakenly passed down to XGBoost core, or some parameter actually being used\n",
      "  but getting flagged wrongly here. Please open an issue if you find any such cases.\n",
      "\n",
      "\n",
      "第5个子模型， acc0.88949\n",
      "0.888904\n",
      "[0.10891336 0.4991042  0.08520729 ... 0.92479163 0.9577077  0.9695404 ]\n"
     ]
    }
   ],
   "source": [
    "import time\n",
    "# v7 xgboost\n",
    "# v8 使用 catboost\n",
    "# v9 nn 归一化\n",
    "\n",
    "import xgboost as xgb\n",
    "\n",
    "# 88.1407\n",
    "\n",
    "max_depth = 5\n",
    "n_estimators = 5000\n",
    "subsample=0.72\n",
    "colsample_bytree=0.72\n",
    "reg_lambda = 1.2\n",
    "\n",
    "clf = xgb.XGBClassifier(\n",
    "    max_depth = max_depth,\n",
    "    learning_rate = 0.05,\n",
    "    n_estimators = n_estimators,\n",
    "    objective = 'binary:logistic',\n",
    "    tree_method = 'gpu_hist',\n",
    "    subsample=subsample,\n",
    "    colsample_bytree=colsample_bytree,\n",
    "    min_child_samples = 3,\n",
    "    eval_metric='auc',\n",
    "    reg_lambda = reg_lambda\n",
    ")\n",
    "# clf.fit(features, labels, categorical_feature = cate_features)\n",
    "result = ensemble_model(clf, features, labels, test_fea)\n",
    "print(result)\n",
    "\n",
    "\n",
    "a = pd.DataFrame(test1['sid'])\n",
    "a['label'] = result\n",
    "\n",
    "a['label'] = a['label'].apply(lambda x: 0 if x < 0.5 else 1)\n",
    "\n",
    "    \n",
    "import datetime\n",
    "timestr = datetime.datetime.now().strftime('%y-%m-%d %H %M %S')\n",
    "\n",
    "a.to_csv('result/v7' + 'max_depth=5subsample=0.72colsample_bytree=0.72reg_lambda = 1.2' + '.csv', index=False)"
   ]
  },
  {
   "cell_type": "code",
   "execution_count": 81,
   "metadata": {},
   "outputs": [
    {
     "name": "stderr",
     "output_type": "stream",
     "text": [
      "C:\\ProgramData\\Anaconda3\\lib\\site-packages\\xgboost\\sklearn.py:1224: UserWarning: The use of label encoder in XGBClassifier is deprecated and will be removed in a future release. To remove this warning, do the following: 1) Pass option use_label_encoder=False when constructing XGBClassifier object; and 2) Encode your labels (y) as integers starting with 0, i.e. 0, 1, 2, ..., [num_class - 1].\n",
      "  warnings.warn(label_encoder_deprecation_msg, UserWarning)\n"
     ]
    },
    {
     "name": "stdout",
     "output_type": "stream",
     "text": [
      "[23:55:50] WARNING: C:/Users/Administrator/workspace/xgboost-win64_release_1.5.1/src/learner.cc:576: \n",
      "Parameters: { \"min_child_samples\" } might not be used.\n",
      "\n",
      "  This could be a false alarm, with some parameters getting used by language bindings but\n",
      "  then being mistakenly passed down to XGBoost core, or some parameter actually being used\n",
      "  but getting flagged wrongly here. Please open an issue if you find any such cases.\n",
      "\n",
      "\n",
      "第1个子模型， acc0.88841\n"
     ]
    },
    {
     "name": "stderr",
     "output_type": "stream",
     "text": [
      "C:\\ProgramData\\Anaconda3\\lib\\site-packages\\xgboost\\sklearn.py:1224: UserWarning: The use of label encoder in XGBClassifier is deprecated and will be removed in a future release. To remove this warning, do the following: 1) Pass option use_label_encoder=False when constructing XGBClassifier object; and 2) Encode your labels (y) as integers starting with 0, i.e. 0, 1, 2, ..., [num_class - 1].\n",
      "  warnings.warn(label_encoder_deprecation_msg, UserWarning)\n"
     ]
    },
    {
     "name": "stdout",
     "output_type": "stream",
     "text": [
      "[23:56:22] WARNING: C:/Users/Administrator/workspace/xgboost-win64_release_1.5.1/src/learner.cc:576: \n",
      "Parameters: { \"min_child_samples\" } might not be used.\n",
      "\n",
      "  This could be a false alarm, with some parameters getting used by language bindings but\n",
      "  then being mistakenly passed down to XGBoost core, or some parameter actually being used\n",
      "  but getting flagged wrongly here. Please open an issue if you find any such cases.\n",
      "\n",
      "\n",
      "第2个子模型， acc0.88907\n"
     ]
    },
    {
     "name": "stderr",
     "output_type": "stream",
     "text": [
      "C:\\ProgramData\\Anaconda3\\lib\\site-packages\\xgboost\\sklearn.py:1224: UserWarning: The use of label encoder in XGBClassifier is deprecated and will be removed in a future release. To remove this warning, do the following: 1) Pass option use_label_encoder=False when constructing XGBClassifier object; and 2) Encode your labels (y) as integers starting with 0, i.e. 0, 1, 2, ..., [num_class - 1].\n",
      "  warnings.warn(label_encoder_deprecation_msg, UserWarning)\n"
     ]
    },
    {
     "name": "stdout",
     "output_type": "stream",
     "text": [
      "[23:56:53] WARNING: C:/Users/Administrator/workspace/xgboost-win64_release_1.5.1/src/learner.cc:576: \n",
      "Parameters: { \"min_child_samples\" } might not be used.\n",
      "\n",
      "  This could be a false alarm, with some parameters getting used by language bindings but\n",
      "  then being mistakenly passed down to XGBoost core, or some parameter actually being used\n",
      "  but getting flagged wrongly here. Please open an issue if you find any such cases.\n",
      "\n",
      "\n",
      "第3个子模型， acc0.88895\n"
     ]
    },
    {
     "name": "stderr",
     "output_type": "stream",
     "text": [
      "C:\\ProgramData\\Anaconda3\\lib\\site-packages\\xgboost\\sklearn.py:1224: UserWarning: The use of label encoder in XGBClassifier is deprecated and will be removed in a future release. To remove this warning, do the following: 1) Pass option use_label_encoder=False when constructing XGBClassifier object; and 2) Encode your labels (y) as integers starting with 0, i.e. 0, 1, 2, ..., [num_class - 1].\n",
      "  warnings.warn(label_encoder_deprecation_msg, UserWarning)\n"
     ]
    },
    {
     "name": "stdout",
     "output_type": "stream",
     "text": [
      "[23:57:24] WARNING: C:/Users/Administrator/workspace/xgboost-win64_release_1.5.1/src/learner.cc:576: \n",
      "Parameters: { \"min_child_samples\" } might not be used.\n",
      "\n",
      "  This could be a false alarm, with some parameters getting used by language bindings but\n",
      "  then being mistakenly passed down to XGBoost core, or some parameter actually being used\n",
      "  but getting flagged wrongly here. Please open an issue if you find any such cases.\n",
      "\n",
      "\n",
      "第4个子模型， acc0.88806\n"
     ]
    },
    {
     "name": "stderr",
     "output_type": "stream",
     "text": [
      "C:\\ProgramData\\Anaconda3\\lib\\site-packages\\xgboost\\sklearn.py:1224: UserWarning: The use of label encoder in XGBClassifier is deprecated and will be removed in a future release. To remove this warning, do the following: 1) Pass option use_label_encoder=False when constructing XGBClassifier object; and 2) Encode your labels (y) as integers starting with 0, i.e. 0, 1, 2, ..., [num_class - 1].\n",
      "  warnings.warn(label_encoder_deprecation_msg, UserWarning)\n"
     ]
    },
    {
     "name": "stdout",
     "output_type": "stream",
     "text": [
      "[23:57:56] WARNING: C:/Users/Administrator/workspace/xgboost-win64_release_1.5.1/src/learner.cc:576: \n",
      "Parameters: { \"min_child_samples\" } might not be used.\n",
      "\n",
      "  This could be a false alarm, with some parameters getting used by language bindings but\n",
      "  then being mistakenly passed down to XGBoost core, or some parameter actually being used\n",
      "  but getting flagged wrongly here. Please open an issue if you find any such cases.\n",
      "\n",
      "\n",
      "第5个子模型， acc0.88933\n",
      "0.888764\n",
      "[0.08944175 0.45126265 0.09689205 ... 0.9098509  0.9605802  0.9691149 ]\n"
     ]
    }
   ],
   "source": [
    "import time\n",
    "# v7 xgboost\n",
    "# v8 使用 catboost\n",
    "# v9 nn 归一化\n",
    "\n",
    "# 88.1393\n",
    "\n",
    "import xgboost as xgb\n",
    "\n",
    "max_depth = 5\n",
    "n_estimators = 5000\n",
    "subsample=0.72\n",
    "colsample_bytree=0.72\n",
    "reg_lambda = 2\n",
    "\n",
    "clf = xgb.XGBClassifier(\n",
    "    max_depth = max_depth,\n",
    "    learning_rate = 0.05,\n",
    "    n_estimators = n_estimators,\n",
    "    objective = 'binary:logistic',\n",
    "    tree_method = 'gpu_hist',\n",
    "    subsample=subsample,\n",
    "    colsample_bytree=colsample_bytree,\n",
    "    min_child_samples = 3,\n",
    "    eval_metric='auc',\n",
    "    reg_lambda = reg_lambda\n",
    ")\n",
    "# clf.fit(features, labels, categorical_feature = cate_features)\n",
    "result = ensemble_model(clf, features, labels, test_fea)\n",
    "print(result)\n",
    "\n",
    "\n",
    "a = pd.DataFrame(test1['sid'])\n",
    "a['label'] = result\n",
    "\n",
    "a['label'] = a['label'].apply(lambda x: 0 if x < 0.5 else 1)\n",
    "\n",
    "    \n",
    "import datetime\n",
    "timestr = datetime.datetime.now().strftime('%y-%m-%d %H %M %S')\n",
    "\n",
    "a.to_csv('result/v7' + 'max_depth=5subsample=0.72colsample_bytree=0.72reg_lambda = 2' + '.csv', index=False)"
   ]
  },
  {
   "cell_type": "code",
   "execution_count": 83,
   "metadata": {},
   "outputs": [
    {
     "name": "stderr",
     "output_type": "stream",
     "text": [
      "C:\\ProgramData\\Anaconda3\\lib\\site-packages\\xgboost\\sklearn.py:1224: UserWarning: The use of label encoder in XGBClassifier is deprecated and will be removed in a future release. To remove this warning, do the following: 1) Pass option use_label_encoder=False when constructing XGBClassifier object; and 2) Encode your labels (y) as integers starting with 0, i.e. 0, 1, 2, ..., [num_class - 1].\n",
      "  warnings.warn(label_encoder_deprecation_msg, UserWarning)\n"
     ]
    },
    {
     "name": "stdout",
     "output_type": "stream",
     "text": [
      "[00:25:28] WARNING: C:/Users/Administrator/workspace/xgboost-win64_release_1.5.1/src/learner.cc:576: \n",
      "Parameters: { \"min_child_samples\" } might not be used.\n",
      "\n",
      "  This could be a false alarm, with some parameters getting used by language bindings but\n",
      "  then being mistakenly passed down to XGBoost core, or some parameter actually being used\n",
      "  but getting flagged wrongly here. Please open an issue if you find any such cases.\n",
      "\n",
      "\n",
      "第1个子模型， acc0.88798\n"
     ]
    },
    {
     "name": "stderr",
     "output_type": "stream",
     "text": [
      "C:\\ProgramData\\Anaconda3\\lib\\site-packages\\xgboost\\sklearn.py:1224: UserWarning: The use of label encoder in XGBClassifier is deprecated and will be removed in a future release. To remove this warning, do the following: 1) Pass option use_label_encoder=False when constructing XGBClassifier object; and 2) Encode your labels (y) as integers starting with 0, i.e. 0, 1, 2, ..., [num_class - 1].\n",
      "  warnings.warn(label_encoder_deprecation_msg, UserWarning)\n"
     ]
    },
    {
     "name": "stdout",
     "output_type": "stream",
     "text": [
      "[00:25:52] WARNING: C:/Users/Administrator/workspace/xgboost-win64_release_1.5.1/src/learner.cc:576: \n",
      "Parameters: { \"min_child_samples\" } might not be used.\n",
      "\n",
      "  This could be a false alarm, with some parameters getting used by language bindings but\n",
      "  then being mistakenly passed down to XGBoost core, or some parameter actually being used\n",
      "  but getting flagged wrongly here. Please open an issue if you find any such cases.\n",
      "\n",
      "\n",
      "第2个子模型， acc0.88919\n"
     ]
    },
    {
     "name": "stderr",
     "output_type": "stream",
     "text": [
      "C:\\ProgramData\\Anaconda3\\lib\\site-packages\\xgboost\\sklearn.py:1224: UserWarning: The use of label encoder in XGBClassifier is deprecated and will be removed in a future release. To remove this warning, do the following: 1) Pass option use_label_encoder=False when constructing XGBClassifier object; and 2) Encode your labels (y) as integers starting with 0, i.e. 0, 1, 2, ..., [num_class - 1].\n",
      "  warnings.warn(label_encoder_deprecation_msg, UserWarning)\n"
     ]
    },
    {
     "name": "stdout",
     "output_type": "stream",
     "text": [
      "[00:26:12] WARNING: C:/Users/Administrator/workspace/xgboost-win64_release_1.5.1/src/learner.cc:576: \n",
      "Parameters: { \"min_child_samples\" } might not be used.\n",
      "\n",
      "  This could be a false alarm, with some parameters getting used by language bindings but\n",
      "  then being mistakenly passed down to XGBoost core, or some parameter actually being used\n",
      "  but getting flagged wrongly here. Please open an issue if you find any such cases.\n",
      "\n",
      "\n",
      "第3个子模型， acc0.88837\n"
     ]
    },
    {
     "name": "stderr",
     "output_type": "stream",
     "text": [
      "C:\\ProgramData\\Anaconda3\\lib\\site-packages\\xgboost\\sklearn.py:1224: UserWarning: The use of label encoder in XGBClassifier is deprecated and will be removed in a future release. To remove this warning, do the following: 1) Pass option use_label_encoder=False when constructing XGBClassifier object; and 2) Encode your labels (y) as integers starting with 0, i.e. 0, 1, 2, ..., [num_class - 1].\n",
      "  warnings.warn(label_encoder_deprecation_msg, UserWarning)\n"
     ]
    },
    {
     "name": "stdout",
     "output_type": "stream",
     "text": [
      "[00:26:32] WARNING: C:/Users/Administrator/workspace/xgboost-win64_release_1.5.1/src/learner.cc:576: \n",
      "Parameters: { \"min_child_samples\" } might not be used.\n",
      "\n",
      "  This could be a false alarm, with some parameters getting used by language bindings but\n",
      "  then being mistakenly passed down to XGBoost core, or some parameter actually being used\n",
      "  but getting flagged wrongly here. Please open an issue if you find any such cases.\n",
      "\n",
      "\n",
      "第4个子模型， acc0.88825\n"
     ]
    },
    {
     "name": "stderr",
     "output_type": "stream",
     "text": [
      "C:\\ProgramData\\Anaconda3\\lib\\site-packages\\xgboost\\sklearn.py:1224: UserWarning: The use of label encoder in XGBClassifier is deprecated and will be removed in a future release. To remove this warning, do the following: 1) Pass option use_label_encoder=False when constructing XGBClassifier object; and 2) Encode your labels (y) as integers starting with 0, i.e. 0, 1, 2, ..., [num_class - 1].\n",
      "  warnings.warn(label_encoder_deprecation_msg, UserWarning)\n"
     ]
    },
    {
     "name": "stdout",
     "output_type": "stream",
     "text": [
      "[00:26:52] WARNING: C:/Users/Administrator/workspace/xgboost-win64_release_1.5.1/src/learner.cc:576: \n",
      "Parameters: { \"min_child_samples\" } might not be used.\n",
      "\n",
      "  This could be a false alarm, with some parameters getting used by language bindings but\n",
      "  then being mistakenly passed down to XGBoost core, or some parameter actually being used\n",
      "  but getting flagged wrongly here. Please open an issue if you find any such cases.\n",
      "\n",
      "\n",
      "第5个子模型， acc0.88964\n",
      "0.888686\n",
      "[0.07341367 0.4156049  0.07484739 ... 0.9254135  0.96811694 0.966746  ]\n"
     ]
    }
   ],
   "source": [
    "import time\n",
    "# v7 xgboost\n",
    "# v8 使用 catboost\n",
    "# v9 nn 归一化\n",
    "\n",
    "import xgboost as xgb\n",
    "\n",
    "#88.1993\n",
    "\n",
    "max_depth = 4\n",
    "n_estimators = 5000\n",
    "subsample=0.72\n",
    "colsample_bytree=0.72\n",
    "reg_lambda = 1.2\n",
    "\n",
    "clf = xgb.XGBClassifier(\n",
    "    max_depth = max_depth,\n",
    "    learning_rate = 0.05,\n",
    "    n_estimators = n_estimators,\n",
    "    objective = 'binary:logistic',\n",
    "    tree_method = 'gpu_hist',\n",
    "    subsample=subsample,\n",
    "    colsample_bytree=colsample_bytree,\n",
    "    min_child_samples = 3,\n",
    "    eval_metric='auc',\n",
    "    reg_lambda = reg_lambda\n",
    ")\n",
    "# clf.fit(features, labels, categorical_feature = cate_features)\n",
    "result = ensemble_model(clf, features, labels, test_fea)\n",
    "print(result)\n",
    "\n",
    "\n",
    "a = pd.DataFrame(test1['sid'])\n",
    "a['label'] = result\n",
    "\n",
    "a['label'] = a['label'].apply(lambda x: 0 if x < 0.5 else 1)\n",
    "\n",
    "    \n",
    "import datetime\n",
    "timestr = datetime.datetime.now().strftime('%y-%m-%d %H %M %S')\n",
    "\n",
    "a.to_csv('result/v7' + 'max_depth=4subsample=0.72colsample_bytree=0.72reg_lambda = 1.2' + '.csv', index=False)"
   ]
  },
  {
   "cell_type": "code",
   "execution_count": null,
   "metadata": {},
   "outputs": [],
   "source": [
    "import time\n",
    "# v7 xgboost\n",
    "# v8 使用 catboost\n",
    "# v9 nn 归一化\n",
    "\n",
    "import xgboost as xgb\n",
    "\n",
    "\n",
    "max_depth = 4\n",
    "n_estimators = 5000\n",
    "subsample=0.72\n",
    "colsample_bytree=0.72\n",
    "reg_lambda = 5\n",
    "\n",
    "clf = xgb.XGBClassifier(\n",
    "    max_depth = max_depth,\n",
    "    learning_rate = 0.05,\n",
    "    n_estimators = n_estimators,\n",
    "    objective = 'binary:logistic',\n",
    "    tree_method = 'gpu_hist',\n",
    "    subsample=subsample,\n",
    "    colsample_bytree=colsample_bytree,\n",
    "    min_child_samples = 3,\n",
    "    eval_metric='auc',\n",
    "    reg_lambda = reg_lambda\n",
    ")\n",
    "# clf.fit(features, labels, categorical_feature = cate_features)\n",
    "result = ensemble_model(clf, features, labels, test_fea)\n",
    "print(result)\n",
    "\n",
    "\n",
    "a = pd.DataFrame(test1['sid'])\n",
    "a['label'] = result\n",
    "\n",
    "a['label'] = a['label'].apply(lambda x: 0 if x < 0.5 else 1)\n",
    "\n",
    "    \n",
    "import datetime\n",
    "timestr = datetime.datetime.now().strftime('%y-%m-%d %H %M %S')\n",
    "\n",
    "a.to_csv('result/v7' + 'max_depth=4subsample=0.72colsample_bytree=0.72reg_lambda = 5' + '.csv', index=False)"
   ]
  }
 ],
 "metadata": {
  "celltoolbar": "Raw Cell Format",
  "kernelspec": {
   "display_name": "Python 3 (ipykernel)",
   "language": "python",
   "name": "python3"
  },
  "language_info": {
   "codemirror_mode": {
    "name": "ipython",
    "version": 3
   },
   "file_extension": ".py",
   "mimetype": "text/x-python",
   "name": "python",
   "nbconvert_exporter": "python",
   "pygments_lexer": "ipython3",
   "version": "3.9.7"
  }
 },
 "nbformat": 4,
 "nbformat_minor": 4
}
