{
 "cells": [
  {
   "cell_type": "code",
   "execution_count": 1,
   "metadata": {},
   "outputs": [
    {
     "data": {
      "text/plain": [
       "False"
      ]
     },
     "execution_count": 1,
     "metadata": {},
     "output_type": "execute_result"
    }
   ],
   "source": [
    "## 第5版 找到关键特征\n",
    "# 5 fold\n",
    "#  score =  88.1107\n",
    "\n",
    "import pandas as pd\n",
    "import numpy as np\n",
    "\n",
    "train = pd.read_csv('./datasets/train.csv')\n",
    "test1 = pd.read_csv('./datasets/test1.csv')\n",
    "\n",
    "pd.set_option('display.max_rows', 100)\n",
    "'a' in ['b']"
   ]
  },
  {
   "cell_type": "code",
   "execution_count": 2,
   "metadata": {},
   "outputs": [],
   "source": [
    "features = train.drop(['Unnamed: 0', 'label'], axis=1)\n",
    "test1 = test1.drop(['Unnamed: 0'], axis=1)\n",
    "labels = train['label']\n",
    "\n",
    "if 'os' in features.columns:\n",
    "    features, test1 = features.drop(['os'], axis=1), test1.drop(['os'], axis=1)\n",
    "if 'sid' in features.columns:\n",
    "    features = features.drop(['sid'], axis=1)"
   ]
  },
  {
   "cell_type": "code",
   "execution_count": null,
   "metadata": {},
   "outputs": [],
   "source": []
  },
  {
   "cell_type": "code",
   "execution_count": 3,
   "metadata": {},
   "outputs": [],
   "source": [
    "from utils.process_osv import  process_osv\n",
    "from utils.process_lan import  process_lan\n",
    "from utils.process_android_id import  process_android_id\n",
    "from utils.add_key_features import  add_key_features"
   ]
  },
  {
   "cell_type": "code",
   "execution_count": 4,
   "metadata": {},
   "outputs": [
    {
     "name": "stdout",
     "output_type": "stream",
     "text": [
      "len(list) Int64Index([0, 1190, 6964], dtype='int64')\n"
     ]
    }
   ],
   "source": [
    "features, test1 = process_osv(features, test1)\n",
    "features, test1 = process_lan(features, test1)\n",
    "features, test1 = process_android_id(features, test1)\n",
    "\n",
    "selected_cols = ['apptype', 'carrier', 'dev_height', 'dev_ppi',\n",
    "       'dev_width', 'media_id', 'package', 'version', 'fea_hash',\n",
    "       'location', 'fea1_hash', 'cus_type']\n",
    "\n",
    "features, test1 = add_key_features(train, features, test1, selected_cols)"
   ]
  },
  {
   "cell_type": "code",
   "execution_count": 5,
   "metadata": {},
   "outputs": [
    {
     "data": {
      "text/plain": [
       "zh-CN          244474\n",
       "nan            183280\n",
       "zh              30574\n",
       "cn              20685\n",
       "zh_CN           11602\n",
       "Zh-CN            8122\n",
       "zh-cn             642\n",
       "ZH                185\n",
       "CN                168\n",
       "tw                119\n",
       "en                 89\n",
       "0                  34\n",
       "zh_CN_#Hans        26\n",
       "Name: lan, dtype: int64"
      ]
     },
     "execution_count": 5,
     "metadata": {},
     "output_type": "execute_result"
    }
   ],
   "source": [
    "features['lan'].value_counts()"
   ]
  },
  {
   "cell_type": "code",
   "execution_count": 6,
   "metadata": {},
   "outputs": [],
   "source": [
    "# 类别特征\n",
    "cate_features = ['lan', 'apptype', 'carrier', 'ntt', 'version', 'location', 'cus_type']"
   ]
  },
  {
   "cell_type": "code",
   "execution_count": 7,
   "metadata": {},
   "outputs": [
    {
     "data": {
      "text/plain": [
       "16    317520\n",
       "13    238827\n",
       "15     39668\n",
       "5      26821\n",
       "21     14993\n",
       "4      10552\n",
       "20       807\n",
       "3        245\n",
       "1        214\n",
       "14       147\n",
       "6        115\n",
       "22        37\n",
       "0         20\n",
       "11        11\n",
       "19         7\n",
       "17         3\n",
       "8          3\n",
       "2          2\n",
       "9          2\n",
       "10         2\n",
       "7          2\n",
       "18         1\n",
       "12         1\n",
       "Name: lan, dtype: int64"
      ]
     },
     "execution_count": 7,
     "metadata": {},
     "output_type": "execute_result"
    }
   ],
   "source": [
    "from sklearn.preprocessing import LabelEncoder\n",
    "le = LabelEncoder()\n",
    "\n",
    "\n",
    "all_df = pd.concat([train, test1])\n",
    "all_df['lan'] = all_df['lan'].astype('str')\n",
    "all_df['lan'] = le.fit_transform(all_df['lan'])\n",
    "\n",
    "all_df['lan'].value_counts()"
   ]
  },
  {
   "cell_type": "code",
   "execution_count": 8,
   "metadata": {},
   "outputs": [
    {
     "data": {
      "text/plain": [
       "Index(['Unnamed: 0', 'android_id', 'apptype', 'carrier', 'dev_height',\n",
       "       'dev_ppi', 'dev_width', 'label', 'lan', 'media_id', 'ntt', 'os', 'osv',\n",
       "       'package', 'sid', 'timestamp', 'version', 'fea_hash', 'location',\n",
       "       'fea1_hash', 'cus_type', 'apptype1', 'dev_height1', 'dev_ppi1',\n",
       "       'dev_width1', 'media_id1', 'package1', 'version1', 'fea_hash1',\n",
       "       'fea1_hash1'],\n",
       "      dtype='object')"
      ]
     },
     "execution_count": 8,
     "metadata": {},
     "output_type": "execute_result"
    }
   ],
   "source": [
    "all_df.columns"
   ]
  },
  {
   "cell_type": "code",
   "execution_count": 9,
   "metadata": {},
   "outputs": [],
   "source": [
    "import time\n",
    "from datetime import datetime\n",
    "\n",
    "def get_date(features):\n",
    "    \n",
    "    features2 = features.copy()\n",
    "    # 除以1000 转化为日期格式\n",
    "    features2['timestamp'] = features2['timestamp'].apply(lambda x: datetime.fromtimestamp(x/1000))\n",
    "    \n",
    "    # 创建时间索引\n",
    "    temp = pd.DatetimeIndex(features2['timestamp'])\n",
    "    features2['year'] = temp.year\n",
    "    features2['month'] = temp.month\n",
    "    features2['day'] = temp.day\n",
    "    features2['week_day'] = temp.weekday\n",
    "    features2['hour'] = temp.hour\n",
    "    features2['minute'] = temp.minute\n",
    "    \n",
    "    \n",
    "    start_time = features2['timestamp'].min()\n",
    "    features2['time_diff'] = features2['timestamp'] - start_time\n",
    "    \n",
    "    features2['time_diff'] = features2['time_diff'].dt.days * 24 + features2['time_diff'].dt.seconds / 3600\n",
    "    \n",
    "    features2.drop(['timestamp', 'year', 'month', 'week_day', 'minute'], axis = 1, inplace=True)\n",
    "    return features2\n",
    "\n",
    "\n",
    "features = get_date(features)\n",
    "features[['day', 'hour', 'time_diff']]\n",
    "\n",
    "test1 = get_date(test1)"
   ]
  },
  {
   "cell_type": "code",
   "execution_count": 10,
   "metadata": {},
   "outputs": [],
   "source": [
    "from sklearn.model_selection import KFold, StratifiedKFold\n",
    "from sklearn.metrics import accuracy_score\n",
    "\n",
    "def ensemble_model(clf, train_x, train_y, test, cate_features):\n",
    "    sk = StratifiedKFold(n_splits=5, shuffle=True, random_state=2021)\n",
    "    prob = []\n",
    "    mean_acc = 0\n",
    "    for k, (train_index, val_index) in enumerate(sk.split(train_x, train_y)):\n",
    "        train_x_real = train_x.iloc[train_index]\n",
    "        train_y_real = train_y.iloc[train_index]\n",
    "        val_x = train_x.iloc[val_index]\n",
    "        val_y = train_y.iloc[val_index]\n",
    "        \n",
    "        clf = clf.fit(train_x_real, train_y_real, categorical_feature=cate_features)\n",
    "        val_y_pred = clf.predict(val_x)\n",
    "        \n",
    "        acc_val = accuracy_score(val_y, val_y_pred)\n",
    "        print('第{}个子模型， acc{}'.format(k+1, acc_val))\n",
    "        mean_acc += acc_val / 5\n",
    "        \n",
    "        test_y_pred = clf.predict_proba(test)[:, -1]\n",
    "        prob.append(test_y_pred)\n",
    "    print(mean_acc)\n",
    "    mean_prob = sum(prob) / 5\n",
    "    return mean_prob"
   ]
  },
  {
   "cell_type": "code",
   "execution_count": 11,
   "metadata": {},
   "outputs": [
    {
     "data": {
      "text/plain": [
       "Index(['android_id', 'apptype', 'carrier', 'dev_height', 'dev_ppi',\n",
       "       'dev_width', 'lan', 'media_id', 'ntt', 'osv', 'package', 'version',\n",
       "       'fea_hash', 'location', 'fea1_hash', 'cus_type', 'apptype1',\n",
       "       'dev_height1', 'dev_ppi1', 'dev_width1', 'media_id1', 'package1',\n",
       "       'version1', 'fea_hash1', 'fea1_hash1', 'day', 'hour', 'time_diff'],\n",
       "      dtype='object')"
      ]
     },
     "execution_count": 11,
     "metadata": {},
     "output_type": "execute_result"
    }
   ],
   "source": [
    "features.columns"
   ]
  },
  {
   "cell_type": "code",
   "execution_count": 12,
   "metadata": {
    "scrolled": true
   },
   "outputs": [
    {
     "name": "stderr",
     "output_type": "stream",
     "text": [
      "C:\\Users\\ADMINI~1\\AppData\\Local\\Temp/ipykernel_8836/1788524035.py:13: SettingWithCopyWarning: \n",
      "A value is trying to be set on a copy of a slice from a DataFrame.\n",
      "Try using .loc[row_indexer,col_indexer] = value instead\n",
      "\n",
      "See the caveats in the documentation: https://pandas.pydata.org/pandas-docs/stable/user_guide/indexing.html#returning-a-view-versus-a-copy\n",
      "  test_fea['fea_hash'] = features['fea_hash'].map(lambda x: 0 if len(str(x)) > 16 else int(x))\n",
      "C:\\Users\\ADMINI~1\\AppData\\Local\\Temp/ipykernel_8836/1788524035.py:14: SettingWithCopyWarning: \n",
      "A value is trying to be set on a copy of a slice from a DataFrame.\n",
      "Try using .loc[row_indexer,col_indexer] = value instead\n",
      "\n",
      "See the caveats in the documentation: https://pandas.pydata.org/pandas-docs/stable/user_guide/indexing.html#returning-a-view-versus-a-copy\n",
      "  test_fea['fea1_hash'] = features['fea1_hash'].map(lambda x: 0 if len(str(x)) > 16 else int(x))\n",
      "C:\\Users\\ADMINI~1\\AppData\\Local\\Temp/ipykernel_8836/1788524035.py:15: SettingWithCopyWarning: \n",
      "A value is trying to be set on a copy of a slice from a DataFrame.\n",
      "Try using .loc[row_indexer,col_indexer] = value instead\n",
      "\n",
      "See the caveats in the documentation: https://pandas.pydata.org/pandas-docs/stable/user_guide/indexing.html#returning-a-view-versus-a-copy\n",
      "  test_fea['version'] = features['version'].map(lambda x: int(x) if str(x).isdigit() else 0)\n",
      "C:\\Users\\ADMINI~1\\AppData\\Local\\Temp/ipykernel_8836/1788524035.py:16: SettingWithCopyWarning: \n",
      "A value is trying to be set on a copy of a slice from a DataFrame.\n",
      "Try using .loc[row_indexer,col_indexer] = value instead\n",
      "\n",
      "See the caveats in the documentation: https://pandas.pydata.org/pandas-docs/stable/user_guide/indexing.html#returning-a-view-versus-a-copy\n",
      "  test_fea['lan'] = all_df[all_df['label'].isnull()]['lan']\n"
     ]
    }
   ],
   "source": [
    "\n",
    "\n",
    "# 特征变换，对于数值过大的异常值，设定为0\n",
    "features['fea_hash'] = features['fea_hash'].map(lambda x: 0 if len(str(x)) > 16 else int(x))\n",
    "features['fea1_hash'] = features['fea1_hash'].map(lambda x: 0 if len(str(x)) > 16 else int(x))\n",
    "\n",
    "features['version'] = features['version'].map(lambda x: int(x) if str(x).isdigit() else 0)\n",
    "# 特征变换，对于数值过大的异常值，设定为0\n",
    "features['lan'] = all_df[all_df['label'].notnull()]['lan']\n",
    "\n",
    "\n",
    "# test data \n",
    "test_fea = test1[features.columns]\n",
    "\n",
    "test_fea['fea_hash'] = features['fea_hash'].map(lambda x: 0 if len(str(x)) > 16 else int(x))\n",
    "test_fea['fea1_hash'] = features['fea1_hash'].map(lambda x: 0 if len(str(x)) > 16 else int(x))\n",
    "test_fea['version'] = features['version'].map(lambda x: int(x) if str(x).isdigit() else 0)\n",
    "test_fea['lan'] = all_df[all_df['label'].isnull()]['lan']\n"
   ]
  },
  {
   "cell_type": "code",
   "execution_count": 13,
   "metadata": {},
   "outputs": [
    {
     "name": "stderr",
     "output_type": "stream",
     "text": [
      "C:\\ProgramData\\Anaconda3\\lib\\site-packages\\lightgbm\\basic.py:2065: UserWarning: Using categorical_feature in Dataset.\n",
      "  _log_warning('Using categorical_feature in Dataset.')\n"
     ]
    },
    {
     "name": "stdout",
     "output_type": "stream",
     "text": [
      "第1个子模型， acc0.88616\n"
     ]
    },
    {
     "name": "stderr",
     "output_type": "stream",
     "text": [
      "C:\\ProgramData\\Anaconda3\\lib\\site-packages\\lightgbm\\basic.py:2065: UserWarning: Using categorical_feature in Dataset.\n",
      "  _log_warning('Using categorical_feature in Dataset.')\n"
     ]
    },
    {
     "name": "stdout",
     "output_type": "stream",
     "text": [
      "第2个子模型， acc0.88619\n"
     ]
    },
    {
     "name": "stderr",
     "output_type": "stream",
     "text": [
      "C:\\ProgramData\\Anaconda3\\lib\\site-packages\\lightgbm\\basic.py:2065: UserWarning: Using categorical_feature in Dataset.\n",
      "  _log_warning('Using categorical_feature in Dataset.')\n"
     ]
    },
    {
     "name": "stdout",
     "output_type": "stream",
     "text": [
      "第3个子模型， acc0.88546\n"
     ]
    },
    {
     "name": "stderr",
     "output_type": "stream",
     "text": [
      "C:\\ProgramData\\Anaconda3\\lib\\site-packages\\lightgbm\\basic.py:2065: UserWarning: Using categorical_feature in Dataset.\n",
      "  _log_warning('Using categorical_feature in Dataset.')\n"
     ]
    },
    {
     "name": "stdout",
     "output_type": "stream",
     "text": [
      "第4个子模型， acc0.88637\n"
     ]
    },
    {
     "name": "stderr",
     "output_type": "stream",
     "text": [
      "C:\\ProgramData\\Anaconda3\\lib\\site-packages\\lightgbm\\basic.py:2065: UserWarning: Using categorical_feature in Dataset.\n",
      "  _log_warning('Using categorical_feature in Dataset.')\n"
     ]
    },
    {
     "name": "stdout",
     "output_type": "stream",
     "text": [
      "第5个子模型， acc0.88601\n",
      "0.886038\n",
      "[0.10158821 0.51991292 0.03802868 ... 0.96561114 0.96837394 0.98697074]\n"
     ]
    }
   ],
   "source": [
    "# v7 xgboost\n",
    "# v8 使用 catboost\n",
    "# v9 nn 归一化\n",
    "\n",
    "import lightgbm as lgb\n",
    "\n",
    "clf = lgb.LGBMClassifier(\n",
    "    num_leaves=2**5 - 1, reg_alpha=0.25, reg_lambda= 0.3, objective='binary', max_depth=-1, learning_rate=0.005, min_child_samples=3,\n",
    "    random_state=2021, n_estimators=10000, subsample=1, colsample_bytree=1\n",
    ")\n",
    "# clf.fit(features, labels, categorical_feature = cate_features)\n",
    "result = ensemble_model(clf, features, labels, test_fea, cate_features)\n",
    "print(result)\n",
    "\n"
   ]
  },
  {
   "cell_type": "code",
   "execution_count": 16,
   "metadata": {},
   "outputs": [],
   "source": [
    "a = pd.DataFrame(test1['sid'])\n",
    "a['label'] = result\n",
    "\n",
    "a['label'] = a['label'].apply(lambda x: 0 if x < 0.5 else 1)\n",
    "\n",
    "import datetime\n",
    "timestr = datetime.datetime.now().strftime('%y-%m-%d %H %M %S')\n",
    "\n",
    "a.to_csv('result/merge' + timestr + '.csv', index=False)"
   ]
  },
  {
   "cell_type": "code",
   "execution_count": null,
   "metadata": {},
   "outputs": [],
   "source": []
  }
 ],
 "metadata": {
  "celltoolbar": "Raw Cell Format",
  "kernelspec": {
   "display_name": "Python 3 (ipykernel)",
   "language": "python",
   "name": "python3"
  },
  "language_info": {
   "codemirror_mode": {
    "name": "ipython",
    "version": 3
   },
   "file_extension": ".py",
   "mimetype": "text/x-python",
   "name": "python",
   "nbconvert_exporter": "python",
   "pygments_lexer": "ipython3",
   "version": "3.9.7"
  }
 },
 "nbformat": 4,
 "nbformat_minor": 4
}
