{
 "cells": [
  {
   "cell_type": "code",
   "execution_count": 1,
   "metadata": {},
   "outputs": [],
   "source": [
    "# 使用五折交叉验证\n",
    "\n",
    "# score = 87.1913\n",
    "\n",
    "import pandas as pd\n",
    "import numpy as np\n",
    "\n",
    "train = pd.read_csv('./datasets/train.csv')\n",
    "test1 = pd.read_csv('./datasets/test1.csv')"
   ]
  },
  {
   "cell_type": "code",
   "execution_count": 2,
   "metadata": {},
   "outputs": [
    {
     "data": {
      "text/plain": [
       "Index(['android_id', 'apptype', 'carrier', 'dev_height', 'dev_ppi',\n",
       "       'dev_width', 'lan', 'media_id', 'ntt', 'os', 'osv', 'package', 'sid',\n",
       "       'timestamp', 'version', 'fea_hash', 'location', 'fea1_hash',\n",
       "       'cus_type'],\n",
       "      dtype='object')"
      ]
     },
     "execution_count": 2,
     "metadata": {},
     "output_type": "execute_result"
    }
   ],
   "source": [
    "features = train.drop(['Unnamed: 0', 'label'], axis=1)\n",
    "labels = train['label']\n",
    "features.columns"
   ]
  },
  {
   "cell_type": "code",
   "execution_count": 3,
   "metadata": {
    "scrolled": true
   },
   "outputs": [
    {
     "data": {
      "text/plain": [
       "8.1.0            151419\n",
       "9                 71332\n",
       "6.0.1             31714\n",
       "7.1.1             26503\n",
       "9.0.0             24385\n",
       "                  ...  \n",
       "Android 5.12          1\n",
       "4.2.3.2               1\n",
       "6.0 十核2.0G_HD         1\n",
       "9.1                   1\n",
       "2.2.2                 1\n",
       "Name: osv, Length: 154, dtype: int64"
      ]
     },
     "execution_count": 3,
     "metadata": {},
     "output_type": "execute_result"
    }
   ],
   "source": [
    "from sklearn.preprocessing import LabelEncoder\n",
    "le = LabelEncoder()\n",
    "\n",
    "# 训练集和测试机合并，统一LabelEncoder\n",
    "\n",
    "all_df = pd.concat([train, test1])\n",
    "all_df['osv'] = all_df['osv'].astype('str')\n",
    "all_df['osv'] = le.fit_transform(all_df['osv'])\n",
    "\n",
    "features['osv'].value_counts()"
   ]
  },
  {
   "cell_type": "code",
   "execution_count": 4,
   "metadata": {},
   "outputs": [
    {
     "name": "stdout",
     "output_type": "stream",
     "text": [
      "android_id 362258\n",
      "apptype 89\n",
      "carrier 5\n",
      "dev_height 798\n",
      "dev_ppi 92\n",
      "dev_width 346\n",
      "lan 21\n",
      "media_id 284\n",
      "ntt 8\n",
      "os 2\n",
      "osv 154\n",
      "package 1950\n",
      "sid 500000\n",
      "timestamp 500000\n",
      "version 22\n",
      "fea_hash 402980\n",
      "location 332\n",
      "fea1_hash 4959\n",
      "cus_type 58\n"
     ]
    }
   ],
   "source": [
    "for feature in features.columns:\n",
    "    print(feature, train[feature].nunique())\n",
    "\n",
    "# 类别特征\n",
    "cate_features = ['apptype', 'carrier', 'ntt', 'version', 'location', 'cus_type']"
   ]
  },
  {
   "cell_type": "code",
   "execution_count": 5,
   "metadata": {},
   "outputs": [],
   "source": [
    "# 不参与建模的特征 ['os', 'osv', 'lan', 'sid']\n",
    "remove_list = ['os', 'lan', 'sid']\n",
    "col = features.columns.tolist()\n",
    "for i in remove_list:\n",
    "    col.remove(i)\n",
    "features = features[col]"
   ]
  },
  {
   "cell_type": "code",
   "execution_count": 6,
   "metadata": {},
   "outputs": [],
   "source": [
    "import time\n",
    "from datetime import datetime\n",
    "\n",
    "def get_date(features):\n",
    "    \n",
    "    features2 = features.copy()\n",
    "    # 除以1000 转化为日期格式\n",
    "    features2['timestamp'] = features2['timestamp'].apply(lambda x: datetime.fromtimestamp(x/1000))\n",
    "    \n",
    "    # 创建时间索引\n",
    "    temp = pd.DatetimeIndex(features2['timestamp'])\n",
    "    features2['year'] = temp.year\n",
    "    features2['month'] = temp.month\n",
    "    features2['day'] = temp.day\n",
    "    features2['week_day'] = temp.weekday\n",
    "    features2['hour'] = temp.hour\n",
    "    features2['minute'] = temp.minute\n",
    "    \n",
    "    \n",
    "    start_time = features2['timestamp'].min()\n",
    "    features2['time_diff'] = features2['timestamp'] - start_time\n",
    "    \n",
    "    features2['time_diff'] = features2['time_diff'].dt.days * 24 + features2['time_diff'].dt.seconds / 3600\n",
    "    \n",
    "    features2.drop(['timestamp', 'year', 'month', 'week_day', 'minute'], axis = 1, inplace=True)\n",
    "    return features2\n",
    "\n",
    "\n",
    "features = get_date(features)\n",
    "features[['day', 'hour', 'time_diff']]\n",
    "\n",
    "test1 = get_date(test1)"
   ]
  },
  {
   "cell_type": "code",
   "execution_count": 7,
   "metadata": {},
   "outputs": [],
   "source": [
    "from sklearn.model_selection import KFold, StratifiedKFold\n",
    "from sklearn.metrics import accuracy_score\n",
    "\n",
    "def ensemble_model(clf, train_x, train_y, test, cate_features):\n",
    "    sk = StratifiedKFold(n_splits=5, shuffle=True, random_state=2021)\n",
    "    prob = []\n",
    "    mean_acc = 0\n",
    "    for k, (train_index, val_index) in enumerate(sk.split(train_x, train_y)):\n",
    "        train_x_real = train_x.iloc[train_index]\n",
    "        train_y_real = train_y.iloc[train_index]\n",
    "        val_x = train_x.iloc[val_index]\n",
    "        val_y = train_y.iloc[val_index]\n",
    "        \n",
    "        clf = clf.fit(train_x_real, train_y_real, categorical_feature=cate_features)\n",
    "        val_y_pred = clf.predict(val_x)\n",
    "        \n",
    "        acc_val = accuracy_score(val_y, val_y_pred)\n",
    "        print('第{}个子模型， acc{}'.format(k+1, acc_val))\n",
    "        mean_acc += acc_val / 5\n",
    "        \n",
    "        test_y_pred = clf.predict_proba(test)[:, -1]\n",
    "        prob.append(test_y_pred)\n",
    "    print(mean_acc)\n",
    "    mean_prob = sum(prob) / 5\n",
    "    return mean_prob"
   ]
  },
  {
   "cell_type": "code",
   "execution_count": 8,
   "metadata": {
    "scrolled": true
   },
   "outputs": [
    {
     "name": "stderr",
     "output_type": "stream",
     "text": [
      "C:\\Users\\ADMINI~1\\AppData\\Local\\Temp/ipykernel_10584/2730820147.py:13: SettingWithCopyWarning: \n",
      "A value is trying to be set on a copy of a slice from a DataFrame.\n",
      "Try using .loc[row_indexer,col_indexer] = value instead\n",
      "\n",
      "See the caveats in the documentation: https://pandas.pydata.org/pandas-docs/stable/user_guide/indexing.html#returning-a-view-versus-a-copy\n",
      "  test_fea['fea_hash'] = features['fea_hash'].map(lambda x: 0 if len(str(x)) > 16 else int(x))\n",
      "C:\\Users\\ADMINI~1\\AppData\\Local\\Temp/ipykernel_10584/2730820147.py:14: SettingWithCopyWarning: \n",
      "A value is trying to be set on a copy of a slice from a DataFrame.\n",
      "Try using .loc[row_indexer,col_indexer] = value instead\n",
      "\n",
      "See the caveats in the documentation: https://pandas.pydata.org/pandas-docs/stable/user_guide/indexing.html#returning-a-view-versus-a-copy\n",
      "  test_fea['fea1_hash'] = features['fea1_hash'].map(lambda x: 0 if len(str(x)) > 16 else int(x))\n",
      "C:\\Users\\ADMINI~1\\AppData\\Local\\Temp/ipykernel_10584/2730820147.py:15: SettingWithCopyWarning: \n",
      "A value is trying to be set on a copy of a slice from a DataFrame.\n",
      "Try using .loc[row_indexer,col_indexer] = value instead\n",
      "\n",
      "See the caveats in the documentation: https://pandas.pydata.org/pandas-docs/stable/user_guide/indexing.html#returning-a-view-versus-a-copy\n",
      "  test_fea['version'] = features['version'].map(lambda x: int(x) if str(x).isdigit() else 0)\n",
      "C:\\Users\\ADMINI~1\\AppData\\Local\\Temp/ipykernel_10584/2730820147.py:16: SettingWithCopyWarning: \n",
      "A value is trying to be set on a copy of a slice from a DataFrame.\n",
      "Try using .loc[row_indexer,col_indexer] = value instead\n",
      "\n",
      "See the caveats in the documentation: https://pandas.pydata.org/pandas-docs/stable/user_guide/indexing.html#returning-a-view-versus-a-copy\n",
      "  test_fea['osv'] = all_df[all_df['label'].isnull()]['osv']\n"
     ]
    }
   ],
   "source": [
    "\n",
    "# 特征变换，对于数值过大的异常值，设定为0\n",
    "features['fea_hash'] = features['fea_hash'].map(lambda x: 0 if len(str(x)) > 16 else int(x))\n",
    "features['fea1_hash'] = features['fea1_hash'].map(lambda x: 0 if len(str(x)) > 16 else int(x))\n",
    "\n",
    "features['version'] = features['version'].map(lambda x: int(x) if str(x).isdigit() else 0)\n",
    "# 特征变换，对于数值过大的异常值，设定为0\n",
    "features['osv'] = all_df[all_df['label'].notnull()]['osv']\n",
    "\n",
    "\n",
    "# test data \n",
    "test_fea = test1[features.columns]\n",
    "\n",
    "test_fea['fea_hash'] = features['fea_hash'].map(lambda x: 0 if len(str(x)) > 16 else int(x))\n",
    "test_fea['fea1_hash'] = features['fea1_hash'].map(lambda x: 0 if len(str(x)) > 16 else int(x))\n",
    "test_fea['version'] = features['version'].map(lambda x: int(x) if str(x).isdigit() else 0)\n",
    "test_fea['osv'] = all_df[all_df['label'].isnull()]['osv']\n"
   ]
  },
  {
   "cell_type": "code",
   "execution_count": 9,
   "metadata": {},
   "outputs": [
    {
     "name": "stderr",
     "output_type": "stream",
     "text": [
      "C:\\ProgramData\\Anaconda3\\lib\\site-packages\\lightgbm\\basic.py:2065: UserWarning: Using categorical_feature in Dataset.\n",
      "  _log_warning('Using categorical_feature in Dataset.')\n"
     ]
    },
    {
     "name": "stdout",
     "output_type": "stream",
     "text": [
      "第1个子模型， acc0.88158\n"
     ]
    },
    {
     "name": "stderr",
     "output_type": "stream",
     "text": [
      "C:\\ProgramData\\Anaconda3\\lib\\site-packages\\lightgbm\\basic.py:2065: UserWarning: Using categorical_feature in Dataset.\n",
      "  _log_warning('Using categorical_feature in Dataset.')\n"
     ]
    },
    {
     "name": "stdout",
     "output_type": "stream",
     "text": [
      "第2个子模型， acc0.88122\n"
     ]
    },
    {
     "name": "stderr",
     "output_type": "stream",
     "text": [
      "C:\\ProgramData\\Anaconda3\\lib\\site-packages\\lightgbm\\basic.py:2065: UserWarning: Using categorical_feature in Dataset.\n",
      "  _log_warning('Using categorical_feature in Dataset.')\n"
     ]
    },
    {
     "name": "stdout",
     "output_type": "stream",
     "text": [
      "第3个子模型， acc0.88185\n"
     ]
    },
    {
     "name": "stderr",
     "output_type": "stream",
     "text": [
      "C:\\ProgramData\\Anaconda3\\lib\\site-packages\\lightgbm\\basic.py:2065: UserWarning: Using categorical_feature in Dataset.\n",
      "  _log_warning('Using categorical_feature in Dataset.')\n"
     ]
    },
    {
     "name": "stdout",
     "output_type": "stream",
     "text": [
      "第4个子模型， acc0.88211\n"
     ]
    },
    {
     "name": "stderr",
     "output_type": "stream",
     "text": [
      "C:\\ProgramData\\Anaconda3\\lib\\site-packages\\lightgbm\\basic.py:2065: UserWarning: Using categorical_feature in Dataset.\n",
      "  _log_warning('Using categorical_feature in Dataset.')\n"
     ]
    },
    {
     "name": "stdout",
     "output_type": "stream",
     "text": [
      "第5个子模型， acc0.88169\n",
      "0.88169\n",
      "[0.06830039 0.42071703 0.03394626 ... 0.93690519 0.56215164 0.96564357]\n"
     ]
    }
   ],
   "source": [
    "import lightgbm as lgb\n",
    "\n",
    "clf = lgb.LGBMClassifier()\n",
    "# clf.fit(features, labels, categorical_feature = cate_features)\n",
    "result = ensemble_model(clf, features, labels, test_fea, cate_features)\n",
    "print(result)\n"
   ]
  },
  {
   "cell_type": "code",
   "execution_count": 10,
   "metadata": {},
   "outputs": [],
   "source": [
    "\n",
    "a = pd.DataFrame(test1['sid'])\n",
    "a['label'] = result\n",
    "\n",
    "\n",
    "a['label'] = a['label'].apply(lambda x: 0 if x < 0.5 else 1)\n",
    "\n",
    "\n",
    "import datetime\n",
    "timestr = datetime.datetime.now().strftime('%y-%m-%d %H %M %S')\n",
    "\n",
    "a.to_csv('result/v4 ' + timestr + '.csv', index=False)\n",
    "\n"
   ]
  }
 ],
 "metadata": {
  "celltoolbar": "Raw Cell Format",
  "kernelspec": {
   "display_name": "Python 3 (ipykernel)",
   "language": "python",
   "name": "python3"
  },
  "language_info": {
   "codemirror_mode": {
    "name": "ipython",
    "version": 3
   },
   "file_extension": ".py",
   "mimetype": "text/x-python",
   "name": "python",
   "nbconvert_exporter": "python",
   "pygments_lexer": "ipython3",
   "version": "3.9.7"
  }
 },
 "nbformat": 4,
 "nbformat_minor": 4
}
