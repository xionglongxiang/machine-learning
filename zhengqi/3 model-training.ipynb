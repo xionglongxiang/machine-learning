{
 "cells": [
  {
   "cell_type": "markdown",
   "metadata": {},
   "source": [
    "## 2.2.1 导入工具包"
   ]
  },
  {
   "cell_type": "code",
   "execution_count": 1,
   "metadata": {},
   "outputs": [],
   "source": [
    "import numpy as np\n",
    "import pandas as pd\n",
    "import matplotlib.pyplot as plt\n",
    "import seaborn as sns\n",
    "from scipy import stats\n",
    "\n",
    "import warnings\n",
    "\n",
    "warnings.filterwarnings(\"ignore\")\n",
    "%matplotlib inline"
   ]
  },
  {
   "cell_type": "markdown",
   "metadata": {},
   "source": [
    "## 2.2.2 导入数据集"
   ]
  },
  {
   "cell_type": "code",
   "execution_count": 2,
   "metadata": {},
   "outputs": [],
   "source": [
    "train_data_file = \"./zhengqi_train.txt\"\n",
    "test_data_file = \"./zhengqi_test.txt\"\n",
    "\n",
    "train_data = pd.read_csv(train_data_file, sep=\"\\t\",encoding=\"utf-8\")\n",
    "test_data = pd.read_csv(test_data_file, sep=\"\\t\", encoding=\"utf-8\")"
   ]
  },
  {
   "cell_type": "markdown",
   "metadata": {},
   "source": [
    "# 4 模型训练\n"
   ]
  },
  {
   "cell_type": "markdown",
   "metadata": {},
   "source": [
    "## 4.2.1 导入相关库"
   ]
  },
  {
   "cell_type": "code",
   "execution_count": 3,
   "metadata": {},
   "outputs": [],
   "source": [
    "from sklearn.linear_model import LinearRegression  #线性回归\n",
    "from sklearn.neighbors import KNeighborsRegressor  #K近邻回归\n",
    "from sklearn.tree import DecisionTreeRegressor     #决策树回归\n",
    "from sklearn.ensemble import RandomForestRegressor #随机森林回归\n",
    "from sklearn.svm import SVR  #支持向量回归\n",
    "import lightgbm as lgb #lightGbm模型\n",
    "\n",
    "from sklearn.model_selection import train_test_split # 切分数据\n",
    "from sklearn.metrics import mean_squared_error #评价指标\n",
    "\n",
    "from sklearn.model_selection import learning_curve\n",
    "from sklearn.model_selection import ShuffleSplit"
   ]
  },
  {
   "cell_type": "markdown",
   "metadata": {},
   "source": [
    "## 4.2.2 切分数据"
   ]
  },
  {
   "cell_type": "code",
   "execution_count": 4,
   "metadata": {},
   "outputs": [
    {
     "data": {
      "text/html": [
       "<div>\n",
       "<style scoped>\n",
       "    .dataframe tbody tr th:only-of-type {\n",
       "        vertical-align: middle;\n",
       "    }\n",
       "\n",
       "    .dataframe tbody tr th {\n",
       "        vertical-align: top;\n",
       "    }\n",
       "\n",
       "    .dataframe thead th {\n",
       "        text-align: right;\n",
       "    }\n",
       "</style>\n",
       "<table border=\"1\" class=\"dataframe\">\n",
       "  <thead>\n",
       "    <tr style=\"text-align: right;\">\n",
       "      <th></th>\n",
       "      <th>0</th>\n",
       "      <th>1</th>\n",
       "      <th>2</th>\n",
       "      <th>3</th>\n",
       "      <th>4</th>\n",
       "      <th>5</th>\n",
       "      <th>6</th>\n",
       "      <th>7</th>\n",
       "      <th>8</th>\n",
       "      <th>9</th>\n",
       "      <th>...</th>\n",
       "      <th>11</th>\n",
       "      <th>12</th>\n",
       "      <th>13</th>\n",
       "      <th>14</th>\n",
       "      <th>15</th>\n",
       "      <th>16</th>\n",
       "      <th>17</th>\n",
       "      <th>18</th>\n",
       "      <th>19</th>\n",
       "      <th>target</th>\n",
       "    </tr>\n",
       "  </thead>\n",
       "  <tbody>\n",
       "    <tr>\n",
       "      <th>count</th>\n",
       "      <td>2.888000e+03</td>\n",
       "      <td>2.888000e+03</td>\n",
       "      <td>2.888000e+03</td>\n",
       "      <td>2.888000e+03</td>\n",
       "      <td>2.888000e+03</td>\n",
       "      <td>2.888000e+03</td>\n",
       "      <td>2.888000e+03</td>\n",
       "      <td>2.888000e+03</td>\n",
       "      <td>2.888000e+03</td>\n",
       "      <td>2.888000e+03</td>\n",
       "      <td>...</td>\n",
       "      <td>2.888000e+03</td>\n",
       "      <td>2.888000e+03</td>\n",
       "      <td>2.888000e+03</td>\n",
       "      <td>2.888000e+03</td>\n",
       "      <td>2.888000e+03</td>\n",
       "      <td>2.888000e+03</td>\n",
       "      <td>2.888000e+03</td>\n",
       "      <td>2.888000e+03</td>\n",
       "      <td>2.888000e+03</td>\n",
       "      <td>2888.000000</td>\n",
       "    </tr>\n",
       "    <tr>\n",
       "      <th>mean</th>\n",
       "      <td>1.039555e-16</td>\n",
       "      <td>6.727459e-18</td>\n",
       "      <td>3.836574e-17</td>\n",
       "      <td>3.190738e-18</td>\n",
       "      <td>6.004738e-17</td>\n",
       "      <td>2.867820e-17</td>\n",
       "      <td>-1.232086e-17</td>\n",
       "      <td>2.838027e-17</td>\n",
       "      <td>-3.419472e-17</td>\n",
       "      <td>1.345011e-17</td>\n",
       "      <td>...</td>\n",
       "      <td>-5.381968e-19</td>\n",
       "      <td>-1.659760e-17</td>\n",
       "      <td>2.848599e-17</td>\n",
       "      <td>-3.500922e-17</td>\n",
       "      <td>-3.435569e-17</td>\n",
       "      <td>1.395467e-17</td>\n",
       "      <td>-8.373765e-17</td>\n",
       "      <td>4.433343e-17</td>\n",
       "      <td>-6.958115e-18</td>\n",
       "      <td>0.126353</td>\n",
       "    </tr>\n",
       "    <tr>\n",
       "      <th>std</th>\n",
       "      <td>3.985421e-01</td>\n",
       "      <td>3.490520e-01</td>\n",
       "      <td>2.938955e-01</td>\n",
       "      <td>2.722600e-01</td>\n",
       "      <td>2.035064e-01</td>\n",
       "      <td>1.961281e-01</td>\n",
       "      <td>1.861363e-01</td>\n",
       "      <td>1.607591e-01</td>\n",
       "      <td>1.513411e-01</td>\n",
       "      <td>1.442443e-01</td>\n",
       "      <td>...</td>\n",
       "      <td>1.289251e-01</td>\n",
       "      <td>1.181146e-01</td>\n",
       "      <td>1.148697e-01</td>\n",
       "      <td>1.113406e-01</td>\n",
       "      <td>1.018260e-01</td>\n",
       "      <td>9.585053e-02</td>\n",
       "      <td>9.149580e-02</td>\n",
       "      <td>8.393826e-02</td>\n",
       "      <td>8.190898e-02</td>\n",
       "      <td>0.983966</td>\n",
       "    </tr>\n",
       "    <tr>\n",
       "      <th>min</th>\n",
       "      <td>-1.070204e+00</td>\n",
       "      <td>-9.382404e-01</td>\n",
       "      <td>-1.019585e+00</td>\n",
       "      <td>-6.853347e-01</td>\n",
       "      <td>-7.648509e-01</td>\n",
       "      <td>-5.531376e-01</td>\n",
       "      <td>-5.727510e-01</td>\n",
       "      <td>-5.914083e-01</td>\n",
       "      <td>-6.297522e-01</td>\n",
       "      <td>-4.842131e-01</td>\n",
       "      <td>...</td>\n",
       "      <td>-5.773973e-01</td>\n",
       "      <td>-4.258712e-01</td>\n",
       "      <td>-4.576412e-01</td>\n",
       "      <td>-3.888960e-01</td>\n",
       "      <td>-3.658579e-01</td>\n",
       "      <td>-4.574524e-01</td>\n",
       "      <td>-3.528615e-01</td>\n",
       "      <td>-3.401657e-01</td>\n",
       "      <td>-2.816284e-01</td>\n",
       "      <td>-3.044000</td>\n",
       "    </tr>\n",
       "    <tr>\n",
       "      <th>25%</th>\n",
       "      <td>-2.802786e-01</td>\n",
       "      <td>-2.603790e-01</td>\n",
       "      <td>-2.062572e-01</td>\n",
       "      <td>-1.971748e-01</td>\n",
       "      <td>-1.250776e-01</td>\n",
       "      <td>-1.246339e-01</td>\n",
       "      <td>-1.256336e-01</td>\n",
       "      <td>-1.009689e-01</td>\n",
       "      <td>-9.717828e-02</td>\n",
       "      <td>-9.245411e-02</td>\n",
       "      <td>...</td>\n",
       "      <td>-7.805577e-02</td>\n",
       "      <td>-7.327538e-02</td>\n",
       "      <td>-7.525674e-02</td>\n",
       "      <td>-7.156570e-02</td>\n",
       "      <td>-6.565231e-02</td>\n",
       "      <td>-5.748351e-02</td>\n",
       "      <td>-6.059756e-02</td>\n",
       "      <td>-5.280777e-02</td>\n",
       "      <td>-5.070524e-02</td>\n",
       "      <td>-0.350250</td>\n",
       "    </tr>\n",
       "    <tr>\n",
       "      <th>50%</th>\n",
       "      <td>-1.551054e-02</td>\n",
       "      <td>-8.985867e-03</td>\n",
       "      <td>-1.862128e-02</td>\n",
       "      <td>-2.277698e-02</td>\n",
       "      <td>-4.541365e-03</td>\n",
       "      <td>-1.473143e-02</td>\n",
       "      <td>1.033570e-04</td>\n",
       "      <td>-5.335135e-03</td>\n",
       "      <td>2.214191e-03</td>\n",
       "      <td>-2.135596e-03</td>\n",
       "      <td>...</td>\n",
       "      <td>-5.016301e-03</td>\n",
       "      <td>-7.593646e-03</td>\n",
       "      <td>6.604729e-05</td>\n",
       "      <td>-2.201764e-03</td>\n",
       "      <td>-1.059611e-03</td>\n",
       "      <td>-4.374851e-03</td>\n",
       "      <td>2.924076e-03</td>\n",
       "      <td>-1.280537e-03</td>\n",
       "      <td>7.265520e-04</td>\n",
       "      <td>0.313000</td>\n",
       "    </tr>\n",
       "    <tr>\n",
       "      <th>75%</th>\n",
       "      <td>2.275077e-01</td>\n",
       "      <td>2.322535e-01</td>\n",
       "      <td>2.133431e-01</td>\n",
       "      <td>1.680986e-01</td>\n",
       "      <td>1.236219e-01</td>\n",
       "      <td>1.020631e-01</td>\n",
       "      <td>1.271116e-01</td>\n",
       "      <td>9.692888e-02</td>\n",
       "      <td>1.005325e-01</td>\n",
       "      <td>9.123200e-02</td>\n",
       "      <td>...</td>\n",
       "      <td>7.162226e-02</td>\n",
       "      <td>6.871951e-02</td>\n",
       "      <td>7.942442e-02</td>\n",
       "      <td>6.896065e-02</td>\n",
       "      <td>6.298074e-02</td>\n",
       "      <td>5.666983e-02</td>\n",
       "      <td>6.048361e-02</td>\n",
       "      <td>5.009373e-02</td>\n",
       "      <td>5.425216e-02</td>\n",
       "      <td>0.793250</td>\n",
       "    </tr>\n",
       "    <tr>\n",
       "      <th>max</th>\n",
       "      <td>1.603357e+00</td>\n",
       "      <td>1.351734e+00</td>\n",
       "      <td>1.021067e+00</td>\n",
       "      <td>1.423139e+00</td>\n",
       "      <td>9.969989e-01</td>\n",
       "      <td>1.301563e+00</td>\n",
       "      <td>6.259154e-01</td>\n",
       "      <td>7.454770e-01</td>\n",
       "      <td>6.420087e-01</td>\n",
       "      <td>5.824542e-01</td>\n",
       "      <td>...</td>\n",
       "      <td>6.543877e-01</td>\n",
       "      <td>5.559756e-01</td>\n",
       "      <td>5.139705e-01</td>\n",
       "      <td>5.040193e-01</td>\n",
       "      <td>4.505913e-01</td>\n",
       "      <td>5.214863e-01</td>\n",
       "      <td>3.540508e-01</td>\n",
       "      <td>4.409993e-01</td>\n",
       "      <td>3.503572e-01</td>\n",
       "      <td>2.538000</td>\n",
       "    </tr>\n",
       "  </tbody>\n",
       "</table>\n",
       "<p>8 rows × 21 columns</p>\n",
       "</div>"
      ],
      "text/plain": [
       "                  0             1             2             3             4  \\\n",
       "count  2.888000e+03  2.888000e+03  2.888000e+03  2.888000e+03  2.888000e+03   \n",
       "mean   1.039555e-16  6.727459e-18  3.836574e-17  3.190738e-18  6.004738e-17   \n",
       "std    3.985421e-01  3.490520e-01  2.938955e-01  2.722600e-01  2.035064e-01   \n",
       "min   -1.070204e+00 -9.382404e-01 -1.019585e+00 -6.853347e-01 -7.648509e-01   \n",
       "25%   -2.802786e-01 -2.603790e-01 -2.062572e-01 -1.971748e-01 -1.250776e-01   \n",
       "50%   -1.551054e-02 -8.985867e-03 -1.862128e-02 -2.277698e-02 -4.541365e-03   \n",
       "75%    2.275077e-01  2.322535e-01  2.133431e-01  1.680986e-01  1.236219e-01   \n",
       "max    1.603357e+00  1.351734e+00  1.021067e+00  1.423139e+00  9.969989e-01   \n",
       "\n",
       "                  5             6             7             8             9  \\\n",
       "count  2.888000e+03  2.888000e+03  2.888000e+03  2.888000e+03  2.888000e+03   \n",
       "mean   2.867820e-17 -1.232086e-17  2.838027e-17 -3.419472e-17  1.345011e-17   \n",
       "std    1.961281e-01  1.861363e-01  1.607591e-01  1.513411e-01  1.442443e-01   \n",
       "min   -5.531376e-01 -5.727510e-01 -5.914083e-01 -6.297522e-01 -4.842131e-01   \n",
       "25%   -1.246339e-01 -1.256336e-01 -1.009689e-01 -9.717828e-02 -9.245411e-02   \n",
       "50%   -1.473143e-02  1.033570e-04 -5.335135e-03  2.214191e-03 -2.135596e-03   \n",
       "75%    1.020631e-01  1.271116e-01  9.692888e-02  1.005325e-01  9.123200e-02   \n",
       "max    1.301563e+00  6.259154e-01  7.454770e-01  6.420087e-01  5.824542e-01   \n",
       "\n",
       "       ...            11            12            13            14  \\\n",
       "count  ...  2.888000e+03  2.888000e+03  2.888000e+03  2.888000e+03   \n",
       "mean   ... -5.381968e-19 -1.659760e-17  2.848599e-17 -3.500922e-17   \n",
       "std    ...  1.289251e-01  1.181146e-01  1.148697e-01  1.113406e-01   \n",
       "min    ... -5.773973e-01 -4.258712e-01 -4.576412e-01 -3.888960e-01   \n",
       "25%    ... -7.805577e-02 -7.327538e-02 -7.525674e-02 -7.156570e-02   \n",
       "50%    ... -5.016301e-03 -7.593646e-03  6.604729e-05 -2.201764e-03   \n",
       "75%    ...  7.162226e-02  6.871951e-02  7.942442e-02  6.896065e-02   \n",
       "max    ...  6.543877e-01  5.559756e-01  5.139705e-01  5.040193e-01   \n",
       "\n",
       "                 15            16            17            18            19  \\\n",
       "count  2.888000e+03  2.888000e+03  2.888000e+03  2.888000e+03  2.888000e+03   \n",
       "mean  -3.435569e-17  1.395467e-17 -8.373765e-17  4.433343e-17 -6.958115e-18   \n",
       "std    1.018260e-01  9.585053e-02  9.149580e-02  8.393826e-02  8.190898e-02   \n",
       "min   -3.658579e-01 -4.574524e-01 -3.528615e-01 -3.401657e-01 -2.816284e-01   \n",
       "25%   -6.565231e-02 -5.748351e-02 -6.059756e-02 -5.280777e-02 -5.070524e-02   \n",
       "50%   -1.059611e-03 -4.374851e-03  2.924076e-03 -1.280537e-03  7.265520e-04   \n",
       "75%    6.298074e-02  5.666983e-02  6.048361e-02  5.009373e-02  5.425216e-02   \n",
       "max    4.505913e-01  5.214863e-01  3.540508e-01  4.409993e-01  3.503572e-01   \n",
       "\n",
       "            target  \n",
       "count  2888.000000  \n",
       "mean      0.126353  \n",
       "std       0.983966  \n",
       "min      -3.044000  \n",
       "25%      -0.350250  \n",
       "50%       0.313000  \n",
       "75%       0.793250  \n",
       "max       2.538000  \n",
       "\n",
       "[8 rows x 21 columns]"
      ]
     },
     "execution_count": 4,
     "metadata": {},
     "output_type": "execute_result"
    }
   ],
   "source": [
    "from sklearn import preprocessing\n",
    "\n",
    "features_columns = [col for col in train_data.columns if col not in ['target']]\n",
    "min_max_scaler = preprocessing.MinMaxScaler()\n",
    "min_max_scaler = min_max_scaler.fit(train_data[features_columns]) \n",
    "\n",
    "train_data_scaler = min_max_scaler.transform(train_data[features_columns])\n",
    "test_data_scaler = min_max_scaler.transform(test_data[features_columns])\n",
    "\n",
    "train_data_scaler = pd.DataFrame(train_data_scaler)\n",
    "train_data_scaler.columns = features_columns\n",
    "\n",
    "test_data_scaler = pd.DataFrame(test_data_scaler)\n",
    "test_data_scaler.columns = features_columns\n",
    "train_data_scaler['target'] = train_data['target']\n",
    "\n",
    "#display(train_data_scaler.describe())\n",
    "#display(test_data_scaler.describe())\n",
    "\n",
    "from sklearn.decomposition import PCA\n",
    "\n",
    "pca = PCA(n_components = 0.9)\n",
    "new_train_pca_90 = pca.fit_transform(train_data_scaler.iloc[:,0:-1])\n",
    "new_test_pca_90 = pca.transform(test_data_scaler)\n",
    "new_train_pca_90 = pd.DataFrame(new_train_pca_90)\n",
    "new_test_pca_90 = pd.DataFrame(new_test_pca_90)\n",
    "new_train_pca_90['target'] = train_data_scaler['target']\n",
    "#display(new_train_pca_90.describe())\n",
    "\n",
    "#保留16个主成分\n",
    "pca = PCA(n_components=0.95)\n",
    "new_train_pca_16 = pca.fit_transform(train_data_scaler.iloc[:,0:-1])\n",
    "new_test_pca_16 = pca.transform(test_data_scaler)\n",
    "new_train_pca_16 = pd.DataFrame(new_train_pca_16)\n",
    "new_test_pca_16 = pd.DataFrame(new_test_pca_16)\n",
    "new_train_pca_16['target'] = train_data_scaler['target']\n",
    "new_train_pca_16.describe()"
   ]
  },
  {
   "cell_type": "code",
   "execution_count": 5,
   "metadata": {},
   "outputs": [],
   "source": [
    "#采用 pca 保留16维特征的数据\n",
    "new_train_pca_16 = new_train_pca_16.fillna(0)\n",
    "train = new_train_pca_16[new_test_pca_16.columns]\n",
    "target = new_train_pca_16['target']\n",
    "\n",
    "# 切分数据 训练数据80% 验证数据20%\n",
    "train_data,test_data,train_target,test_target=train_test_split(train,target,test_size=0.2,random_state=0)"
   ]
  },
  {
   "cell_type": "markdown",
   "metadata": {},
   "source": [
    "## 4.2.3 多元线性回归"
   ]
  },
  {
   "cell_type": "code",
   "execution_count": 6,
   "metadata": {},
   "outputs": [
    {
     "name": "stdout",
     "output_type": "stream",
     "text": [
      "LinearRegression:    0.1346823608106283\n"
     ]
    }
   ],
   "source": [
    "clf = LinearRegression()\n",
    "clf.fit(train_data, train_target)\n",
    "score = mean_squared_error(test_target, clf.predict(test_data))\n",
    "print(\"LinearRegression:   \", score)"
   ]
  },
  {
   "cell_type": "markdown",
   "metadata": {},
   "source": [
    "## 4.2.4 K近邻算法"
   ]
  },
  {
   "cell_type": "code",
   "execution_count": 7,
   "metadata": {},
   "outputs": [
    {
     "name": "stdout",
     "output_type": "stream",
     "text": [
      "KNeighborsRegressor:  0.20105180414684257\n"
     ]
    }
   ],
   "source": [
    "clf = KNeighborsRegressor(n_neighbors=8)\n",
    "clf.fit(train_data, train_target)\n",
    "score = mean_squared_error(test_target, clf.predict(test_data))\n",
    "print(\"KNeighborsRegressor: \", score)"
   ]
  },
  {
   "cell_type": "markdown",
   "metadata": {},
   "source": [
    "## 4.2.5 随机森林回归"
   ]
  },
  {
   "cell_type": "code",
   "execution_count": 8,
   "metadata": {},
   "outputs": [
    {
     "name": "stdout",
     "output_type": "stream",
     "text": [
      "RandomForestRegressor:    0.15927152624519897\n"
     ]
    }
   ],
   "source": [
    "clf = RandomForestRegressor(n_estimators=200) # 200棵树模型\n",
    "clf.fit(train_data, train_target)\n",
    "score = mean_squared_error(test_target, clf.predict(test_data))\n",
    "print(\"RandomForestRegressor:   \", score)"
   ]
  },
  {
   "cell_type": "markdown",
   "metadata": {},
   "source": [
    "## 4.2.x 决策树"
   ]
  },
  {
   "cell_type": "code",
   "execution_count": 9,
   "metadata": {},
   "outputs": [
    {
     "name": "stdout",
     "output_type": "stream",
     "text": [
      "DecisionTreeRegressor:    0.338023223183391\n"
     ]
    }
   ],
   "source": [
    "clf = DecisionTreeRegressor() \n",
    "clf.fit(train_data, train_target)\n",
    "score = mean_squared_error(test_target, clf.predict(test_data))\n",
    "print(\"DecisionTreeRegressor:   \", score)"
   ]
  },
  {
   "cell_type": "markdown",
   "metadata": {},
   "source": [
    "## 4.2.6 LGB 模型回归"
   ]
  },
  {
   "cell_type": "code",
   "execution_count": 10,
   "metadata": {},
   "outputs": [
    {
     "name": "stdout",
     "output_type": "stream",
     "text": [
      "lightGbm:   0.13718190135507638\n"
     ]
    }
   ],
   "source": [
    "clf = lgb.LGBMRegressor(\n",
    "    learning_rate = 0.01,\n",
    "    max_depth=-1,\n",
    "    n_estimators=5000,\n",
    "    boosting_type='gbdt',\n",
    "    random_state=2019,\n",
    "    objective='regression'\n",
    ")\n",
    "clf.fit(X=train_data, y=train_target, eval_metric=\"MSE\", verbose=50)\n",
    "\n",
    "score = mean_squared_error(test_target, clf.predict(test_data))\n",
    "print(\"lightGbm:  \", score)"
   ]
  },
  {
   "cell_type": "code",
   "execution_count": null,
   "metadata": {},
   "outputs": [],
   "source": []
  },
  {
   "cell_type": "code",
   "execution_count": null,
   "metadata": {},
   "outputs": [],
   "source": []
  }
 ],
 "metadata": {
  "kernelspec": {
   "display_name": "Python 3",
   "language": "python",
   "name": "python3"
  },
  "language_info": {
   "codemirror_mode": {
    "name": "ipython",
    "version": 3
   },
   "file_extension": ".py",
   "mimetype": "text/x-python",
   "name": "python",
   "nbconvert_exporter": "python",
   "pygments_lexer": "ipython3",
   "version": "3.8.5"
  }
 },
 "nbformat": 4,
 "nbformat_minor": 4
}
