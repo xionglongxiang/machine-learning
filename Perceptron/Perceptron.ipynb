{
 "cells": [
  {
   "cell_type": "code",
   "execution_count": 21,
   "metadata": {},
   "outputs": [],
   "source": [
    "import pandas as pd\n",
    "import numpy as np\n",
    "\n",
    "df = pd.read_csv('https://archive.ics.uci.edu/ml/machine-learning-databases/iris/iris.data', header=None)"
   ]
  },
  {
   "cell_type": "code",
   "execution_count": 141,
   "metadata": {},
   "outputs": [],
   "source": [
    "X = df.iloc[0:100, [0, 2]].values\n",
    "y = df.iloc[0:100, 4].values\n",
    "y = np.where(y == 'Iris-setosa', -1, 1)"
   ]
  },
  {
   "cell_type": "code",
   "execution_count": 142,
   "metadata": {},
   "outputs": [
    {
     "data": {
      "text/plain": [
       "array([-1, -1, -1, -1, -1, -1, -1, -1, -1, -1, -1, -1, -1, -1, -1, -1, -1,\n",
       "       -1, -1, -1, -1, -1, -1, -1, -1, -1, -1, -1, -1, -1, -1, -1, -1, -1,\n",
       "       -1, -1, -1, -1, -1, -1, -1, -1, -1, -1, -1, -1, -1, -1, -1, -1,  1,\n",
       "        1,  1,  1,  1,  1,  1,  1,  1,  1,  1,  1,  1,  1,  1,  1,  1,  1,\n",
       "        1,  1,  1,  1,  1,  1,  1,  1,  1,  1,  1,  1,  1,  1,  1,  1,  1,\n",
       "        1,  1,  1,  1,  1,  1,  1,  1,  1,  1,  1,  1,  1,  1,  1])"
      ]
     },
     "execution_count": 142,
     "metadata": {},
     "output_type": "execute_result"
    }
   ],
   "source": [
    "y"
   ]
  },
  {
   "cell_type": "code",
   "execution_count": 162,
   "metadata": {},
   "outputs": [],
   "source": [
    "class Perceptron(object):\n",
    "    \"\"\"Perceptron classifier.\n",
    "\n",
    "    Parameters\n",
    "    ------------\n",
    "    eta : float\n",
    "      Learning rate (between 0.0 and 1.0)\n",
    "    n_iter : int\n",
    "      Passes over the training dataset.\n",
    "    random_state : int\n",
    "      Random number generator seed for random weight\n",
    "      initialization.\n",
    "\n",
    "    Attributes\n",
    "    -----------\n",
    "    w_ : 1d-array\n",
    "      Weights after fitting.\n",
    "    errors_ : list\n",
    "      Number of misclassifications (updates) in each epoch.\n",
    "\n",
    "    \"\"\"\n",
    "    def __init__(self, eta=0.01, n_iter=50, random_state=1):\n",
    "        self.eta = eta\n",
    "        self.n_iter = n_iter\n",
    "        self.random_state = random_state\n",
    "        self.history = []\n",
    "\n",
    "    def fit(self, X, y):\n",
    "        \"\"\"Fit training data.\n",
    "\n",
    "        Parameters\n",
    "        ----------\n",
    "        X : {array-like}, shape = [n_samples, n_features]\n",
    "          Training vectors, where n_samples is the number of samples and\n",
    "          n_features is the number of features.\n",
    "        y : array-like, shape = [n_samples]\n",
    "          Target values.\n",
    "\n",
    "        Returns\n",
    "        -------\n",
    "        self : object\n",
    "\n",
    "        \"\"\"\n",
    "        rgen = np.random.RandomState(self.random_state)\n",
    "        self.w_ = rgen.normal(loc=0.0, scale=0.01, size=1 + X.shape[1])\n",
    "        print(self.w_)\n",
    "        self.errors_ = []\n",
    "        \n",
    "        for _ in range(self.n_iter):\n",
    "            errors = 0\n",
    "            for xi, target in zip(X, y):\n",
    "                d = self.predict(xi)\n",
    "                diff = (target - d)\n",
    "                update = self.eta * diff\n",
    "                self.w_[1:] += update * xi\n",
    "                self.w_[0] += update\n",
    "                errors += int(update != 0.0)\n",
    "            print(self.w_)\n",
    "            self.errors_.append(errors)\n",
    "        \n",
    "        return self\n",
    "\n",
    "    def net_input(self, X):\n",
    "        \"\"\"Calculate net input\"\"\"\n",
    "        return np.dot(X, self.w_[1:]) + self.w_[0]\n",
    "\n",
    "    def predict(self, X):\n",
    "        \"\"\"Return class label after unit step\"\"\"\n",
    "        return np.where(self.net_input(X) >= 0.0, 1, -1)\n",
    "\n",
    "\n"
   ]
  },
  {
   "cell_type": "code",
   "execution_count": 163,
   "metadata": {},
   "outputs": [
    {
     "name": "stdout",
     "output_type": "stream",
     "text": [
      "[ 0.01624345 -0.00611756 -0.00528172]\n",
      "[0.03624345 0.13388244 0.08871828]\n",
      "[0.01624345 0.07388244 0.12671828]\n",
      "[-0.00375655  0.01988244  0.16271828]\n",
      "[-0.00375655  0.03188244  0.20471828]\n",
      "[-0.02375655 -0.07011756  0.17671828]\n",
      "[-0.02375655 -0.07011756  0.17671828]\n",
      "[-0.02375655 -0.07011756  0.17671828]\n",
      "[-0.02375655 -0.07011756  0.17671828]\n",
      "[-0.02375655 -0.07011756  0.17671828]\n",
      "[-0.02375655 -0.07011756  0.17671828]\n",
      "[-0.02375655 -0.07011756  0.17671828]\n",
      "[-0.02375655 -0.07011756  0.17671828]\n",
      "[-0.02375655 -0.07011756  0.17671828]\n",
      "[-0.02375655 -0.07011756  0.17671828]\n",
      "[-0.02375655 -0.07011756  0.17671828]\n",
      "[-0.02375655 -0.07011756  0.17671828]\n",
      "[-0.02375655 -0.07011756  0.17671828]\n",
      "[-0.02375655 -0.07011756  0.17671828]\n",
      "[-0.02375655 -0.07011756  0.17671828]\n",
      "[-0.02375655 -0.07011756  0.17671828]\n",
      "[-0.02375655 -0.07011756  0.17671828]\n",
      "[-0.02375655 -0.07011756  0.17671828]\n",
      "[-0.02375655 -0.07011756  0.17671828]\n",
      "[-0.02375655 -0.07011756  0.17671828]\n",
      "[-0.02375655 -0.07011756  0.17671828]\n",
      "[-0.02375655 -0.07011756  0.17671828]\n",
      "[-0.02375655 -0.07011756  0.17671828]\n",
      "[-0.02375655 -0.07011756  0.17671828]\n",
      "[-0.02375655 -0.07011756  0.17671828]\n",
      "[-0.02375655 -0.07011756  0.17671828]\n",
      "[-0.02375655 -0.07011756  0.17671828]\n",
      "[-0.02375655 -0.07011756  0.17671828]\n",
      "[-0.02375655 -0.07011756  0.17671828]\n",
      "[-0.02375655 -0.07011756  0.17671828]\n",
      "[-0.02375655 -0.07011756  0.17671828]\n",
      "[-0.02375655 -0.07011756  0.17671828]\n",
      "[-0.02375655 -0.07011756  0.17671828]\n",
      "[-0.02375655 -0.07011756  0.17671828]\n",
      "[-0.02375655 -0.07011756  0.17671828]\n",
      "[-0.02375655 -0.07011756  0.17671828]\n",
      "[-0.02375655 -0.07011756  0.17671828]\n",
      "[-0.02375655 -0.07011756  0.17671828]\n",
      "[-0.02375655 -0.07011756  0.17671828]\n",
      "[-0.02375655 -0.07011756  0.17671828]\n",
      "[-0.02375655 -0.07011756  0.17671828]\n",
      "[-0.02375655 -0.07011756  0.17671828]\n",
      "[-0.02375655 -0.07011756  0.17671828]\n",
      "[-0.02375655 -0.07011756  0.17671828]\n",
      "[-0.02375655 -0.07011756  0.17671828]\n",
      "[-0.02375655 -0.07011756  0.17671828]\n"
     ]
    },
    {
     "data": {
      "text/plain": [
       "array(-1)"
      ]
     },
     "execution_count": 163,
     "metadata": {},
     "output_type": "execute_result"
    }
   ],
   "source": [
    "per = Perceptron(eta=0.01, n_iter=50, random_state=1)\n",
    "per.fit(X, y)\n",
    "per.predict(X[0])"
   ]
  },
  {
   "cell_type": "code",
   "execution_count": null,
   "metadata": {},
   "outputs": [],
   "source": []
  },
  {
   "cell_type": "code",
   "execution_count": null,
   "metadata": {},
   "outputs": [],
   "source": []
  }
 ],
 "metadata": {
  "kernelspec": {
   "display_name": "Python 3",
   "language": "python",
   "name": "python3"
  },
  "language_info": {
   "codemirror_mode": {
    "name": "ipython",
    "version": 3
   },
   "file_extension": ".py",
   "mimetype": "text/x-python",
   "name": "python",
   "nbconvert_exporter": "python",
   "pygments_lexer": "ipython3",
   "version": "3.8.5"
  }
 },
 "nbformat": 4,
 "nbformat_minor": 4
}
