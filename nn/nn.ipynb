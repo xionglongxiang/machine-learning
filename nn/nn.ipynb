{
 "cells": [
  {
   "cell_type": "code",
   "execution_count": 2,
   "metadata": {},
   "outputs": [],
   "source": [
    "from sklearn import datasets\n",
    "\n",
    "digits = datasets.load_digits()\n",
    "# digits"
   ]
  },
  {
   "cell_type": "code",
   "execution_count": 3,
   "metadata": {},
   "outputs": [
    {
     "name": "stdout",
     "output_type": "stream",
     "text": [
      "标签为: 0\n"
     ]
    },
    {
     "data": {
      "text/plain": [
       "<matplotlib.image.AxesImage at 0x7fc250bd78e0>"
      ]
     },
     "execution_count": 3,
     "metadata": {},
     "output_type": "execute_result"
    },
    {
     "data": {
      "image/png": "[encoded data removed]",
      "text/plain": [
       "<Figure size 432x288 with 1 Axes>"
      ]
     },
     "metadata": {
      "needs_background": "light"
     },
     "output_type": "display_data"
    }
   ],
   "source": [
    "from matplotlib import pyplot as plt\n",
    "%matplotlib inline\n",
    "\n",
    "image1 = digits.images[0]\n",
    "print(\"标签为:\", digits.target[0])\n",
    "plt.imshow(image1, cmap=plt.cm.gray_r)"
   ]
  },
  {
   "cell_type": "code",
   "execution_count": 19,
   "metadata": {},
   "outputs": [],
   "source": [
    "import numpy as np\n",
    "\n",
    "\n",
    "class FullyConnect:\n",
    "    # 面向对象中的构造函数，初始化该类的时候，会被调用\n",
    "    # 传入参数 len_x 为输入数据的特征长度（也就是第一层的神经元个数）\n",
    "    # len_y 为输出数据的个数（也就是第二层的神经元个数）\n",
    "    def __init__(self, len_x, len_y):\n",
    "        # 使用随机数初始化参数，请暂时忽略这里为什么多了 np.sqrt(l_x)\n",
    "        # 从上面的 w 的矩阵形式可以发现， m 个神经元的网络层到n个神经元的网络层之间的 w 矩阵的大小为( n*m )\n",
    "        self.weights = np.random.randn(len_y, len_x) / np.sqrt(len_x)\n",
    "        self.bias = np.random.randn(len_y, 1)  # 使用随机数初始化参数，bias 的个数之后输出层的个数有关\n",
    "        self.lr = 0  # 先将学习速率初始化为 0 ，最后统一设置学习速率\n",
    "\n",
    "    # 全连接的正向传播过程，输入的便是训练数据\n",
    "    def forward(self, x):\n",
    "        self.x = x  # 把中间结果保存下来，以备反向传播时使用\n",
    "        # 计算全连接层的输出，也就是上面矩阵乘法公式的代码表示\n",
    "        self.y = np.array([np.dot(self.weights, xx) + self.bias for xx in x])\n",
    "        return self.y  # 将这一层计算的结果向前传递"
   ]
  },
  {
   "cell_type": "code",
   "execution_count": 20,
   "metadata": {},
   "outputs": [
    {
     "data": {
      "text/plain": [
       "(2, 64)"
      ]
     },
     "execution_count": 20,
     "metadata": {},
     "output_type": "execute_result"
    }
   ],
   "source": [
    "digits.data[0:2].shape"
   ]
  },
  {
   "cell_type": "code",
   "execution_count": 6,
   "metadata": {},
   "outputs": [
    {
     "data": {
      "text/plain": [
       "array([[[13.80675023]],\n",
       "\n",
       "       [[13.27172982]]])"
      ]
     },
     "execution_count": 6,
     "metadata": {},
     "output_type": "execute_result"
    }
   ],
   "source": [
    "fully_connet = FullyConnect(64, 1)  # 传入网络层1，网络层2的长度\n",
    "full_result = fully_connet.forward(digits.data[0:2])\n",
    "full_result  # 这里只传入两条数据用于测试。得到产品v'p。一次正向传播后，两张图片的预测值"
   ]
  },
  {
   "cell_type": "code",
   "execution_count": 23,
   "metadata": {},
   "outputs": [],
   "source": [
    "class Sigmoid:\n",
    "    def __init__(self):  # 无参数，不需初始化\n",
    "        pass\n",
    "    # 这里输入的变量的 x，其实就是上面公式的 z\n",
    "\n",
    "    def sigmoid(self, x):\n",
    "        return 1 / (1 + np.exp(-x))\n",
    "\n",
    "    # 完成正向传播，将输入的 z ，放入 Sigmoid 函数中，最终得到结果 h，并返回\n",
    "    def forward(self, x):\n",
    "        self.x = x\n",
    "        self.y = self.sigmoid(x)\n",
    "        return self.y"
   ]
  },
  {
   "cell_type": "code",
   "execution_count": 24,
   "metadata": {},
   "outputs": [
    {
     "name": "stdout",
     "output_type": "stream",
     "text": [
      "0.5\n"
     ]
    },
    {
     "data": {
      "text/plain": [
       "Text(0, 0.5, 'g(z)')"
      ]
     },
     "execution_count": 24,
     "metadata": {},
     "output_type": "execute_result"
    },
    {
     "data": {
      "image/png": "[encoded data removed]",
      "text/plain": [
       "<Figure size 432x288 with 1 Axes>"
      ]
     },
     "metadata": {
      "needs_background": "light"
     },
     "output_type": "display_data"
    }
   ],
   "source": [
    "sig = Sigmoid()\n",
    "print(sig.sigmoid(0))  # 当 z=0 时，正确输出应该是 0.5\n",
    "%matplotlib inline\n",
    "z = np.linspace(-6, 6, 1000)  # 生成等间距 z 值方便绘图\n",
    "plt.plot(z, sig.sigmoid(z))\n",
    "plt.grid(1)  # 生成网格，方便观察\n",
    "plt.xlabel(\"z\")\n",
    "plt.ylabel(\"g(z)\")"
   ]
  },
  {
   "cell_type": "code",
   "execution_count": 25,
   "metadata": {},
   "outputs": [],
   "source": [
    "class QuadraticLoss:\n",
    "    def __init__(self):\n",
    "        pass\n",
    "    # 传入的参数，第一个参数为预测出来的标签值，第二个参数为实际标签值\n",
    "    def forward(self, x, label):\n",
    "        # 将真实 label 转换成独热编码\n",
    "        self.x = x\n",
    "        # 由于我们的label本身只包含一个数字，我们需要将其转换成和模型输出值尺寸相匹配的向量形式\n",
    "        self.label = np.zeros_like(x)\n",
    "        for a, b in zip(self.label, label):\n",
    "            a[b] = 1.0  # 只有正确标签所代表的位置概率为1，其他为 0\n",
    "        # 计算损失\n",
    "        self.loss = np.sum(np.square(x - self.label)) / \\\n",
    "            self.x.shape[0] / 2  # 求平均后再除以 2 是为了表示方便\n",
    "        return self.loss"
   ]
  },
  {
   "cell_type": "code",
   "execution_count": 21,
   "metadata": {},
   "outputs": [
    {
     "name": "stdout",
     "output_type": "stream",
     "text": [
      "实际为阴天和预测值为晴天的平均损失是： 1.0\n",
      "实际为雪天和预测值为晴天的平均损失是： 1.0\n"
     ]
    }
   ],
   "source": [
    "# 测试\n",
    "loss = QuadraticLoss()\n",
    "# 假设神经网络算出样本的预测值为0，即为晴天\n",
    "pred = np.zeros((1, 4))\n",
    "pred[0][0] = 1\n",
    "print(\"实际为阴天和预测值为晴天的平均损失是：\", loss.forward(pred, [1]))\n",
    "print(\"实际为雪天和预测值为晴天的平均损失是：\", loss.forward(pred, [2]))"
   ]
  },
  {
   "cell_type": "code",
   "execution_count": 26,
   "metadata": {},
   "outputs": [],
   "source": [
    "class Accuracy:\n",
    "    def __init__(self):\n",
    "        pass\n",
    "\n",
    "    def forward(self, x, label):  # 只需forward\n",
    "        self.accuracy = np.sum(\n",
    "            [np.argmax(xx) == ll for xx, ll in zip(x, label)])  # 对预测正确的实例数求和\n",
    "        self.accuracy = 1.0 * self.accuracy / x.shape[0]  # 也就是计算正确率 ,公式 7 的实现\n",
    "        return self.accuracy"
   ]
  },
  {
   "cell_type": "code",
   "execution_count": 27,
   "metadata": {},
   "outputs": [
    {
     "name": "stdout",
     "output_type": "stream",
     "text": [
      "loss: 16.00154339670781 accuracy: 0.07178631051752922\n"
     ]
    }
   ],
   "source": [
    "# 图片大小为 8*8\n",
    "# 则此时一张图片就是一条数据，每张图片对呀一个 label（0-9范围内）\n",
    "x = digits.data\n",
    "labels = digits.target\n",
    "\n",
    "# 开始搭建神经网络\n",
    "inner_layers = []\n",
    "inner_layers.append(FullyConnect(8 * 8, 10))\n",
    "inner_layers.append(Sigmoid())\n",
    "# 神经网络搭建完成\n",
    "\n",
    "losslayer = QuadraticLoss()  # 计算损失\n",
    "accuracy = Accuracy()  # 计算准确率\n",
    "\n",
    "# 开始将数据送入神经网络进行正向传播\n",
    "for layer in inner_layers:  # 前向计算\n",
    "    x = layer.forward(x)\n",
    "\n",
    "loss = losslayer.forward(x, labels)  # 调用损失层forward函数计算损失函数值\n",
    "accu = accuracy.forward(x, labels)\n",
    "print('loss:', loss, 'accuracy:', accu)"
   ]
  },
  {
   "cell_type": "code",
   "execution_count": 28,
   "metadata": {},
   "outputs": [],
   "source": [
    "class QuadraticLoss:\n",
    "    def __init__(self):\n",
    "        pass\n",
    "    # 正向传播和上文一样，具体注释参照上文\n",
    "    def forward(self, x, label):\n",
    "        self.x = x\n",
    "        self.label = np.zeros_like(x)\n",
    "        for a, b in zip(self.label, label):\n",
    "            a[b] = 1.0\n",
    "        # 对公式 8 实现\n",
    "        self.loss = np.sum(np.square(x - self.label)) / \\\n",
    "        self.x.shape[0] / 2  # 求平均后再除以2是为了表示方便\n",
    "        return self.loss\n",
    "\n",
    "    # 定义反向传播\n",
    "    def backward(self):\n",
    "        # 这里的dx，就是我们求得函数关于x偏导数，也就是梯度，将它保存起来，后面更新的时候会用到\n",
    "        self.dx = (self.x - self.label) / self.x.shape[0]  # 2被抵消掉了\n",
    "        return self.dx"
   ]
  },
  {
   "cell_type": "code",
   "execution_count": 29,
   "metadata": {},
   "outputs": [],
   "source": [
    "class Sigmoid:\n",
    "    def __init__(self):  # 无参数，不需初始化\n",
    "        pass\n",
    "    # 即公式 5\n",
    "    def sigmoid(self, x):\n",
    "        return 1 / (1 + np.exp(-x))\n",
    "\n",
    "    def forward(self, x):\n",
    "        self.x = x\n",
    "        self.y = self.sigmoid(x)\n",
    "        return self.y\n",
    "    # 即公式 9\n",
    "    def backward(self, d):\n",
    "        sig = self.sigmoid(self.x)\n",
    "        self.dx = d * sig * (1 - sig)\n",
    "        return self.dx  # 反向传递梯度"
   ]
  },
  {
   "cell_type": "code",
   "execution_count": 30,
   "metadata": {},
   "outputs": [],
   "source": []
  },
  {
   "cell_type": "code",
   "execution_count": 31,
   "metadata": {},
   "outputs": [
    {
     "data": {
      "text/plain": [
       "((1500, 64), (1500,), (296, 64), (296,))"
      ]
     },
     "execution_count": 31,
     "metadata": {},
     "output_type": "execute_result"
    }
   ],
   "source": [
    "train_data,train_target = digits.data[:1500],digits.target[:1500]\n",
    "test_data,test_target = digits.data[1500:-1],digits.target[1500:-1]\n",
    "train_data.shape,train_target.shape,test_data.shape,test_target.shape"
   ]
  },
  {
   "cell_type": "code",
   "execution_count": 32,
   "metadata": {},
   "outputs": [
    {
     "data": {
      "text/plain": [
       "[<__main__.FullyConnect at 0x7fc23c91f970>,\n",
       " <__main__.Sigmoid at 0x7fc23c91fee0>,\n",
       " <__main__.FullyConnect at 0x7fc23c91f610>,\n",
       " <__main__.Sigmoid at 0x7fc23c91ffd0>]"
      ]
     },
     "execution_count": 32,
     "metadata": {},
     "output_type": "execute_result"
    }
   ],
   "source": [
    "inner_layers = []\n",
    "inner_layers.append(FullyConnect(64, 60)) # 因为每条数据的长度为 8*8=64，因此这里第一个全连接层，接收长度为64\n",
    "inner_layers.append(Sigmoid())\n",
    "inner_layers.append(FullyConnect(60, 10))\n",
    "inner_layers.append(Sigmoid())\n",
    "inner_layers"
   ]
  },
  {
   "cell_type": "code",
   "execution_count": 37,
   "metadata": {},
   "outputs": [
    {
     "data": {
      "text/plain": [
       "(<__main__.QuadraticLoss at 0x7fc23c91fb20>,\n",
       " <__main__.Accuracy at 0x7fc23c91f9d0>,\n",
       " 350)"
      ]
     },
     "execution_count": 37,
     "metadata": {},
     "output_type": "execute_result"
    }
   ],
   "source": [
    "losslayer = QuadraticLoss()\n",
    "accuracy = Accuracy()\n",
    "for layer in inner_layers:\n",
    "    layer.lr = 1000     #所有中间层设置学习速率\n",
    "epochs = 350  # 对训练数据遍历的次数，也就是学习时间。\n",
    "#在开始的时候，准确率会随之学习时间的增加而提高。\n",
    "#当模型学习完训练数据中的所有信息后，准确率就会趋于稳定\n",
    "losslayer,accuracy,epochs"
   ]
  },
  {
   "cell_type": "code",
   "execution_count": 38,
   "metadata": {},
   "outputs": [
    {
     "name": "stdout",
     "output_type": "stream",
     "text": [
      "epochs:0,loss:0.03198908237421847,test_accuracy:0.9087837837837838\n",
      "epochs:10,loss:0.0311821036539467,test_accuracy:0.9121621621621622\n",
      "epochs:20,loss:0.03041386168242786,test_accuracy:0.9121621621621622\n",
      "epochs:30,loss:0.02968178795674537,test_accuracy:0.9121621621621622\n",
      "epochs:40,loss:0.028983514926377248,test_accuracy:0.9121621621621622\n",
      "epochs:50,loss:0.02831685310656628,test_accuracy:0.9121621621621622\n",
      "epochs:60,loss:0.027679775432468755,test_accuracy:0.9121621621621622\n",
      "epochs:70,loss:0.027070404017356275,test_accuracy:0.9121621621621622\n",
      "epochs:80,loss:0.026486998128938885,test_accuracy:0.9121621621621622\n",
      "epochs:90,loss:0.02592794330408344,test_accuracy:0.9121621621621622\n",
      "epochs:100,loss:0.025391741525404465,test_accuracy:0.9121621621621622\n",
      "epochs:110,loss:0.024877002191520982,test_accuracy:0.9121621621621622\n",
      "epochs:120,loss:0.024382433561848528,test_accuracy:0.9121621621621622\n",
      "epochs:130,loss:0.023906834459372056,test_accuracy:0.9121621621621622\n",
      "epochs:140,loss:0.023449086184533285,test_accuracy:0.9121621621621622\n",
      "epochs:150,loss:0.02300814477415807,test_accuracy:0.9121621621621622\n",
      "epochs:160,loss:0.02258303394179226,test_accuracy:0.9121621621621622\n",
      "epochs:170,loss:0.022172839315267274,test_accuracy:0.9121621621621622\n",
      "epochs:180,loss:0.021776704983542734,test_accuracy:0.9121621621621622\n",
      "epochs:190,loss:0.021393833769571557,test_accuracy:0.9155405405405406\n",
      "epochs:200,loss:0.021023492550182123,test_accuracy:0.9155405405405406\n",
      "epochs:210,loss:0.020665022242867002,test_accuracy:0.918918918918919\n",
      "epochs:220,loss:0.020317847804244463,test_accuracy:0.918918918918919\n",
      "epochs:230,loss:0.01998147862011042,test_accuracy:0.918918918918919\n",
      "epochs:240,loss:0.019655490738357866,test_accuracy:0.918918918918919\n",
      "epochs:250,loss:0.019339494165902613,test_accuracy:0.918918918918919\n",
      "epochs:260,loss:0.019033101426078447,test_accuracy:0.918918918918919\n",
      "epochs:270,loss:0.01873591206550945,test_accuracy:0.918918918918919\n",
      "epochs:280,loss:0.018447513904125648,test_accuracy:0.918918918918919\n",
      "epochs:290,loss:0.018167492007713566,test_accuracy:0.918918918918919\n",
      "epochs:300,loss:0.01789543719201966,test_accuracy:0.918918918918919\n",
      "epochs:310,loss:0.017630951057277088,test_accuracy:0.918918918918919\n",
      "epochs:320,loss:0.017373647993345006,test_accuracy:0.918918918918919\n",
      "epochs:330,loss:0.017123155418394858,test_accuracy:0.918918918918919\n",
      "epochs:340,loss:0.016879113179540006,test_accuracy:0.918918918918919\n"
     ]
    }
   ],
   "source": [
    "for i in range(epochs):\n",
    "   \n",
    "    losssum = 0\n",
    "    iters = 0\n",
    "    x = train_data\n",
    "    label = train_target\n",
    "    x = x.reshape(-1,64,1)\n",
    "    for layer in inner_layers:  # 前向计算\n",
    "        x = layer.forward(x)\n",
    "    loss = losslayer.forward(x, label)  # 调用损失层forward函数计算损失函数值\n",
    "    losssum += loss\n",
    "    iters += 1\n",
    "    d = losslayer.backward()  # 调用损失层backward函数层计算将要反向传播的梯度\n",
    "\n",
    "    for layer in inner_layers[::-1]:  # 反向传播\n",
    "        d = layer.backward(d)\n",
    "\n",
    "    if i%10==0: \n",
    "        x = test_data\n",
    "        label = test_target\n",
    "        x = x.reshape(-1,64,1)\n",
    "        for layer in inner_layers:\n",
    "            x = layer.forward(x)\n",
    "            \n",
    "        accu = accuracy.forward(x, label)  # 调用准确率层forward()函数求出准确率\n",
    "        print('epochs:{},loss:{},test_accuracy:{}'.format(i,losssum / iters,accu))"
   ]
  },
  {
   "cell_type": "markdown",
   "metadata": {},
   "source": [
    "##### "
   ]
  }
 ],
 "metadata": {
  "kernelspec": {
   "display_name": "Python 3",
   "language": "python",
   "name": "python3"
  },
  "language_info": {
   "codemirror_mode": {
    "name": "ipython",
    "version": 3
   },
   "file_extension": ".py",
   "mimetype": "text/x-python",
   "name": "python",
   "nbconvert_exporter": "python",
   "pygments_lexer": "ipython3",
   "version": "3.8.5"
  }
 },
 "nbformat": 4,
 "nbformat_minor": 4
}
