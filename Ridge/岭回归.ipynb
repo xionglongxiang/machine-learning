{
 "cells": [
  {
   "cell_type": "code",
   "execution_count": 8,
   "metadata": {},
   "outputs": [],
   "source": [
    "import numpy as np \n",
    "from sklearn.preprocessing import PolynomialFeatures\n",
    "from sklearn.preprocessing import StandardScaler\n",
    "from sklearn.model_selection import train_test_split\n",
    "from sklearn.pipeline import Pipeline\n",
    "from sklearn.linear_model import LinearRegression\n",
    "from sklearn.metrics import mean_squared_error\n",
    "from sklearn.linear_model import Ridge\n",
    "from sklearn.linear_model import Lasso"
   ]
  },
  {
   "cell_type": "code",
   "execution_count": 3,
   "metadata": {},
   "outputs": [],
   "source": [
    "# 模拟数据集\n",
    "np.random.seed(42)\n",
    "x = np.random.uniform(-1.0,3.0,size=100)\n",
    "X = x.reshape(-1,1)\n",
    "y = 0.5 * x + 3 + np.random.normal(0,1,size=100)\n",
    "np.random.seed(666)\n",
    "X_train,X_test,y_train,y_test = train_test_split(X,y)"
   ]
  },
  {
   "cell_type": "code",
   "execution_count": 4,
   "metadata": {},
   "outputs": [],
   "source": [
    "# 使用多项式回归\n",
    "def PolynomialRegression(degree):\n",
    "  return Pipeline([\n",
    "    ('poly', PolynomialFeatures(degree=degree)),\n",
    "    ('std_scaler', StandardScaler()),\n",
    "    ('lin_reg', LinearRegression())\n",
    "])"
   ]
  },
  {
   "cell_type": "code",
   "execution_count": 5,
   "metadata": {},
   "outputs": [
    {
     "name": "stdout",
     "output_type": "stream",
     "text": [
      "167.94121073582812\n"
     ]
    }
   ],
   "source": [
    "poly_reg = PolynomialRegression(degree=20)\n",
    "poly_reg.fit(X_train,y_train)\n",
    "y_poly_predict = poly_reg.predict(X_test)\n",
    "mse = mean_squared_error(y_test,y_poly_predict)\n",
    "\n",
    "print(mse)  # 输出为：167.94061213110385"
   ]
  },
  {
   "cell_type": "code",
   "execution_count": 6,
   "metadata": {},
   "outputs": [
    {
     "name": "stdout",
     "output_type": "stream",
     "text": [
      "1.1959639082957148\n"
     ]
    }
   ],
   "source": [
    "# 使用岭回归\n",
    "def RidgeRegression(degree,alpha):\n",
    "  return Pipeline([\n",
    "    ('poly', PolynomialFeatures(degree=degree)),\n",
    "    ('std_scaler', StandardScaler()),\n",
    "    ('lin_reg', Ridge(alpha=alpha))\n",
    "])\n",
    "\n",
    "ridge_reg = RidgeRegression(20,0.01)\n",
    "ridge_reg.fit(X_train,y_train)\n",
    "y_ridge_predict = ridge_reg.predict(X_test)\n",
    "mse2 = mean_squared_error(y_ridge_predict,y_test)\n",
    "print(mse2)  # 输出为：1.1959639082957925 与mse对比可得岭回归更优"
   ]
  },
  {
   "cell_type": "code",
   "execution_count": 9,
   "metadata": {},
   "outputs": [
    {
     "name": "stdout",
     "output_type": "stream",
     "text": [
      "1.1048334401791602\n"
     ]
    }
   ],
   "source": [
    "# 使用LASSO回归\n",
    "def LassoRegression(degree,alpha):\n",
    "  return Pipeline([\n",
    "    ('poly', PolynomialFeatures(degree=degree)),\n",
    "    ('std_scaler', StandardScaler()),\n",
    "    ('lin_reg', Lasso(alpha=alpha))\n",
    "])\n",
    "\n",
    "lasso_reg = LassoRegression(20,0.01)\n",
    "lasso_reg.fit(X_train,y_train)\n",
    "y_lasso_predict = lasso_reg.predict(X_test)\n",
    "mse2 = mean_squared_error(y_lasso_predict,y_test)\n",
    "print(mse2)  # 输出为：1.1048334401791602"
   ]
  },
  {
   "cell_type": "code",
   "execution_count": null,
   "metadata": {},
   "outputs": [],
   "source": []
  }
 ],
 "metadata": {
  "kernelspec": {
   "display_name": "Python 3",
   "language": "python",
   "name": "python3"
  },
  "language_info": {
   "codemirror_mode": {
    "name": "ipython",
    "version": 3
   },
   "file_extension": ".py",
   "mimetype": "text/x-python",
   "name": "python",
   "nbconvert_exporter": "python",
   "pygments_lexer": "ipython3",
   "version": "3.8.5"
  }
 },
 "nbformat": 4,
 "nbformat_minor": 4
}
