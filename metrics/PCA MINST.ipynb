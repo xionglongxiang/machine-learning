{
 "cells": [
  {
   "cell_type": "code",
   "execution_count": 1,
   "metadata": {},
   "outputs": [],
   "source": [
    "import numpy as np \n",
    "from sklearn.decomposition import PCA\n",
    "from sklearn.datasets import fetch_openml\n",
    "from sklearn.neighbors import KNeighborsClassifier"
   ]
  },
  {
   "cell_type": "code",
   "execution_count": 4,
   "metadata": {},
   "outputs": [],
   "source": [
    "mnist = fetch_openml('mnist_784')"
   ]
  },
  {
   "cell_type": "code",
   "execution_count": 5,
   "metadata": {},
   "outputs": [],
   "source": [
    "X,y = mnist['data'],mnist['target']"
   ]
  },
  {
   "cell_type": "code",
   "execution_count": 6,
   "metadata": {},
   "outputs": [
    {
     "data": {
      "text/plain": [
       "Counter({'5': 6313,\n",
       "         '0': 6903,\n",
       "         '4': 6824,\n",
       "         '1': 7877,\n",
       "         '9': 6958,\n",
       "         '2': 6990,\n",
       "         '3': 7141,\n",
       "         '6': 6876,\n",
       "         '7': 7293,\n",
       "         '8': 6825})"
      ]
     },
     "execution_count": 6,
     "metadata": {},
     "output_type": "execute_result"
    }
   ],
   "source": [
    "from collections import Counter\n",
    "Counter(y)"
   ]
  },
  {
   "cell_type": "code",
   "execution_count": 7,
   "metadata": {},
   "outputs": [
    {
     "name": "stdout",
     "output_type": "stream",
     "text": [
      "0.2754\n"
     ]
    }
   ],
   "source": [
    "X_train = np.array(X[:60000],dtype=float)\n",
    "y_train = np.array(y[:60000],dtype=float)\n",
    "X_test = np.array(X[60000:],dtype=float)\n",
    "y_test = np.array(y[60000:],dtype=float)\n",
    "\n",
    "# 用PCA对数据进行降维\n",
    "pca = PCA(1)  #也可以指定识别率，自动确定降维后的维数\n",
    "pca.fit(X_train)\n",
    "X_train_reduction = pca.transform(X_train)\n",
    "X_test_reduction = pca.transform(X_test)\n",
    "\n",
    "\n",
    "# 将降维后的数据用kNN进行分析\n",
    "knn_clf = KNeighborsClassifier()\n",
    "knn_clf.fit(X_train_reduction,y_train)\n",
    "score = knn_clf.score(X_test_reduction,y_test)\n",
    "print(score)"
   ]
  },
  {
   "cell_type": "code",
   "execution_count": 8,
   "metadata": {},
   "outputs": [
    {
     "data": {
      "text/plain": [
       "[]"
      ]
     },
     "execution_count": 8,
     "metadata": {},
     "output_type": "execute_result"
    }
   ],
   "source": [
    "score = []\n",
    "r = list(range(10, 201, 10))\n",
    "score"
   ]
  },
  {
   "cell_type": "code",
   "execution_count": 11,
   "metadata": {},
   "outputs": [],
   "source": [
    "for i in r:\n",
    "    pca = PCA(i)  #也可以指定识别率，自动确定降维后的维数\n",
    "    pca.fit(X_train)\n",
    "    X_train_reduction = pca.transform(X_train)\n",
    "    X_test_reduction = pca.transform(X_test)\n",
    "\n",
    "\n",
    "    # 将降维后的数据用kNN进行分析\n",
    "    knn_clf = KNeighborsClassifier()\n",
    "    knn_clf.fit(X_train_reduction,y_train)\n",
    "    score += [knn_clf.score(X_test_reduction,y_test)]"
   ]
  },
  {
   "cell_type": "code",
   "execution_count": 17,
   "metadata": {},
   "outputs": [],
   "source": [
    "score = score[20:]"
   ]
  },
  {
   "cell_type": "code",
   "execution_count": 18,
   "metadata": {},
   "outputs": [
    {
     "data": {
      "text/plain": [
       "[0.9276,\n",
       " 0.9692,\n",
       " 0.9754,\n",
       " 0.9747,\n",
       " 0.9749,\n",
       " 0.975,\n",
       " 0.9745,\n",
       " 0.9742,\n",
       " 0.9725,\n",
       " 0.9728,\n",
       " 0.9728,\n",
       " 0.9722,\n",
       " 0.972,\n",
       " 0.9714,\n",
       " 0.9717,\n",
       " 0.9712,\n",
       " 0.9706,\n",
       " 0.9699,\n",
       " 0.9707,\n",
       " 0.9696]"
      ]
     },
     "execution_count": 18,
     "metadata": {},
     "output_type": "execute_result"
    }
   ],
   "source": [
    "score"
   ]
  },
  {
   "cell_type": "code",
   "execution_count": 20,
   "metadata": {},
   "outputs": [
    {
     "data": {
      "text/plain": [
       "<matplotlib.collections.PathCollection at 0x7fe02c4efb80>"
      ]
     },
     "execution_count": 20,
     "metadata": {},
     "output_type": "execute_result"
    },
    {
     "data": {
      "image/png": "[encoded data removed]",
      "text/plain": [
       "<Figure size 432x288 with 1 Axes>"
      ]
     },
     "metadata": {
      "needs_background": "light"
     },
     "output_type": "display_data"
    }
   ],
   "source": [
    "import matplotlib.pyplot as plt\n",
    "plt.scatter(r, score)"
   ]
  },
  {
   "cell_type": "code",
   "execution_count": null,
   "metadata": {},
   "outputs": [],
   "source": [
    "plt.show"
   ]
  }
 ],
 "metadata": {
  "kernelspec": {
   "display_name": "Python 3",
   "language": "python",
   "name": "python3"
  },
  "language_info": {
   "codemirror_mode": {
    "name": "ipython",
    "version": 3
   },
   "file_extension": ".py",
   "mimetype": "text/x-python",
   "name": "python",
   "nbconvert_exporter": "python",
   "pygments_lexer": "ipython3",
   "version": "3.8.5"
  }
 },
 "nbformat": 4,
 "nbformat_minor": 4
}
